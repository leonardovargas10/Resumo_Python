{
 "cells": [
  {
   "cell_type": "markdown",
   "metadata": {},
   "source": [
    "> CONSULTAR: \n",
    "\n",
    "https://www.iugu.com/iugu4devs/blog/git-a-ferramenta-que-nao-pode-faltar-para-desenvolvedores\n",
    "\n",
    "https://www.youtube.com/watch?v=dBZZ3I9GqLE&list=PL-t7zzWJWPtz29fAf72nG3KTJrRdvCmgn&ab_channel=UniversoDiscreto\n",
    "\n",
    "https://github.com/UnseenWizzard/git_training\n",
    "\n",
    "https://www.youtube.com/watch?v=cmFsVwHMt90&list=PLshkB4NQEfC6I0181tHdGv8NS25DdZAEM&ab_channel=IuryRosal"
   ]
  },
  {
   "cell_type": "markdown",
   "metadata": {},
   "source": [
    "# <font color='red' style='font-size: 40px;'> Comandos Fundamentais </font>\n",
    "<hr style='border: 2px solid red;'>\n",
    "\n",
    "> CONSULTAR: \n",
    "\n",
    "https://gist.github.com/adammacias/bb358a90a4f4cea50b41"
   ]
  },
  {
   "cell_type": "markdown",
   "metadata": {},
   "source": [
    "## Comandos Fundamentais \n",
    "\n",
    "*git init* - cria o arquivo .git em um diretório local, tornando ele um diretório com git iniciado;\n",
    "\n",
    "*git remote add origin <url>* - conecta um repositório remoto ao seu diretório git local;\n",
    "\n",
    "*git clone <url>* - realiza o clone de um repositório git, trazendo ele para sua máquina já com o git iniciado. (Obs.: é necessário entrar na pasta após realizar o clone);\n",
    "\n",
    "*git status* - verifica o status dos arquivos na branch atual;\n",
    "\n",
    "*git add <arquivo>* - adiciona o arquivo ao stage;\n",
    "\n",
    "*git add .* - adiciona todos os arquivos ao stage. (Obs.: O ponto é importante!);\n",
    "\n",
    "*git commit* - realiza o commit dos arquios em stage. (Obs.: abre o editor de texto padrão do sistema);\n",
    "\n",
    "*git commit -m \"sua mensagem de commit\"* - realiza o commit dos arquivos em stage, adicionando a mensagem que foi adicionada ao fim. (Obs.: não abre o editor de texto);\n",
    "\n",
    "*git push* - envia os arquivos commitados para o repositório remoto;\n",
    "\n",
    "*git push -u origin nome_da_branch* - envia arquivos em uma branch que ainda não existe no repositório remoto;\n",
    "\n",
    "*git pull* - recebe as alterações da branch principal no sue repositório remoto;\n",
    "\n",
    "*git branch* - lista todas as branchs na sua máquina;\n",
    "\n",
    "*git branch -a* - lista todas as branchs, incluindo as branches remotas ainda não utilizadas na sua máquina;\n",
    "\n",
    "*git checkout nome_da_branch* - sai da branch atual e vai para uma branch já existente;\n",
    "\n",
    "*git checkout -b nova_branch* - sai da branch atual, cria a nova branch e entra nela;\n",
    "\n",
    "*git fetch* - recebe todas as branchs existentes no repositório remoto;\n",
    "\n",
    "<img src = './img1.png' width = '7000%'>"
   ]
  },
  {
   "cell_type": "markdown",
   "metadata": {},
   "source": [
    "# <font color='red' style='font-size: 40px;'> 1.0 Introdução </font>\n",
    "<hr style='border: 2px solid red;'>"
   ]
  },
  {
   "cell_type": "markdown",
   "metadata": {},
   "source": [
    "## 1.1) O que é Controle de Versão? \n",
    "\n",
    "> 1. Uma técnica que ajuda a gerenciar o código-fonte de uma aplicação \n",
    "\n",
    "> 2. Registrando todas as modificações de código, podendo também reverter as mesmas; \n",
    "\n",
    "> 3. Criar versões e um Software em diferentes estágios, podendo alterar facilmente entre elas; \n",
    "\n",
    "> 4. Cada membro da equipe pode trabalhar em uma versão diferente; \n",
    "\n",
    "> 5. Há ferramentas para trabalhar o controle de versão como: GIT e SVN "
   ]
  },
  {
   "cell_type": "markdown",
   "metadata": {},
   "source": [
    "## 1.2) O que é GIT? \n",
    "\n",
    "> 1. É o sistema de controle de versão mais utilizado do mundo atualmente;\n",
    "\n",
    "> 2. O GIT é baseado em repositórios, que contêm todas as versões do código e também as cópias de cada desenvolvedor;\n",
    "\n",
    "> 3. Todas as operações do GIT são otimizadas para ter alto desempenho;\n",
    "\n",
    "> 4. Todos os objetos do GIT são protegidos com criptografia para evitar alterações indevidas e maliciosas;\n",
    "\n",
    "> 5. O GIT é um projeto de código aberto;"
   ]
  },
  {
   "cell_type": "markdown",
   "metadata": {},
   "source": [
    "## 1.3) Como aproveitar o Curso?\n",
    "\n",
    "> 1. Codifique junto comigo;\n",
    "\n",
    "> 2. Crie seus prórpios exemplos;\n",
    "\n",
    "> 3. Crie outros casos utilizando os recursos aprendidos no curso e também mesclando eles; \n",
    "\n",
    "> 4. Dica bônus: ouça e depois pratique! "
   ]
  },
  {
   "cell_type": "markdown",
   "metadata": {},
   "source": [
    "# <font color='red' style='font-size: 40px;'> 2.0 GIT Fundamental </font>\n",
    "<hr style='border: 2px solid red;'>\n",
    "\n",
    "> CONSULTAR:\n",
    "\n",
    "https://gist.github.com/adammacias/bb358a90a4f4cea50b41"
   ]
  },
  {
   "cell_type": "markdown",
   "metadata": {},
   "source": [
    "## 2.1) O que é um Repositório\n",
    "\n",
    "> 1. É onde o código será armazenado;\n",
    "\n",
    "> 2. Na maioria das vezes cada projeto tem um repositório;\n",
    "\n",
    "> 3. Quando criamos um repositório estamos iniciando um Projeto;\n",
    "\n",
    "> 4. O repositório pode ir para servidores que sao especializados em gerenciá-los, como GitHub, GitLab e Bitbucket;\n",
    "\n",
    "> 5. Cada um dos desenvolvedores do time pode baixar o repositório e criar versoes diferentes em sua máquina;\n"
   ]
  },
  {
   "cell_type": "markdown",
   "metadata": {},
   "source": [
    "## 2.2) Criando Repositórios \n",
    "\n",
    "> 1. Para criar um repositório utilizamos o comando: **git init**;\n",
    "\n",
    "> 2. Desta maneira o GIT vai criar os arquivos necessários para inicializá-lo;\n",
    "\n",
    "> 3. Que estao na pasta oculta .git;\n",
    "\n",
    "> 4. Após este comando, o diretório atual será reconhecido pelo GIT como um projeto e responderá aos seus demais comandos;\n"
   ]
  },
  {
   "cell_type": "markdown",
   "metadata": {},
   "source": [
    "## 2.3) O que é o GitHub e o GitLab\n",
    "\n",
    "> 1. Sao serviços paraa gerenciar repositórios, gratuitos e amplamente utilizados;\n",
    "\n",
    "> 2. Podemos enviar nossos projetos para o GitHub e disponibilizá-lo para outros devs;\n",
    "\n",
    "> 3. O GitHub é gratuito tanto para projetos públicos como privados;\n",
    "\n",
    "> 4. Vamos criar uma conta em: https://github.com/"
   ]
  },
  {
   "cell_type": "markdown",
   "metadata": {},
   "source": [
    "## 2.4) Enviando Repositório para o GitHub\n",
    "\n",
    "> 1. Podemos facilmente enviar nossos repositórios para o GitHub;\n",
    "\n",
    "> 2. Precisamos criar o projeto no GitHub, inicializar o mesmo no GIT em nossa máquina, sincronizar com o GitHub e enviar;\n",
    "\n",
    "> 3. E esta sequência que parece ser complexa é facilmente executada por poucos comandos; \n",
    "\n",
    "> 4. Vale lembrar que só fazemos uma vez por projeto este fluxo; \n",
    "\n",
    "> 5. Porém alguns dos comandos utilizados vao ser úteis ao longo do curso; \n",
    "\n",
    "\n"
   ]
  },
  {
   "attachments": {},
   "cell_type": "markdown",
   "metadata": {},
   "source": [
    "## 2.5) Verificando mudanças do projeto \n",
    "\n",
    "> 1. As mudanças do projeto podem ser verificadas por: **git status**;\n",
    "\n",
    "> 2. Este comando é utilizado muito frequentemente;\n",
    "\n",
    "> 3. Aqui serao mapeadas todas as alteraçoes do projeto;\n",
    "\n",
    "> 4. Como: **arquivos nao-monitorados** e **arquivos modificados**;\n",
    "\n",
    "> 5. Podemos também dizer que é a **diferença** do que já está enviado ao servidor ou salvo no projeto;"
   ]
  },
  {
   "attachments": {},
   "cell_type": "markdown",
   "metadata": {},
   "source": [
    "## 2.6) Adicionando arqquivos ao projeto\n",
    "\n",
    "> 1. Para adicionar arquivos novos a um projeto utilizamos: **git add**;\n",
    "\n",
    "> 2. Podemos adicionar **um arquivo** específico como também **diversos de uma vez só**;\n",
    "\n",
    "> 3. Somente adicionando arquivos eles serao monitorados pelo git;\n",
    "\n",
    "> 4. Ou seja, **se nao adicionar ele nao estará no controle de versao**;\n",
    "\n",
    "> 5. É interessante utilizar este comando de tempos em tempos para nao perder algo por descuido;\n",
    "\n",
    "> 6. Para adicionar todos os arquivos de determinada pasta de uma vez utilizamos: **git add .** ;\n"
   ]
  },
  {
   "attachments": {},
   "cell_type": "markdown",
   "metadata": {},
   "source": [
    "## 2.7) Salvando alteraçoes do projeto \n",
    "\n",
    "> 1. As alteraçoes salvas do projeto sao realizadas por: **git commit**;\n",
    "\n",
    "> 2. Podemos commitar **arquivos específicos** ou vários de uma vez com a flag: **-a**;\n",
    "\n",
    "> 3. É uma boa prática enviar **uma mensagem a cada commit**, com as alteraçoes ue foram feitas;\n",
    "\n",
    "> 4. A mensagem pode ser adicionada com a flag: **-m**;\n",
    "\n"
   ]
  },
  {
   "attachments": {},
   "cell_type": "markdown",
   "metadata": {},
   "source": [
    "## 2.8) Enviando código ao repo remoto\n",
    "\n",
    "> 1. Quando finalizamos uma funcionalidade nova, **enviamos o código ao repositório remoto**, que é o código-fonte;\n",
    "\n",
    "> 2. Esta açao é feita pelo: **git push**;\n",
    "\n",
    "> 3. Após esta açao **o código do servidor será atualizado baseando-se no código local** enviado;\n",
    "\n"
   ]
  },
  {
   "attachments": {},
   "cell_type": "markdown",
   "metadata": {},
   "source": [
    "## 2.9) Recebendo as Mudanças\n",
    "\n",
    "> 1. É comum também ter que **sincronizar o local** com as mudanças do remoto; \n",
    "\n",
    "> 2. Esta açao é feita pelo: **git pull**;\n",
    "\n",
    "> 3. Após o comando serao **buscadas atualizaçoes**, se encontradas elas **serao unidas ao código atual** existente na nossa máquina; \n",
    "\n"
   ]
  },
  {
   "cell_type": "markdown",
   "metadata": {},
   "source": [
    "## 2.10) Clonando Repositórios\n",
    "\n",
    "> 1. O ato de baixar um repositório de um servidor remoto é chamado de **clonar repositório**;\n",
    "\n",
    "> 2. Para esta açao utilizamos **git clone**;\n",
    "\n",
    "> 3. Passando a **referência** do repositório remoto; \n",
    "\n",
    "> 4. Este comando é utilizado quando **entramos em um novo projeto**, por exemplo; \n",
    "\n"
   ]
  },
  {
   "cell_type": "markdown",
   "metadata": {},
   "source": [
    "## 2.11) Removendo arquivos do repo\n",
    "\n",
    "> 1. Os arquivos **podem ser deletados da monitoraçao do git**;\n",
    "\n",
    "> 2. O comando para deletar é: **git rm**;\n",
    "\n",
    "> 3. Após deletar um arquivo do git, ele nao terá mais suas atualizaçoes consideradas pelo git; \n",
    "\n",
    "> 4. Apenas uando for adicionado novamente pelo **git add**; \n",
    "\n"
   ]
  },
  {
   "attachments": {},
   "cell_type": "markdown",
   "metadata": {},
   "source": [
    "## 2.12) Histórico de Alteraçoes\n",
    "\n",
    "> 1. Podemos **acessar um log** de modificaçoes feitas no projeto; \n",
    "\n",
    "> 2. O comando para este recurso é: **git log** ;\n",
    "\n",
    "> 3. Você receberá uma informaçao dos **commits realizados** no projeto até entao no formato de texto;\n",
    "\n",
    "> 4. Para sair da tela, **apertar a tecla 'q' após os :** que aparecem;\n",
    "\n"
   ]
  },
  {
   "cell_type": "markdown",
   "metadata": {},
   "source": [
    "## 2.13) Renomeando Arquivos \n",
    "\n",
    "> 1. Com o comando **git mv** podemos renomear um arquivo; \n",
    "\n",
    "> 2. O mesmo também pode ser **movido para outra pasta**;\n",
    "\n",
    "> 3. E isso fará com que este novo arquivo **seja monitorado pelo git**;\n",
    "\n",
    "> 4. O aruqivo anterior é **excluído**;\n",
    "\n"
   ]
  },
  {
   "attachments": {},
   "cell_type": "markdown",
   "metadata": {},
   "source": [
    "## 2.14) Desfazendo alteraçoes \n",
    "\n",
    "> 1. O arquivo modificado pode ser **retornado ao estado original**;\n",
    "\n",
    "> 2. O comando utilizado é o: **git checkout**;\n",
    "\n",
    "> 3. Após a utilizaçao do mesmo o aruivo sai do staging;\n",
    "\n",
    "> 4. Caso seja feita uma próxima alteraçao, ele entra em staging novamente; \n",
    "\n"
   ]
  },
  {
   "attachments": {},
   "cell_type": "markdown",
   "metadata": {},
   "source": [
    "## 2.15) Ignorando arquivos no Projeto\n",
    "\n",
    "> 1. Uma técnica muito utilizada é **ignorar arquivos do projeto**;\n",
    "\n",
    "> 2. Devemos uma inserir um arquivo chamado **gitignore** na raiz do projeto; \n",
    "\n",
    "> 3. Nele podemos inserir todos os arquivos que nao devem entrar no versionamento;\n",
    "\n",
    "> 4. Isso é útil para **arquivos gerados automaticamente** ou arquivos que contêm **informaçoes sensíveis**;\n",
    "\n"
   ]
  },
  {
   "cell_type": "markdown",
   "metadata": {},
   "source": [
    "## 2.16) Desfazendo todas as alteraçoes \n",
    "\n",
    "> 1. Com o comando **git reset** podemos resetar as mudanças feitas;\n",
    "\n",
    "> 2. Geralmente é utilizado com a flag **--hard**;\n",
    "\n",
    "> 3. Todas as alteraçoes **commitadas** e também as **pendentes** serao excluídas;\n",
    "\n"
   ]
  },
  {
   "cell_type": "markdown",
   "metadata": {},
   "source": [
    "# <font color='red' style='font-size: 40px;'> 3.0 Trabalhando com Branches </font>\n",
    "<hr style='border: 2px solid red;'>\n",
    "\n",
    "> CONSULTAR:\n",
    "\n",
    "https://git-scm.com/book/pt-br/v2/Branches-no-Git-Branches-em-poucas-palavras#:~:text=Um%20branch%20no%20Git%20%C3%A9,novo%20commit%2C%20ele%20avan%C3%A7a%20automaticamente."
   ]
  },
  {
   "attachments": {},
   "cell_type": "markdown",
   "metadata": {},
   "source": [
    "## 3.1) O que sao Branches\n",
    "\n",
    "> 1. Branch é a forma que o git **separa as versoes dos projetos**;\n",
    "\n",
    "> 2. Quando um projeto é criado ele inicia na Branch **Main**, portanto, estávamos trabalhando nela até este ponto do curso;\n",
    "\n",
    "> 3. Geralmente, cada nova feature de um projeto **fica em um branch separado**;\n",
    "\n",
    "> 4. Após a finalizaçao das alteraçoes, os **branchs sao unidos** para ter o código-fonte final;\n",
    "\n"
   ]
  },
  {
   "attachments": {},
   "cell_type": "markdown",
   "metadata": {},
   "source": [
    "## 3.2) Criando e visualizando os branches \n",
    "\n",
    "> 1. Para visualizar os branchs disponíveis basta digitar: **git branch** ;\n",
    "\n",
    "> 2. Para criar um branch você precisa utilizar o comando: **git branch <'nome'>** ;\n",
    "\n",
    "> 3. Estas duas operaçoes sao muito utilizadas no dia a dia de um dev; \n",
    "\n"
   ]
  },
  {
   "attachments": {},
   "cell_type": "markdown",
   "metadata": {},
   "source": [
    "## 3.3) Deletando branches\n",
    "\n",
    "> 1. Podemos deletar um branch com o comando: **git branch -d <'nome'>**;\n",
    "\n",
    "> 2. **Nao é comum deletar um branch**, normalmente guardamos o histórico do trabalho;\n",
    "\n",
    "> 3. Geralmente se usa o delete quando o branch foi criado errado; \n",
    "\n"
   ]
  },
  {
   "attachments": {},
   "cell_type": "markdown",
   "metadata": {},
   "source": [
    "## 3.4) Mudando de branch\n",
    "\n",
    "> 1. Podemos mudar para outro branch utilizando o comando: **git checkout <'nome'>**;\n",
    "\n",
    "> 2. Podemos criar e mudar para outro branch utilizando o comando: **git checkout -b <'nome'>**;\n",
    "\n",
    "> 3. Este comando também é utilizado para dispensar mudanças de um arquivo;\n",
    "\n",
    "> 4. Alterando o branch podemos levar alteraçoes que nao foram commitadas junto, **tome cuidado!**; \n"
   ]
  },
  {
   "cell_type": "markdown",
   "metadata": {},
   "source": [
    "## 3.5) Unindo branches\n",
    "\n",
    "> 1. O código de dois branches distintos pode ser unido pelo comando: **git merge <'nome'>**;\n",
    "\n",
    "> 2. Outro **comando para a lista dos mais utilizados**;\n",
    "\n",
    "> 3. Normalmente é por ele que recebemos a atualizaçao do código dos outros devs; \n",
    "\n"
   ]
  },
  {
   "cell_type": "markdown",
   "metadata": {},
   "source": [
    "## 3.6) Stash\n",
    "\n",
    "> 1. Podemos salvar as modificaçoes atuais **para prosseguir com uma outra abordagem de soluçao** e nao perder o código;\n",
    "\n",
    "> 2. O comando para esta açao é o : **git stash**;\n",
    "\n",
    "> 3. Após o comando o branch será resetado para sua versao de acordo com o repo;\n"
   ]
  },
  {
   "attachments": {},
   "cell_type": "markdown",
   "metadata": {},
   "source": [
    "## 3.7) Recuperando Stash\n",
    "\n",
    "> 1. Podemos verificar as stashs criadas pelo comando: **git stash list**;\n",
    "\n",
    "> 2. E também podemos recuperar a stash com o comando: **git stash apply**;\n",
    "\n",
    "> 3. Desta maneira podemos continuar de onde paramos com os arquivos adicionados a stash;\n"
   ]
  },
  {
   "cell_type": "markdown",
   "metadata": {},
   "source": [
    "## 3.8) Removendo a Stash\n",
    "\n",
    "> 1. Para limpar totalmente as stash de um branch podemos utilizar o comando: **git stash clear**;\n",
    "\n",
    "> 2. Caso seja necessário deletar uma stash específica, podemos utilizar o comando: **git stash drop <'nome'>**;\n"
   ]
  },
  {
   "attachments": {},
   "cell_type": "markdown",
   "metadata": {},
   "source": [
    "## 3.9) Utilizando tags\\\n",
    "\n",
    "> 1. Podemos conferir quais as tags existentes por meio do comando: **git tag**';\n",
    "\n",
    "> 2. Podemos criar tags nos branches por meio do comando: **git tag -a <'nome'> -m <'msg'>**;\n",
    "\n",
    "> 3. A tag é diferente do stash, serve como um **checkpoint de um branch**;\n",
    "\n",
    "> 4. É utilizada para demarcar estágios do desenvolvimento de algum recurso;\n",
    "\n"
   ]
  },
  {
   "cell_type": "markdown",
   "metadata": {},
   "source": [
    "## 3.10) Verificando e Alterando tags\n",
    "\n",
    "> 1. Podemos verificar uma tag com o comando **git show <'nome'>**;\n",
    "\n",
    "> 2. Podemos trocar de tags com o comando: **git checkout <'nome'>**;\n",
    "\n",
    "> 3. Desta maneira podemos retroceder ou avançar em checkpoints de um branch;"
   ]
  },
  {
   "cell_type": "markdown",
   "metadata": {},
   "source": [
    "## 3.11) Enviando e compartilhando tags\n",
    "\n",
    "> 1. As tags podem ser **enviadas para o repositório de código**, sendo compartilhada entre os devs;\n",
    "\n",
    "> 2. O comando é: **git push origin <'nome'>**;\n",
    "\n",
    "> 3. Ou se você quiser enviar mais tags: **git push origin --tags**;"
   ]
  },
  {
   "attachments": {},
   "cell_type": "markdown",
   "metadata": {},
   "source": [
    "# <font color='red' style='font-size: 40px;'> 4.0 Explorando e entendendo o GitHub </font>\n",
    "<hr style='border: 2px solid red;'>"
   ]
  },
  {
   "attachments": {},
   "cell_type": "markdown",
   "metadata": {},
   "source": [
    "## 4.1) Criando repositório\n",
    "\n",
    "> 1. No **GitHub** inicializamos os repositórios, e temos algumas informaçoes importantes para preencher, vamos vë-las em detalhes;\n",
    "\n",
    "> 2. Algumas delas sao: Nome do repositório, descriçao, licença;\n",
    "\n",
    "> 3. **Tudo poderá ser alterado ao longo do seu projeto**, mas é interessante conhecer os detalhes das informaçoes para configurar um projeto;"
   ]
  },
  {
   "cell_type": "markdown",
   "metadata": {},
   "source": [
    "## 4.2) A aba Code\n",
    "\n",
    "> 1. Na aba **Code** teremos acesso a informaçoes importantes, como o próprio código fonte;\n",
    "\n",
    "> 2. Podemos checar também uma documentaçao do projeto pelo **README.md**;\n",
    "\n",
    "> 3. E os detalhes da **licença do projeto**;\n",
    "\n",
    "> 4. Criar branches, adicionar arquivos e muito mais!"
   ]
  },
  {
   "cell_type": "markdown",
   "metadata": {},
   "source": [
    "## 4.3) A aba Issue\n",
    "\n",
    "> 1. Na aba **Issue** podemos criar tarefas ou possíveis bugs do projeto;\n",
    "\n",
    "> 2. Interessante para organizaçao se manter ciente do que ainda **precisa fazer ou corrigir**;\n",
    "\n",
    "> 3. Normalmente há um padrao para criaçao de novos issues;\n",
    "\n",
    "> 4. Podemos utilizar o **Markdown** no texto também (igual o README.md);\n",
    "\n",
    "> 5. A issue deve ter uma label e também um responsável;"
   ]
  },
  {
   "attachments": {},
   "cell_type": "markdown",
   "metadata": {},
   "source": [
    "## 4.4) A aba Pull Request\n",
    "\n",
    "> 1. Na aba **Pull Request** é onde os colaboradores do projeto enviam código para resolver as **issues** ou **adicionar novas** funcionalidades do projeto;\n",
    "\n",
    "> 2. A ideia é que o código nao seja inserido direto na main e sim passe por um pull request, **para ser analisado**;\n",
    "\n",
    "> 3. O pull request vem de um **novo branch** criado no projeto e enviado para o repo, com o incremento de código;\n",
    "\n"
   ]
  },
  {
   "cell_type": "markdown",
   "metadata": {},
   "source": [
    "## 4.5) A aba Actions\n",
    "\n",
    "> 1. Na aba **Actions** é onde se cria as automatizaçoes de Deploy com integraçao em outros serviços;\n",
    "\n",
    "> 2. Incluido **CI/CD**;\n",
    "\n",
    "> 3. Ou seja, podemos criar uma rotina para atualizar a main automaticamente e outros processos;"
   ]
  },
  {
   "cell_type": "markdown",
   "metadata": {},
   "source": [
    "## 4.6) A aba Projects\n",
    "\n",
    "> 1. Na aba **Projects** podemos criar um projeto e utilizar um quadro de tarefas;\n",
    "\n",
    "> 2. Este processo é conhecido como Kanban e pode ajudar a organizar seu time, criando notas que podem virar **issues**;\n",
    "\n",
    "> 3. Estrutura interessante: Backlog, Retorno de Qualidade, Desenvolvimento, Teste, Finalizada;\n",
    "\n",
    "> 4. A tela lembra muito o softare **Trello**; "
   ]
  },
  {
   "attachments": {},
   "cell_type": "markdown",
   "metadata": {},
   "source": [
    "# <font color='red' style='font-size: 40px;'> 5.0 Markdown do Básico ao Avançado </font>\n",
    "<hr style='border: 2px solid red;'>\n",
    "\n",
    "> CONSULTAR: \n",
    "\n",
    "https://www.alura.com.br/artigos/escrever-bom-readme"
   ]
  },
  {
   "cell_type": "markdown",
   "metadata": {},
   "source": [
    "## 5.1) O que é um Markdown\n",
    "\n",
    "> 1. O **Markdown** é uma forma de adicionar estilo a textos na web;\n",
    "\n",
    "> 2. O arquivo **READ.me** aceita Markdown; \n",
    "\n",
    "> 3. Você vai conseguir exibir: trechos de código, links, imagens e muito mais; \n",
    "\n",
    "> 4. Dando uma **melhor experiência para o usuário** nas suas documentaçoes;\n",
    "\n"
   ]
  },
  {
   "attachments": {},
   "cell_type": "markdown",
   "metadata": {},
   "source": [
    "## 5.2) Cabeçalhos\n",
    "\n",
    "> 1. Os **cabeçalhos em Markdown** sao determinados pelo símbolo #;\n",
    "\n",
    "> 2. Cabeçalhos sao os famosos titulos ou headings do HTML;"
   ]
  },
  {
   "attachments": {},
   "cell_type": "markdown",
   "metadata": {},
   "source": [
    "## 5.3) Ênfase nos textos\n",
    "\n",
    "> 1. Temos símbolos que podem dar **ênfase ao texto**;\n",
    "\n",
    "> 2. Para escrever em negrito: ** texto **  ou __ texto __ ;\n",
    "\n",
    "> 3. Para escrever em itálico: * texto * ou _ texto _ ;\n",
    "\n",
    "> 4. Combinando os dois: _**texto**_"
   ]
  },
  {
   "cell_type": "markdown",
   "metadata": {},
   "source": [
    "## 5.4) Listas com markdown\n",
    "\n",
    "> 1. Temos as listas **ordenadas** e **nao ordenadas** em markdown; \n",
    "\n",
    "> 2. As listas ordenadas com: 1. item;\n",
    "\n",
    "> 3. As listas nao ordenadas começam com os itens com: * item;\n",
    "\n"
   ]
  },
  {
   "attachments": {},
   "cell_type": "markdown",
   "metadata": {},
   "source": [
    "## 5.5) Inserindo imagens e Links\n",
    "\n",
    "> 1. É possível **inserir imagens e links** em markdown também; \n",
    "\n",
    "> 2. Veja a sintaxe: ![Texto](imagem desejada) ou [!Texto Link](link desejado);\n",
    "\n",
    "> 3. A imagem pode **estar no próprio repo** ou **ser externa**;"
   ]
  },
  {
   "cell_type": "markdown",
   "metadata": {},
   "source": [
    "## 5.6) Código - GitHub\n",
    "\n",
    "> 1. Podemos inserir **código** no Markdown também;\n",
    "\n",
    "> 2. A sintaxe é: ``` código ```;\n",
    "\n",
    "> 3. Esta sintaxe é do markdown **especial do GitHub**;"
   ]
  },
  {
   "cell_type": "markdown",
   "metadata": {},
   "source": [
    "## 5.7) Task List\n",
    "\n",
    "> 1. Podemos inserir uma **lista de tarefas** pelo Markdown;\n",
    "\n",
    "> 2. A sintaxe para tarefas concluídas: - [x] Tarefa 1;\n",
    "\n",
    "> 3. Para nao concluídas: [] Tarefa 2;\n",
    "\n",
    "> 4. Esta sintaxe é do Markdown **especial do GitHub**; "
   ]
  },
  {
   "cell_type": "markdown",
   "metadata": {},
   "source": [
    "# <font color='red' style='font-size: 40px;'> 6.0 Portfólio com GitHub Pages </font>\n",
    "<hr style='border: 2px solid red;'>"
   ]
  },
  {
   "cell_type": "markdown",
   "metadata": {},
   "source": [
    "## 6.1) O que é o GitHub Pages\n",
    "\n",
    "> 1. Uma forma de criar uma página estática nos **servidores do GitHub**;\n",
    "\n",
    "> 2. Ou seja, uma alternativa **gratuita** para hospedar nosso portfólio;\n",
    "\n",
    "> 3. Muito simples de colocar no ar, **nao precisa de domínio ou servidor**;\n",
    "\n",
    "> 4. Muitas empresas utilizam para **apresentar o seu projeto** ou **a própria documentaçao**; "
   ]
  },
  {
   "cell_type": "markdown",
   "metadata": {},
   "source": [
    "## 6.2) Como criar a página\n",
    "\n",
    "> 1. Criar um repositório com o nome **nomedousuario.github.io**;\n",
    "\n",
    "> 2. Clonar o repositório no nosso computador;\n",
    "\n",
    "> 3. Adicionar o código do projeto na **branch master**;\n",
    "\n",
    "> 4. Enviar o código por meio de **push**;\n",
    "\n",
    "> 5. E pronto, você tem um site em **https://nomedousuario.github.io**"
   ]
  },
  {
   "cell_type": "code",
   "execution_count": null,
   "metadata": {},
   "outputs": [],
   "source": []
  },
  {
   "cell_type": "code",
   "execution_count": null,
   "metadata": {},
   "outputs": [],
   "source": []
  },
  {
   "cell_type": "code",
   "execution_count": null,
   "metadata": {},
   "outputs": [],
   "source": []
  },
  {
   "cell_type": "code",
   "execution_count": null,
   "metadata": {},
   "outputs": [],
   "source": []
  }
 ],
 "metadata": {
  "kernelspec": {
   "display_name": "Python 3.9.10 64-bit",
   "language": "python",
   "name": "python3"
  },
  "language_info": {
   "name": "python",
   "version": "3.9.10"
  },
  "orig_nbformat": 4,
  "vscode": {
   "interpreter": {
    "hash": "8aa39e1e7dd38883dde0d014568e747b3fa826a3fb2b94207aeab6c8068b3963"
   }
  }
 },
 "nbformat": 4,
 "nbformat_minor": 2
}
