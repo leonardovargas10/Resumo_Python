{
 "cells": [
  {
   "attachments": {},
   "cell_type": "markdown",
   "metadata": {},
   "source": [
    "<h1 style='color: blue; font-size: 34px; font-weight: bold;'> Python Orientado a Objetos\n",
    "</h1>\n",
    "\n",
    "<p style='font-size: 18px; line-height: 2; margin: 0px 0px; text-align: justify; text-indent: 0px;'>    \n",
    "<i> Este Notebook concentra os Fundamentos de Python Orientado a Objetos.  </i> \n",
    "</p>  "
   ]
  },
  {
   "cell_type": "markdown",
   "metadata": {},
   "source": [
    "# <font color='red' style='font-size: 40px;'> Library </font>\n",
    "<hr style='border: 2px solid red;'>"
   ]
  },
  {
   "cell_type": "markdown",
   "metadata": {},
   "source": [
    "> CONSULTAR:\n",
    "\n",
    "https://www.datascienceacademy.com.br/path-player?courseid=python-fundamentos&unit=5ace26d95e4cdecf818b4567Unit\n",
    "\n",
    "https://www.youtube.com/watch?v=tHXO_j4RfGw&list=PLxI8Can9yAHewZWSrlhpId71bk5N_W7W1&ab_channel=UNIVESP\n",
    "\n",
    "https://www.youtube.com/watch?v=yZ83sZUvLVw&ab_channel=ByLearn\n",
    "\n",
    "https://www.youtube.com/watch?v=jeLeW6q9Mo4&t=4s&ab_channel=pythonando\n",
    "\n",
    "https://www.youtube.com/watch?v=RLVbB91A5-8&list=PLbIBj8vQhvm34qAAEEH_PdL2tMG9rz-P7&ab_channel=Ot%C3%A1vioMiranda\n",
    "\n",
    "\n"
   ]
  },
  {
   "cell_type": "markdown",
   "metadata": {},
   "source": [
    "# <font color='red' style='font-size: 40px;'> 1) Introduçao a Programaçao Orientada a Objetos </font>\n",
    "<hr style='border: 2px solid red;'>"
   ]
  },
  {
   "cell_type": "markdown",
   "metadata": {},
   "source": [
    "## 1.1) Motivaçao\n",
    "\n",
    "> 1. A Programaçao Orientada a Objetos foi criada para tentar aproximar o mundo real e o mundo virtual. A ideia fundamental é tentar simular o mundo real dentro do computador.\n",
    "\n",
    "> 2. Na Programaçao Orientada a Objetos, o programador é responsável por moldar o mundo dos objetos e definir como eles devem interagir entre si.\n",
    "\n",
    "> 3. Os objetos conversam uns com os outros através do envio de mensagens e o papel principal do programador é definir quais serao as mensagens que cada objeto pode receber e também qual a açao que o objeto deve realizar ao receber cada mensagem.\n"
   ]
  },
  {
   "cell_type": "markdown",
   "metadata": {},
   "source": [
    "## 1.2) Programaçao Estruturada x Programaçao Orientada a Objetos \n",
    "\n",
    "> 1. Programaçao Estruturada: É uma forma de Programaçao que depende apenas de Sequência, Decisao e Iteraçao.\n",
    "\n",
    "> 2. Programaçao Orientada a Objetos: É uma forma de Programaçao que teta trazer Objetos do mundo real para serem utilizados em nossos códigos, dependendo de Classes, Atributos e Métodos."
   ]
  },
  {
   "cell_type": "markdown",
   "metadata": {},
   "source": [
    "## 1.3) Conceitos Presentes \n",
    "\n",
    "> 1. Classes\n",
    "\n",
    "> 2. Objetos\n",
    "\n",
    "> 3. Atributos\n",
    "\n",
    "> 4. Métodos\n",
    "\n",
    "> 5. Mensagem\n",
    "\n",
    "> 6. Abstraçao\n",
    "\n",
    "> 7. Herança\n",
    "\n",
    "> 8. Polimorfismo\n",
    "\n",
    "> 9. Encapsulamento "
   ]
  },
  {
   "cell_type": "markdown",
   "metadata": {},
   "source": [
    "# <font color='red' style='font-size: 40px;'> 2) Classes, Objeto, Atributos, Métodos e Mensagem </font>\n",
    "<hr style='border: 2px solid red;'>"
   ]
  },
  {
   "cell_type": "markdown",
   "metadata": {},
   "source": [
    "## 2.1) Classes\n",
    "\n",
    "> 1. A Classe é estrutura báisca do paradgima de Orientaçao a Objetos, que representa o tipo do Objeto, ou seja, um modelo a partir do qual os Objetos serao criados. Elas sao abstraçoes computacionais que representam entidades do Mundo Real.\n",
    "\n",
    "> 2. Por convençao, uma Classe sempre começa com Letra Maiúscula."
   ]
  },
  {
   "cell_type": "markdown",
   "metadata": {},
   "source": [
    "## 2.2) Objetos \n",
    "\n",
    "> 1. Um Objeto é uma instância de uma Classe que possuem Atributos (que sao Características ou Propriedades do Objeto)."
   ]
  },
  {
   "cell_type": "markdown",
   "metadata": {},
   "source": [
    "## 2.3) Atributos\n",
    "\n",
    "> 1. Sao as Características ou Propriedades do Objeto."
   ]
  },
  {
   "cell_type": "markdown",
   "metadata": {},
   "source": [
    "## 2.4) Métodos\n",
    "\n",
    "> 1. Métodos sao funçoes definidas dentro do corpo de uma Classe. Elas sao as açoes de um Objeto, ou seja, funçoes dentro de Classes que tem como objetivo manipular os Atributos do Objeto."
   ]
  },
  {
   "cell_type": "markdown",
   "metadata": {},
   "source": [
    "## 2.5) Mensagem \n",
    "\n",
    "> 1. É uma chamada para um Objeto a fim de invocar um de seus Métodos."
   ]
  },
  {
   "cell_type": "markdown",
   "metadata": {},
   "source": [
    "## 2.6) Exemplos \n",
    "\n",
    "> Neste caso, criou-se uma Classe chamada 'Cachorro', a qual tem o 'tamanho' e a 'raça' como Atributos, 'latir' como Método.\n",
    "\n",
    "> O intuito será criar um Objeto chamado 'Cachorro Golias', o qual terá todas suas próprias características.\n",
    "\n",
    "\n",
    "<img src = './img200.png' width = '70%'>\n",
    "\n",
    "<img src = './img201.png' width = '70%'>\n",
    "\n",
    "<img src = './img202.png' width = '70%'>\n",
    "\n",
    "<img src = './img203.png' width = '70%'>"
   ]
  },
  {
   "cell_type": "code",
   "execution_count": 1,
   "metadata": {},
   "outputs": [
    {
     "name": "stdout",
     "output_type": "stream",
     "text": [
      "<class 'list'>\n",
      "1\n"
     ]
    }
   ],
   "source": [
    "# Criando uma lista\n",
    "\n",
    "lista_num = ['Leonardo Vargas', 'Será', 'Um', 'Cientista de Dados e Engenheiro de Machine Learning', 'Nota', 10]\n",
    "\n",
    "# A lista 'lista_num' é um Objeto, ou seja, uma instância da Classe Lista em Python\n",
    "print(type(lista_num))\n",
    "\n",
    "# A funçao 'count' é um Método da Classe Lista que recebe os Atributos do Objeto 'lista_num'\n",
    "print(lista_num.count('Leonardo Vargas'))"
   ]
  },
  {
   "cell_type": "markdown",
   "metadata": {},
   "source": [
    "## 2.7) Construçao de uma Classe \n",
    "\n",
    "> Para criar uma Classe, utiliza-se a palavra reservada Class. O nome da sua Classe segue a mesma conveçao de nomes para criaçao de funçoes e varáveis, mas normalmente se usa a primeira Letra Maiúscula em cada palavra no nome da Classe."
   ]
  },
  {
   "cell_type": "markdown",
   "metadata": {},
   "source": [
    "* Construçao de uma Classe Livro"
   ]
  },
  {
   "cell_type": "code",
   "execution_count": 2,
   "metadata": {},
   "outputs": [
    {
     "name": "stdout",
     "output_type": "stream",
     "text": [
      "Construtor chamado para criar um Objeto desta Classe\n",
      "\n",
      "Atributos do Objeto Livro2: A Menina que Roubava Livros | 77886611\n",
      "\n",
      "Foi criado o livro A Menina que Roubava Livros e ISBN 77886611\n"
     ]
    }
   ],
   "source": [
    "# Criando uma Classe chamada Livro com parâmetros no Método Construtor\n",
    "\n",
    "class Livro():\n",
    "\n",
    "    # Este Método vai inicializar cada Objeto criado a partir desta Classe\n",
    "    # O nome deste Método é __init__\n",
    "    # Self é uma referëncia a cada Atributo de um Objeto criado a partir desta Classe\n",
    "    def __init__(self, titulo, isbn):\n",
    "\n",
    "        # Atributos de cada objeto criado a partir desta Classe.\n",
    "        # O Self indica que estes sao Atributos dos Objetos.\n",
    "        self.titulo = titulo\n",
    "        self.isbn = isbn\n",
    "        print('Construtor chamado para criar um Objeto desta Classe')\n",
    "\n",
    "    # Métodos sao funçoes, que recebem como parâmetro Atributos do Objeto criado\n",
    "    def imprime(self, titulo, isbn):\n",
    "        print(f'Foi criado o livro {titulo} e ISBN {isbn}')\n",
    "\n",
    "# Criando uma instância da Classe Livro e Criando Objetos\n",
    "Livro2 = Livro('A Menina que Roubava Livros', 77886611)\n",
    "\n",
    "# Atributo do Objeto Livro2\n",
    "print()\n",
    "print(f'Atributos do Objeto Livro2: {Livro2.titulo} | {Livro2.isbn}')\n",
    "\n",
    "# Método do Objeto Livro2\n",
    "print()\n",
    "Livro2.imprime('A Menina que Roubava Livros', 77886611)"
   ]
  },
  {
   "cell_type": "markdown",
   "metadata": {},
   "source": [
    "* Criando uma Classe Cachorro "
   ]
  },
  {
   "cell_type": "code",
   "execution_count": 3,
   "metadata": {},
   "outputs": [
    {
     "name": "stdout",
     "output_type": "stream",
     "text": [
      "Construtor chamado para criar um Objeto desta classe\n",
      "Atributo Raça: Labrador\n",
      "Construtor chamado para criar um Objeto desta classe\n",
      "Atributo Raça: Huskie\n",
      "Construtor chamado para criar um Objeto desta classe\n",
      "Atributo Raça: Yorkshire\n",
      "Construtor chamado para criar um Objeto desta classe\n",
      "Atributo Raça: Chihuahua\n",
      "Construtor chamado para criar um Objeto desta classe\n",
      "Atributo Raça: Pug\n",
      "Construtor chamado para criar um Objeto desta classe\n",
      "Atributo Raça: Vira-Lata\n"
     ]
    }
   ],
   "source": [
    "class Cachorro():\n",
    "    def __init__(self, raca):\n",
    "        self.raca = raca \n",
    "        print('Construtor chamado para criar um Objeto desta classe')\n",
    "        \n",
    "# Instância da Classe Cachorro e criaçao dos Objetos\n",
    "Rex = Cachorro(raca = 'Labrador')\n",
    "print(f'Atributo Raça: {Rex.raca}')\n",
    "Golias = Cachorro(raca = 'Huskie')\n",
    "print(f'Atributo Raça: {Golias.raca}')\n",
    "July = Cachorro(raca = 'Yorkshire')\n",
    "print(f'Atributo Raça: {July.raca}')\n",
    "Zoe = Cachorro(raca = 'Chihuahua')\n",
    "print(f'Atributo Raça: {Zoe.raca}')\n",
    "Louise = Cachorro(raca = 'Pug')\n",
    "print(f'Atributo Raça: {Louise.raca}')\n",
    "Maykewellcopliuis = Cachorro(raca = 'Vira-Lata')\n",
    "print(f'Atributo Raça: {Maykewellcopliuis.raca}')"
   ]
  },
  {
   "cell_type": "markdown",
   "metadata": {},
   "source": [
    "* Criando uma Classe Estudante"
   ]
  },
  {
   "cell_type": "code",
   "execution_count": 4,
   "metadata": {},
   "outputs": [
    {
     "name": "stdout",
     "output_type": "stream",
     "text": [
      "Pele\n",
      "12\n",
      "9.5\n"
     ]
    }
   ],
   "source": [
    "# Criando uma Classe Estudante\n",
    "class Estudantes:\n",
    "    def __init__(self, nome, idade, nota):\n",
    "        self.nome = nome\n",
    "        self.idade = idade\n",
    "        self.nota = nota\n",
    "\n",
    "# Criando um Objeto chamado Estudante1 a partir da Classe Estudantes \n",
    "Estudante1 = Estudantes('Pele', 12, 9.5)\n",
    "\n",
    "# Atributos da Classe Estudante, utilizados para cada Objeto criados a partir desta Classe\n",
    "print(Estudante1.nome)\n",
    "print(Estudante1.idade)\n",
    "print(Estudante1.nota)"
   ]
  },
  {
   "cell_type": "markdown",
   "metadata": {},
   "source": [
    "* Criando uma Classe Funcionarios "
   ]
  },
  {
   "cell_type": "code",
   "execution_count": 5,
   "metadata": {},
   "outputs": [
    {
     "name": "stdout",
     "output_type": "stream",
     "text": [
      "Leonardo Vargas\n",
      "30\n",
      "18000\n",
      "Pinheiros - SP\n",
      "PagBank\n",
      "Coordenaçao de Risco de Crédito e Fraude\n",
      "Cientista de Dados Sênior\n",
      "\n",
      "O nome do funcionário é Leonardo Vargas, com 30 anos. Ele mora em Pinheiros - SP e trabalha na PagBank, na Coordenaçao de Risco de Crédito e Fraude com o cargo de Cientista de Dados Sênior e um salário de R$18000.\n"
     ]
    }
   ],
   "source": [
    "# Criando uma Classe Funcionario\n",
    "class Funcionarios:\n",
    "    def __init__(self, nome, idade, salario, endereco, empresa, setor, cargo):\n",
    "        self.nome = nome\n",
    "        self.idade = idade\n",
    "        self.salario = salario\n",
    "        self.endereco = endereco\n",
    "        self.empresa = empresa\n",
    "        self.setor = setor\n",
    "        self.cargo = cargo\n",
    "\n",
    "    def listFunc(self):\n",
    "        print('O nome do funcionário é ' + self.nome + ', com ' + str(self.idade) + ' anos.' + ' Ele mora em ' + self.endereco + \n",
    "        ' e trabalha na ' + self.empresa + ', na ' +  self.setor + ' com o cargo de ' + self.cargo + ' e um salário de R$' + str(self.salario) + '.')\n",
    "\n",
    "# Criando um Objeto chamado Funcionario1 a partir da Classe Funcionarios \n",
    "Funcionario1 = Funcionarios('Leonardo Vargas', 30, 18000, 'Pinheiros - SP', 'PagBank', 'Coordenaçao de Risco de Crédito e Fraude', 'Cientista de Dados Sênior')\n",
    "\n",
    "# Atributos da Classe Funcionario, utilizados para cada Objeto criados a partir desta Classe\n",
    "print(Funcionario1.nome)\n",
    "print(Funcionario1.idade)\n",
    "print(Funcionario1.salario)\n",
    "print(Funcionario1.endereco)\n",
    "print(Funcionario1.empresa)\n",
    "print(Funcionario1.setor)\n",
    "print(Funcionario1.cargo)\n",
    "\n",
    "# Utilizando o Método da Classe \n",
    "print()\n",
    "Funcionario1.listFunc()\n"
   ]
  },
  {
   "cell_type": "markdown",
   "metadata": {},
   "source": [
    "* Criando uma Classe Circulo"
   ]
  },
  {
   "cell_type": "code",
   "execution_count": 6,
   "metadata": {},
   "outputs": [
    {
     "name": "stdout",
     "output_type": "stream",
     "text": [
      "O raio é igual a: 5\n",
      "A área é igual a: 78.5\n",
      "\n",
      "A nova área é igual a:\n",
      "314.0\n"
     ]
    }
   ],
   "source": [
    "# Criando uma Classe chamada Circulo\n",
    "class Circulo():\n",
    "    # O valor de pi é constante\n",
    "    pi = 3.14 \n",
    "\n",
    "    # Quando um Objeto desta Classe for criado, este Método será executado e o valor default do raio será 5. \n",
    "    def __init__(self, raio = 5):\n",
    "        self.raio = raio \n",
    "\n",
    "    # Esse Método calcula a área. Self utiliza os Atributos deste mesmo Objeto\n",
    "\n",
    "    def area(self):\n",
    "        return (self.raio*self.raio) * Circulo.pi\n",
    "\n",
    "    # Método para gerar um novo raio\n",
    "    def setRaio(self, novo_raio):\n",
    "        self.raio = novo_raio \n",
    "    \n",
    "    # Método para obter o raio do círculo\n",
    "    def getRaio(self):\n",
    "        return self.raio\n",
    "\n",
    "# Criando o Objeto circ. Uma instância da Classe Circulo()\n",
    "circ = Circulo()\n",
    "\n",
    "# Executando Métodos da Classe Circulo\n",
    "print(f'O raio é igual a: {circ.getRaio()}')\n",
    "print(f'A área é igual a: {circ.area()}')\n",
    "print()\n",
    "print('A nova área é igual a:')\n",
    "circ.setRaio(10)\n",
    "print(circ.area())"
   ]
  },
  {
   "cell_type": "markdown",
   "metadata": {},
   "source": [
    "# <font color='red' style='font-size: 40px;'> 3) Abstraçao, Herança, Polimorfismo e Encapsulamento   </font>\n",
    "<hr style='border: 2px solid red;'>"
   ]
  },
  {
   "cell_type": "markdown",
   "metadata": {},
   "source": [
    "## 3.1) Abstraçao\n",
    "\n",
    "> 1. A Abstraçao é responsável por ocultar características desnecessárias.\n",
    "\n",
    "> 2. Vamos imaginar que estamos construindo um sistema de e-commerce que usuários podem acessar para fazer compras. Parece razoável construirmos uma classe para representar um usuário do sistema, e se pararmos para pensar vamos chegar a conclusão de que um usuário é obviamente uma pessoa, correto? Pois bem, imagine se nós formos construir esta classe utilizando **todas** as características que conseguimos imaginar em uma pessoa. Ou seja, você teria que listar **todas** as coisas que uma pessoa tem, além de **todas** as coisas que uma pessoa faz…\n",
    "\n",
    "> 3. Dá pra perceber que isso não faz o menor sentido, pois uma grande parte dessas características são totalmente irrelevantes para o sistema em questão. Não há necessidade nenhuma em saber a cor do cabelo do seu usuário, qual o seu esporte preferido, qual sua profissão, e por aí vai… Portanto devemos aplicar o conceito da abstração, analisando quais destas características de fato fazem sentido em serem mantidas. Poderíamos ficar com mais ou menos a seguinte lista:\n",
    "\n",
    "- Atributos \n",
    "\n",
    "    - Nome \n",
    "\n",
    "    - E-mail\n",
    "\n",
    "    - Endereço\n",
    "\n",
    "    - Dados do Cartao de Crédito\n",
    "\n",
    "- Métodos\n",
    "\n",
    "    - Adicionar produto ao carrinho\n",
    "\n",
    "    - Fazer compra\n",
    "\n",
    "\n",
    "> 4. Dessa forma, pode-se simplificar o software e diminui a complexidade do sistema.\n",
    "\n",
    "> 5. É importante ressaltar que quando falamos do conceito de abstração estamos nos referindo à ocultar características desnecessárias no nível de design, e não no nível de implementação. Essa diferença é extremamente importante e ficará mais clara quando falarmos do conceito de encapsulamento, mas a diferença básica entre os dois é a seguinte: \n",
    "\n",
    "- Nos referimos a design quando pensamos na definição da **estrutura** de nossos componentes (por exemplo, quais métodos e atributos devem estar presentes)\n",
    "\n",
    "- Nos referimos a implementação quando pensamos na definição do **funcionamento** de nossos componentes (por exemplo, como funcionam os seus métodos e atributos)"
   ]
  },
  {
   "cell_type": "code",
   "execution_count": 7,
   "metadata": {},
   "outputs": [
    {
     "name": "stdout",
     "output_type": "stream",
     "text": [
      "Caneca Brasileira\n",
      "Numero da Caneca: Caneca Brasileira | Logo: Brasil | Cor: Amarela | Status: Cheia\n",
      "Numero da Caneca: Caneca Brasileira | Logo: Brasil | Cor: Amarela | Status: Vazia\n",
      "Numero da Caneca: Caneca Brasileira | Logo: Brasil | Cor: Amarela | Status: Cheia\n",
      "\n",
      "\n",
      "\n",
      "Caneca Holandesa\n",
      "Numero da Caneca: Caneca Holandesa | Logo: Holanda | Cor: Laranja | Status: Cheia\n",
      "Numero da Caneca: Caneca Holandesa | Logo: Holanda | Cor: Laranja | Status: Vazia\n",
      "Numero da Caneca: Caneca Holandesa | Logo: Holanda | Cor: Laranja | Status: Cheia\n"
     ]
    }
   ],
   "source": [
    "class Caneca():\n",
    "\n",
    "    formato = 'Cilíndrico com alça lateral' \n",
    "\n",
    "    def __init__(self, nome, logo, cor, formato, status):\n",
    "        self.nome = nome \n",
    "        self.logo = logo \n",
    "        self.cor = cor \n",
    "        self.status = status\n",
    "\n",
    "    def beber(self):\n",
    "        self.status = 'Vazia'\n",
    "\n",
    "    def encher(self):\n",
    "        self.status = 'Cheia'\n",
    "\n",
    "caneca1 = Caneca('Caneca Brasileira', 'Brasil', 'Amarela', 'Cilíndrica com alça lateral', 'Cheia')\n",
    "print(caneca1.nome)\n",
    "print(f'Numero da Caneca: {caneca1.nome} | Logo: {caneca1.logo} | Cor: {caneca1.cor} | Status: {caneca1.status}')\n",
    "caneca1.beber()\n",
    "print(f'Numero da Caneca: {caneca1.nome} | Logo: {caneca1.logo} | Cor: {caneca1.cor} | Status: {caneca1.status}')\n",
    "caneca1.encher()\n",
    "print(f'Numero da Caneca: {caneca1.nome} | Logo: {caneca1.logo} | Cor: {caneca1.cor} | Status: {caneca1.status}')\n",
    "\n",
    "print()\n",
    "print()\n",
    "print()\n",
    "\n",
    "\n",
    "caneca2 = Caneca('Caneca Holandesa', 'Holanda', 'Laranja', 'Cilíndrica com alça quadrada', 'Cheia')\n",
    "print(caneca2.nome)\n",
    "print(f'Numero da Caneca: {caneca2.nome} | Logo: {caneca2.logo} | Cor: {caneca2.cor} | Status: {caneca2.status}')\n",
    "caneca2.beber()\n",
    "print(f'Numero da Caneca: {caneca2.nome} | Logo: {caneca2.logo} | Cor: {caneca2.cor} | Status: {caneca2.status}')\n",
    "caneca2.encher()\n",
    "print(f'Numero da Caneca: {caneca2.nome} | Logo: {caneca2.logo} | Cor: {caneca2.cor} | Status: {caneca2.status}')"
   ]
  },
  {
   "cell_type": "markdown",
   "metadata": {},
   "source": [
    "## 3.2) Herança\n",
    "\n",
    "> 1. É um mecanismo pelo qual uma Classe chamada Subclasse/Classe Filho pode estender uma outra Classe chamada de SuperClasse/Classe Pai aproveitado seus Atributos e Métodos.\n",
    "\n",
    "> 2. A Classe Filho herda os Atributos e Métodos da Classe Pai.\n",
    "\n",
    "> 3. Ela permite que as Classes compartilhem seus Atributos, Métodos e Membros dentro da Classe em si. "
   ]
  },
  {
   "cell_type": "code",
   "execution_count": 8,
   "metadata": {},
   "outputs": [
    {
     "name": "stdout",
     "output_type": "stream",
     "text": [
      "Caneca Brasileira\n",
      "ATRIBUTOS: --> Numero da Caneca: Caneca Brasileira | Logo: Cidade de Sao Paulo | Cor: Amarela | Status: Cheia | Formato: Cilíndrico com alça lateral\n",
      "Estou bebendo na Caneca Brasileira\n",
      "Estou enchendo a Caneca Brasileira\n",
      "\n",
      "\n",
      "\n",
      "Caneca Holandesa\n",
      " ATRIBUTOS --> Numero da Caneca: Caneca Holandesa | Logo: Cidade de Amsterdam | Cor: Laranja | Status: Cheia | Formato: Cilíndrico com alça lateral\n",
      "Estou bebendo na Caneca Holandesa\n",
      "Estou enchendo a Caneca Holandesa\n",
      "\n",
      "\n",
      "Como as Canecas sao Objetos diferentes, cada um deles ficará armazenado em uma posiçao da memória diferente\n",
      "<__main__.CanecaBrasileira object at 0x0000028787313AC0>\n",
      "<__main__.CanecaHolandesa object at 0x0000028787AEAC40>\n"
     ]
    }
   ],
   "source": [
    "class Caneca():\n",
    "\n",
    "    formato = 'Cilíndrico com alça lateral' \n",
    "\n",
    "    def __init__(self, nome, logo, cor):\n",
    "        self.nome = nome \n",
    "        self.logo = logo \n",
    "        self.cor = cor \n",
    "        self.status = 'Cheia'\n",
    "\n",
    "    def beber(self):\n",
    "        self.status = 'Vazia'\n",
    "        return f'Estou bebendo na {self.nome}'\n",
    "\n",
    "    def encher(self):\n",
    "        self.status = 'Cheia'\n",
    "        return f'Estou enchendo a {self.nome}'\n",
    "\n",
    "class CanecaBrasileira(Caneca):\n",
    "    def __init__(self): # Passo apenas o self pois estamos herdando todos os Atributos e Métodos\n",
    "        self.nome = 'Caneca Brasileira' \n",
    "        self.logo = 'Cidade de Sao Paulo' \n",
    "        self.cor = 'Amarela' \n",
    "        self.status = 'Cheia'\n",
    "\n",
    "class CanecaHolandesa(Caneca):\n",
    "    def __init__(self): # Passo apenas o self pois estamos herdando todos os Atributos e Métodos\n",
    "        self.nome = 'Caneca Holandesa' \n",
    "        self.logo = 'Cidade de Amsterdam' \n",
    "        self.cor = 'Laranja' \n",
    "        self.status = 'Cheia'\n",
    "\n",
    "caneca1 = CanecaBrasileira()\n",
    "print(caneca1.nome)\n",
    "print(f'ATRIBUTOS: --> Numero da Caneca: {caneca1.nome} | Logo: {caneca1.logo} | Cor: {caneca1.cor} | Status: {caneca1.status} | Formato: {caneca1.formato}')\n",
    "print(caneca1.beber())\n",
    "print(caneca1.encher())\n",
    "\n",
    "\n",
    "print()\n",
    "print()\n",
    "print()\n",
    "\n",
    "\n",
    "caneca2 = CanecaHolandesa()\n",
    "print(caneca2.nome)\n",
    "print(f' ATRIBUTOS --> Numero da Caneca: {caneca2.nome} | Logo: {caneca2.logo} | Cor: {caneca2.cor} | Status: {caneca2.status} | Formato: {caneca2.formato}')\n",
    "print(caneca2.beber())\n",
    "print(caneca2.encher())\n",
    "\n",
    "\n",
    "print()\n",
    "print()\n",
    "print('Como as Canecas sao Objetos diferentes, cada um deles ficará armazenado em uma posiçao da memória diferente')\n",
    "print(caneca1)\n",
    "print(caneca2)"
   ]
  },
  {
   "cell_type": "code",
   "execution_count": 9,
   "metadata": {},
   "outputs": [
    {
     "name": "stdout",
     "output_type": "stream",
     "text": [
      "Caneca Brasileira\n",
      "ATRIBUTOS: --> Numero da Caneca: Caneca Brasileira | Logo: Cidade de Sao Paulo | Cor: Amarela | Status: Cheia | Formato: Cilíndrico com alça lateral\n",
      "Como bônus, você ganha uma colher!\n",
      "Estou bebendo na Caneca Brasileira\n",
      "Estou enchendo a Caneca Brasileira\n",
      "\n",
      "\n",
      "\n",
      "Caneca Holandesa\n",
      "ATRIBUTOS: --> Numero da Caneca: Caneca Holandesa | Logo: Cidade de Amsterdam | Cor: Laranja | Status: Cheia | Formato: Cilíndrico com alça lateral\n",
      "Toda vez que essa Caneca enche, ela faz um som!\n",
      "Estou bebendo na Caneca Holandesa\n",
      "Estou enchendo a Caneca Holandesa\n"
     ]
    }
   ],
   "source": [
    "class Caneca():\n",
    "\n",
    "    formato = 'Cilíndrico com alça lateral' \n",
    "\n",
    "    def __init__(self, nome, logo, cor):\n",
    "        self.nome = nome \n",
    "        self.logo = logo \n",
    "        self.cor = cor \n",
    "        self.status = 'Cheia'\n",
    "\n",
    "    def beber(self):\n",
    "        self.status = 'Vazia'\n",
    "        return f'Estou bebendo na {self.nome}'\n",
    "\n",
    "    def encher(self):\n",
    "        self.status = 'Cheia'\n",
    "        return f'Estou enchendo a {self.nome}'\n",
    "\n",
    "class CanecaBrasileira(Caneca):\n",
    "    def __init__(self): # Passo apenas o self pois estamos herdando todos os Atributos e Métodos\n",
    "        # O Método Super é responsável por Herdar as Características da Classe Pai\n",
    "        super().__init__('Caneca Brasileira', 'Cidade de Sao Paulo', 'Amarela')\n",
    "\n",
    "    def extras(self):\n",
    "        return f'Como bônus, você ganha uma colher!'\n",
    "\n",
    "class CanecaHolandesa(Caneca):\n",
    "    def __init__(self): # Passo apenas o self pois estamos herdando todos os Atributos e Métodos\n",
    "        # O Método Super é responsável por Herdar as Características da Classe Pai\n",
    "        super().__init__('Caneca Holandesa', 'Cidade de Amsterdam', 'Laranja')\n",
    "        \n",
    "    def som(self):\n",
    "        return f'Toda vez que essa Caneca enche, ela faz um som!'\n",
    "\n",
    "\n",
    "caneca1 = CanecaBrasileira()\n",
    "print(caneca1.nome)\n",
    "print(f'ATRIBUTOS: --> Numero da Caneca: {caneca1.nome} | Logo: {caneca1.logo} | Cor: {caneca1.cor} | Status: {caneca1.status} | Formato: {caneca1.formato}')\n",
    "print(caneca1.extras())\n",
    "print(caneca1.beber())\n",
    "print(caneca1.encher())\n",
    "\n",
    "print()\n",
    "print()\n",
    "print()\n",
    "\n",
    "caneca2 = CanecaHolandesa()\n",
    "print(caneca2.nome)\n",
    "print(f'ATRIBUTOS: --> Numero da Caneca: {caneca2.nome} | Logo: {caneca2.logo} | Cor: {caneca2.cor} | Status: {caneca2.status} | Formato: {caneca2.formato}')\n",
    "print(caneca2.som())\n",
    "print(caneca2.beber())\n",
    "print(caneca2.encher())"
   ]
  },
  {
   "cell_type": "markdown",
   "metadata": {},
   "source": [
    "## 3.3) Polimorfismo \n",
    "\n",
    "> 1. Definimos Polimorfismo como um princípio a partir do qual as classes derivadas de uma única classe base são capazes de invocar os métodos que, embora apresentem a mesma assinatura, comportam-se de maneira diferente para cada uma das classes derivadas.\n",
    "\n",
    "> 2. O Polimorfismo é um mecanismo por meio do qual selecionamos as funcionalidades utilizadas de forma dinâmica por um programa no decorrer de sua execução.\n",
    "\n",
    "> 3. Com o Polimorfismo, os mesmos Atributos e Métodos podem ser utilizados em Objetos Distitos, porém, com implementaçoes lógicas diferentes."
   ]
  },
  {
   "cell_type": "code",
   "execution_count": 27,
   "metadata": {},
   "outputs": [
    {
     "name": "stdout",
     "output_type": "stream",
     "text": [
      "Caneca Brasileira\n",
      "ATRIBUTOS: --> Numero da Caneca: Caneca Brasileira | Logo: Cidade de Sao Paulo | Cor: Amarela | Status: Cheia | Formato: Cilíndrico com alça lateral\n",
      "Como bônus, você ganha uma colher!\n",
      "Estou bebendo na Caneca Brasileira a Bebida chamada Café\n",
      "Estou enchendo a Caneca Brasileira com Café\n",
      "\n",
      "\n",
      "\n",
      "Caneca Holandesa\n",
      "ATRIBUTOS: --> Numero da Caneca: Caneca Holandesa | Logo: Cidade de Amsterdam | Cor: Laranja | Status: Cheia | Formato: Cilíndrico com alça lateral\n",
      "Toda vez que essa Caneca enche, ela faz um som!\n",
      "Estou bebendo na Caneca Holandesa a Bebida chamada Cerveja\n",
      "Estou enchendo a Caneca Holandesa com Cerveja\n"
     ]
    }
   ],
   "source": [
    "class Caneca():\n",
    "\n",
    "    formato = 'Cilíndrico com alça lateral' \n",
    "\n",
    "    def __init__(self, nome, logo, cor):\n",
    "        self.nome = nome \n",
    "        self.logo = logo \n",
    "        self.cor = cor \n",
    "        self.status = 'Cheia'\n",
    "\n",
    "    def beber(self):\n",
    "        self.status = 'Vazia'\n",
    "        return f'Estou bebendo na {self.nome}'\n",
    "\n",
    "    def encher(self):\n",
    "        self.status = 'Cheia'\n",
    "        return f'Estou enchendo a {self.nome}'\n",
    "\n",
    "class CanecaBrasileira(Caneca):\n",
    "    def __init__(self): # Passo apenas o self pois estamos herdando todos os Atributos e Métodos\n",
    "        # O Método Super é responsável por Herdar as Características da Classe Pai\n",
    "        super().__init__('Caneca Brasileira', 'Cidade de Sao Paulo', 'Amarela')\n",
    "        self.bebida = 'Café'\n",
    "\n",
    "    def extras(self):\n",
    "        return f'Como bônus, você ganha uma colher!'\n",
    "\n",
    "    def beber(self):\n",
    "        self.status = 'Vazia'\n",
    "        return super().beber() + f' a Bebida chamada {self.bebida}'\n",
    "\n",
    "    def encher(self):\n",
    "        self.status = 'Cheia'\n",
    "        return super().encher() + f' com {self.bebida}'\n",
    "\n",
    "class CanecaHolandesa(Caneca):\n",
    "    def __init__(self): # Passo apenas o self pois estamos herdando todos os Atributos e Métodos\n",
    "        # O Método Super é responsável por Herdar as Características da Classe Pai\n",
    "        super().__init__('Caneca Holandesa', 'Cidade de Amsterdam', 'Laranja')\n",
    "        self.bebida = 'Cerveja'\n",
    "        \n",
    "    def som(self):\n",
    "        return f'Toda vez que essa Caneca enche, ela faz um som!'\n",
    "\n",
    "    def beber(self):\n",
    "        self.status = 'Vazia'\n",
    "        return super().beber() + f' a Bebida chamada {self.bebida}'\n",
    "\n",
    "    def encher(self):\n",
    "        self.status = 'Cheia'\n",
    "        return super().encher() + f' com {self.bebida}'\n",
    "\n",
    "caneca1 = CanecaBrasileira()\n",
    "print(caneca1.nome)\n",
    "print(f'ATRIBUTOS: --> Numero da Caneca: {caneca1.nome} | Logo: {caneca1.logo} | Cor: {caneca1.cor} | Status: {caneca1.status} | Formato: {caneca1.formato}')\n",
    "print(caneca1.extras())\n",
    "print(caneca1.beber())\n",
    "print(caneca1.encher())\n",
    "\n",
    "print()\n",
    "print()\n",
    "print()\n",
    "\n",
    "caneca2 = CanecaHolandesa()\n",
    "print(caneca2.nome)\n",
    "print(f'ATRIBUTOS: --> Numero da Caneca: {caneca2.nome} | Logo: {caneca2.logo} | Cor: {caneca2.cor} | Status: {caneca2.status} | Formato: {caneca2.formato}')\n",
    "print(caneca2.som())\n",
    "print(caneca2.beber())\n",
    "print(caneca2.encher())"
   ]
  },
  {
   "cell_type": "markdown",
   "metadata": {},
   "source": [
    "## 3.4) Encapsulamento\n",
    "\n",
    "> 1. É a técnica de detalhes internos de funcionamento dos Métodos de uma Classe permaneçam ocultos para os Objetos.\n",
    "\n",
    "> 2. Através do Encapsulamento, o conhecimento a respeito do funcionamento da Classe torna-se desnecessário para o Objeto, visto que isso torna-se responsabilidade dos Métodos Internos daquela Classe. \n",
    "\n",
    "> 3. Quando temos uma Classe Public, todos podem acessá-la.\n",
    "\n",
    "> 4. Quando temos uma Classe Private, apenas a própria classe acessar as suas propriedades"
   ]
  },
  {
   "cell_type": "code",
   "execution_count": 1,
   "metadata": {},
   "outputs": [
    {
     "name": "stdout",
     "output_type": "stream",
     "text": [
      "Caneca Brasileira\n",
      "ATRIBUTOS: --> Numero da Caneca: Caneca Brasileira | Logo: Cidade de Sao Paulo | Cor: Amarela | Status: Cheia | Formato: Cilíndrico com alça lateral\n",
      "Como bônus, você ganha uma colher!\n",
      "Estou bebendo na Caneca Brasileira a Bebida chamada Café\n",
      "Estou enchendo a Caneca Brasileira com Café\n",
      "Classe Privada\n",
      "PROMOÇAO --> A Caneca Brasileira tem o valor de R$ 30.9\n",
      "\n",
      "\n",
      "\n",
      "Caneca Holandesa\n",
      "ATRIBUTOS: --> Numero da Caneca: Caneca Holandesa | Logo: Cidade de Amsterdam | Cor: Laranja | Status: Cheia | Formato: Cilíndrico com alça lateral\n",
      "Toda vez que essa Caneca enche, ela faz um som!\n",
      "Estou bebendo na Caneca Holandesa a Bebida chamada Cerveja\n",
      "Estou enchendo a Caneca Holandesa com Cerveja\n",
      "Classe Privada\n",
      "PROMOÇAO --> A Caneca Holandesa tem o valor de R$ 25.9\n"
     ]
    }
   ],
   "source": [
    "class Caneca():\n",
    "\n",
    "    formato = 'Cilíndrico com alça lateral' \n",
    "\n",
    "    def __init__(self, nome, logo, cor):\n",
    "        self.nome = nome \n",
    "        self.logo = logo \n",
    "        self.cor = cor \n",
    "        self.status = 'Cheia'\n",
    "        self.preco = 24.90\n",
    "        self.__preco_fabrica = 15 # Significa que é uma Propriedade Privada da Classe\n",
    "\n",
    "    def beber(self):\n",
    "        self.status = 'Vazia'\n",
    "        return f'Estou bebendo na {self.nome}'\n",
    "\n",
    "    def encher(self):\n",
    "        self.status = 'Cheia'\n",
    "        return f'Estou enchendo a {self.nome}'\n",
    "\n",
    "class CanecaBrasileira(Caneca):\n",
    "    def __init__(self): # Passo apenas o self pois estamos herdando todos os Atributos e Métodos\n",
    "        # O Método Super é responsável por Herdar as Características da Classe Pai\n",
    "        super().__init__('Caneca Brasileira', 'Cidade de Sao Paulo', 'Amarela')\n",
    "        self.bebida = 'Café'\n",
    "        self.preco = 35.90\n",
    "\n",
    "    def extras(self):\n",
    "        return f'Como bônus, você ganha uma colher!'\n",
    "\n",
    "    def beber(self):\n",
    "        self.status = 'Vazia'\n",
    "        return super().beber() + f' a Bebida chamada {self.bebida}'\n",
    "\n",
    "    def encher(self):\n",
    "        self.status = 'Cheia'\n",
    "        return super().encher() + f' com {self.bebida}'\n",
    "\n",
    "\n",
    "class CanecaHolandesa(Caneca):\n",
    "    def __init__(self): # Passo apenas o self pois estamos herdando todos os Atributos e Métodos\n",
    "        # O Método Super é responsável por Herdar as Características da Classe Pai\n",
    "        super().__init__('Caneca Holandesa', 'Cidade de Amsterdam', 'Laranja')\n",
    "        self.bebida = 'Cerveja'\n",
    "        self.preco = 30.90\n",
    "        \n",
    "    def som(self):\n",
    "        return f'Toda vez que essa Caneca enche, ela faz um som!'\n",
    "\n",
    "    def beber(self):\n",
    "        self.status = 'Vazia'\n",
    "        return super().beber() + f' a Bebida chamada {self.bebida}'\n",
    "\n",
    "    def encher(self):\n",
    "        self.status = 'Cheia'\n",
    "        return super().encher() + f' com {self.bebida}'\n",
    "\n",
    "caneca1 = CanecaBrasileira()\n",
    "print(caneca1.nome)\n",
    "print(f'ATRIBUTOS: --> Numero da Caneca: {caneca1.nome} | Logo: {caneca1.logo} | Cor: {caneca1.cor} | Status: {caneca1.status} | Formato: {caneca1.formato}')\n",
    "print(caneca1.extras())\n",
    "print(caneca1.beber())\n",
    "print(caneca1.encher())\n",
    "try:\n",
    "    print(caneca1.__preco_fabrica)\n",
    "except:\n",
    "    print('Classe Privada')\n",
    "caneca1.preco = caneca1.preco - 5\n",
    "print(f'PROMOÇAO --> A {caneca1.nome} tem o valor de R$ {caneca1.preco}')\n",
    "\n",
    "print()\n",
    "print()\n",
    "print()\n",
    "\n",
    "caneca2 = CanecaHolandesa()\n",
    "print(caneca2.nome)\n",
    "print(f'ATRIBUTOS: --> Numero da Caneca: {caneca2.nome} | Logo: {caneca2.logo} | Cor: {caneca2.cor} | Status: {caneca2.status} | Formato: {caneca2.formato}')\n",
    "print(caneca2.som())\n",
    "print(caneca2.beber())\n",
    "print(caneca2.encher())\n",
    "try:\n",
    "    print(caneca2.__preco_fabrica)\n",
    "except:\n",
    "    print('Classe Privada')\n",
    "caneca2.preco = caneca2.preco - 5\n",
    "print(f'PROMOÇAO --> A {caneca2.nome} tem o valor de R$ {caneca2.preco}')"
   ]
  },
  {
   "cell_type": "markdown",
   "metadata": {},
   "source": [
    "## 3.5) Implementando o Código da forma correta \n",
    "\n",
    "> Criar uma pasta para armazenar o código fonte\n",
    "\n",
    "> Criar .py para a Classe Pai Caneca, para a Classe Filho CanecaBrasileira e para a Classe Filho CanecaHolandesa\n",
    "\n",
    "> Importar como se fossem Bibliotecas em outro arquivo \n",
    "\n",
    "<img src = './img205.png' width = '70%'>"
   ]
  },
  {
   "cell_type": "markdown",
   "metadata": {},
   "source": [
    "# <font color='red' style='font-size: 40px;'> 3) Métodos Especiais </font>\n",
    "<hr style='border: 2px solid red;'>"
   ]
  },
  {
   "cell_type": "markdown",
   "metadata": {},
   "source": [
    "## 1) Métodos Especiais\n",
    "\n",
    "> 1. Ao usar Métodos Especiais, sua classe poderá ter um comportamento semelhante a um dicionário, uma funçao ou mesmo um número.\n",
    "\n",
    "> 2. Ao utilizarmos Métodos Especiais, toda as vezes que executamos a Classe, os Métodos Especiais sao automaticamente executados, diferentemente de Métodos Comuns, os quais precisamos 'chamá-los'.\n",
    "\n",
    "<img src = './img204.png' width = '70%'>"
   ]
  },
  {
   "cell_type": "code",
   "execution_count": 11,
   "metadata": {},
   "outputs": [
    {
     "name": "stdout",
     "output_type": "stream",
     "text": [
      "Livro Criado!\n"
     ]
    }
   ],
   "source": [
    "# Criando a Classe Livro\n",
    "\n",
    "class Livro():\n",
    "    def __init__(self, titulo, autor, paginas):\n",
    "        print('Livro Criado!')\n",
    "        self.titulo = titulo \n",
    "        self.autor = autor\n",
    "        self.paginas = paginas\n",
    "\n",
    "    def __str__(self):\n",
    "        return f'Título: {self.titulo}, autor: {self.autor}, páginas: {self.paginas}'\n",
    "\n",
    "    def __len__(self):\n",
    "        return self.paginas \n",
    "\n",
    "    def len(self):\n",
    "        return print(f'Páginas do Livro com Método Comum: {self.paginas}')\n",
    "\n",
    "livro1 = Livro('Os Lusíadas', 'Luis de Camoes', 8816)"
   ]
  },
  {
   "cell_type": "code",
   "execution_count": 12,
   "metadata": {},
   "outputs": [
    {
     "name": "stdout",
     "output_type": "stream",
     "text": [
      "Título: Os Lusíadas, autor: Luis de Camoes, páginas: 8816\n"
     ]
    }
   ],
   "source": [
    "print(livro1)"
   ]
  },
  {
   "cell_type": "code",
   "execution_count": 13,
   "metadata": {},
   "outputs": [
    {
     "data": {
      "text/plain": [
       "'Título: Os Lusíadas, autor: Luis de Camoes, páginas: 8816'"
      ]
     },
     "execution_count": 13,
     "metadata": {},
     "output_type": "execute_result"
    }
   ],
   "source": [
    "str(livro1)"
   ]
  },
  {
   "cell_type": "code",
   "execution_count": 14,
   "metadata": {},
   "outputs": [
    {
     "data": {
      "text/plain": [
       "8816"
      ]
     },
     "execution_count": 14,
     "metadata": {},
     "output_type": "execute_result"
    }
   ],
   "source": [
    "len(livro1)"
   ]
  },
  {
   "cell_type": "code",
   "execution_count": 15,
   "metadata": {},
   "outputs": [
    {
     "name": "stdout",
     "output_type": "stream",
     "text": [
      "Páginas do Livro com Método Comum: 8816\n"
     ]
    }
   ],
   "source": [
    "livro1.len()"
   ]
  },
  {
   "cell_type": "code",
   "execution_count": 16,
   "metadata": {},
   "outputs": [
    {
     "data": {
      "text/plain": [
       "False"
      ]
     },
     "execution_count": 16,
     "metadata": {},
     "output_type": "execute_result"
    }
   ],
   "source": [
    "# Ao executar a funçao del para remover um Atributo, o Python executa:\n",
    "# livro1.__delatter__('paginas')\n",
    "\n",
    "del livro1.paginas\n",
    "hasattr(livro1, 'paginas')"
   ]
  },
  {
   "cell_type": "markdown",
   "metadata": {},
   "source": [
    "# <font color='red' style='font-size: 40px;'> 4) Conversor de Moedas Orientado a Objetos </font>\n",
    "<hr style='border: 2px solid red;'>\n",
    "\n",
    "> CONSULTAR:\n",
    "\n",
    "Here's your free API key: c9de7cb6a25ec466890e\n",
    "\n",
    "https://free.currconv.com/api/v7/convert?q=USD_PHP&compact=ultra&apiKey=c9de7cb6a25ec466890e\n",
    "\n",
    "https://free.currconv.com/api/v7/currencies?apiKey=c9de7cb6a25ec466890e\n",
    "\n",
    "https://free.currencyconverterapi.com/\n",
    "\n",
    "https://www.youtube.com/watch?v=9BwJKlLu9Ug&list=PLshkB4NQEfC7jz8Ig-JcqwjZz8WSI2s8W&index=14&ab_channel=IuryRosal"
   ]
  },
  {
   "cell_type": "markdown",
   "metadata": {},
   "source": [
    "* Libraries "
   ]
  },
  {
   "cell_type": "code",
   "execution_count": 1,
   "metadata": {},
   "outputs": [],
   "source": [
    "import pandas as pd \n",
    "import numpy as np\n",
    "from requests import get\n",
    "\n",
    "pd.set_option('display.max_rows', 100)\n",
    "pd.set_option('display.max_columns', 100)\n",
    "pd.set_option('display.float_format', lambda x: '%.2f' % x) # Tira os números do formato de Notação Científica\n",
    "np.set_printoptions(suppress=True) # Tira os números do formato de Notação Científica em Numpy Arrays"
   ]
  },
  {
   "cell_type": "markdown",
   "metadata": {},
   "source": [
    "* API Key "
   ]
  },
  {
   "cell_type": "code",
   "execution_count": 2,
   "metadata": {},
   "outputs": [],
   "source": [
    "api_key = 'c9de7cb6a25ec466890e'"
   ]
  },
  {
   "cell_type": "markdown",
   "metadata": {},
   "source": [
    "* Criaçao da Classe "
   ]
  },
  {
   "cell_type": "code",
   "execution_count": 34,
   "metadata": {},
   "outputs": [],
   "source": [
    "class ConversorMoedas:\n",
    "    def __init__(self, api_key):\n",
    "        self.url_api = 'https://free.currconv.com/api/v7/currencies?apiKey='\n",
    "        self.api_key = api_key\n",
    "        self.moedas = self.obtendo_moedas()\n",
    "        self.url_api_transformadora = 'https://free.currconv.com/api/v7/convert?q='\n",
    "\n",
    "    def obtendo_moedas(self):\n",
    "        url = self.url_api + self.api_key\n",
    "        dados = list(get(url).json()['results'].values())\n",
    "        return dados\n",
    "\n",
    "    def moedas_disponiveis(self):\n",
    "        id_moedas = []\n",
    "        nome_moedas = []\n",
    "        simbolo_moedas = []\n",
    "        for moeda in self.moedas: \n",
    "            nome_moeda = moeda.get('currencyName', '')\n",
    "            simbolo_moeda = moeda.get('currencySymbol', '')\n",
    "            id_moeda = moeda.get('id', '')\n",
    "            # print(f'ID Moeda:{id_moeda} | Nome Moeda: {nome_moeda} | Símbolo Moeda: {simbolo_moeda}')\n",
    "            id_moedas.append(id_moeda)\n",
    "            nome_moedas.append(nome_moeda)\n",
    "            simbolo_moedas.append(simbolo_moeda)   \n",
    "        df = pd.DataFrame({'id_moeda':id_moedas, 'nome_moeda':nome_moedas, 'simbolo_moeda':simbolo_moedas})\n",
    "        lenght_df = np.arange(len(df))\n",
    "        return df.sort_values(by = 'nome_moeda', ascending = True).set_index(lenght_df)\n",
    "\n",
    "    def converte_moeda(self, moeda_atual, moeda_desejada, quantia_moeda_atual):\n",
    "        url = f'{self.url_api_transformadora}{moeda_atual}_{moeda_desejada}&compact=ultra&apiKey={self.api_key}'\n",
    "        dados = get(url).json()\n",
    "        try:\n",
    "            quantia_moeda_atual = float(quantia_moeda_atual)\n",
    "            try:\n",
    "                conversor = dados[f'{moeda_atual}_{moeda_desejada}']\n",
    "                quantia_moeda_desejada = round(conversor*quantia_moeda_atual, 2)\n",
    "                return f'{quantia_moeda_atual} da Moeda {moeda_atual} equivale a {quantia_moeda_desejada} da Moeda {moeda_desejada}!'\n",
    "            except:\n",
    "                return ('Moeda Inválida! Por favor, revise o ID da Moeda.')\n",
    "        except:\n",
    "            return ('Quantia Inválida! Por favor, coloque uma quantia numérica.')"
   ]
  },
  {
   "cell_type": "markdown",
   "metadata": {},
   "source": [
    "* Criaçao do Objeto "
   ]
  },
  {
   "cell_type": "code",
   "execution_count": 27,
   "metadata": {},
   "outputs": [
    {
     "data": {
      "text/html": [
       "<div>\n",
       "<style scoped>\n",
       "    .dataframe tbody tr th:only-of-type {\n",
       "        vertical-align: middle;\n",
       "    }\n",
       "\n",
       "    .dataframe tbody tr th {\n",
       "        vertical-align: top;\n",
       "    }\n",
       "\n",
       "    .dataframe thead th {\n",
       "        text-align: right;\n",
       "    }\n",
       "</style>\n",
       "<table border=\"1\" class=\"dataframe\">\n",
       "  <thead>\n",
       "    <tr style=\"text-align: right;\">\n",
       "      <th></th>\n",
       "      <th>id_moeda</th>\n",
       "      <th>nome_moeda</th>\n",
       "      <th>simbolo_moeda</th>\n",
       "    </tr>\n",
       "  </thead>\n",
       "  <tbody>\n",
       "    <tr>\n",
       "      <th>0</th>\n",
       "      <td>AFN</td>\n",
       "      <td>Afghan Afghani</td>\n",
       "      <td>؋</td>\n",
       "    </tr>\n",
       "    <tr>\n",
       "      <th>1</th>\n",
       "      <td>ALL</td>\n",
       "      <td>Albanian Lek</td>\n",
       "      <td>Lek</td>\n",
       "    </tr>\n",
       "    <tr>\n",
       "      <th>2</th>\n",
       "      <td>DZD</td>\n",
       "      <td>Algerian Dinar</td>\n",
       "      <td></td>\n",
       "    </tr>\n",
       "    <tr>\n",
       "      <th>3</th>\n",
       "      <td>AOA</td>\n",
       "      <td>Angolan Kwanza</td>\n",
       "      <td></td>\n",
       "    </tr>\n",
       "    <tr>\n",
       "      <th>4</th>\n",
       "      <td>ARS</td>\n",
       "      <td>Argentine Peso</td>\n",
       "      <td>$</td>\n",
       "    </tr>\n",
       "    <tr>\n",
       "      <th>...</th>\n",
       "      <td>...</td>\n",
       "      <td>...</td>\n",
       "      <td>...</td>\n",
       "    </tr>\n",
       "    <tr>\n",
       "      <th>161</th>\n",
       "      <td>VND</td>\n",
       "      <td>Vietnamese Dong</td>\n",
       "      <td>₫</td>\n",
       "    </tr>\n",
       "    <tr>\n",
       "      <th>162</th>\n",
       "      <td>XOF</td>\n",
       "      <td>West African CFA Franc</td>\n",
       "      <td></td>\n",
       "    </tr>\n",
       "    <tr>\n",
       "      <th>163</th>\n",
       "      <td>YER</td>\n",
       "      <td>Yemeni Rial</td>\n",
       "      <td>﷼</td>\n",
       "    </tr>\n",
       "    <tr>\n",
       "      <th>164</th>\n",
       "      <td>ZMW</td>\n",
       "      <td>Zambian Kwacha</td>\n",
       "      <td></td>\n",
       "    </tr>\n",
       "    <tr>\n",
       "      <th>165</th>\n",
       "      <td>ZWL</td>\n",
       "      <td>Zimbabwean Dollar</td>\n",
       "      <td></td>\n",
       "    </tr>\n",
       "  </tbody>\n",
       "</table>\n",
       "<p>166 rows × 3 columns</p>\n",
       "</div>"
      ],
      "text/plain": [
       "    id_moeda              nome_moeda simbolo_moeda\n",
       "0        AFN          Afghan Afghani             ؋\n",
       "1        ALL            Albanian Lek           Lek\n",
       "2        DZD          Algerian Dinar              \n",
       "3        AOA          Angolan Kwanza              \n",
       "4        ARS          Argentine Peso             $\n",
       "..       ...                     ...           ...\n",
       "161      VND         Vietnamese Dong             ₫\n",
       "162      XOF  West African CFA Franc              \n",
       "163      YER             Yemeni Rial             ﷼\n",
       "164      ZMW          Zambian Kwacha              \n",
       "165      ZWL       Zimbabwean Dollar              \n",
       "\n",
       "[166 rows x 3 columns]"
      ]
     },
     "metadata": {},
     "output_type": "display_data"
    }
   ],
   "source": [
    "conversor_de_moedas1 = ConversorMoedas(api_key)\n",
    "display(conversor_de_moedas1.moedas_disponiveis())"
   ]
  },
  {
   "cell_type": "code",
   "execution_count": 35,
   "metadata": {},
   "outputs": [
    {
     "data": {
      "text/plain": [
       "'337.29 da Moeda USD equivale a 1766.06 da Moeda BRL!'"
      ]
     },
     "execution_count": 35,
     "metadata": {},
     "output_type": "execute_result"
    }
   ],
   "source": [
    "conversor_de_moedas1 = ConversorMoedas(api_key)\n",
    "conversor_de_moedas1.converte_moeda('USD', 'BRL', 337.29)"
   ]
  },
  {
   "cell_type": "code",
   "execution_count": 36,
   "metadata": {},
   "outputs": [
    {
     "data": {
      "text/plain": [
       "'Quantia Inválida! Por favor, coloque uma quantia numérica.'"
      ]
     },
     "execution_count": 36,
     "metadata": {},
     "output_type": "execute_result"
    }
   ],
   "source": [
    "conversor_de_moedas2 = ConversorMoedas(api_key)\n",
    "conversor_de_moedas2.converte_moeda('USD', 'BRL', 'OOO')"
   ]
  },
  {
   "cell_type": "code",
   "execution_count": 37,
   "metadata": {},
   "outputs": [
    {
     "data": {
      "text/plain": [
       "'Moeda Inválida! Por favor, revise o ID da Moeda.'"
      ]
     },
     "execution_count": 37,
     "metadata": {},
     "output_type": "execute_result"
    }
   ],
   "source": [
    "conversor_de_moedas3 = ConversorMoedas(api_key)\n",
    "conversor_de_moedas3.converte_moeda('DDD', 'BRL', 337.29)"
   ]
  },
  {
   "cell_type": "markdown",
   "metadata": {},
   "source": [
    "# <font color='red' style='font-size: 40px;'> 5) Mais sobre POO </font>\n",
    "<hr style='border: 2px solid red;'>"
   ]
  },
  {
   "cell_type": "markdown",
   "metadata": {},
   "source": [
    "## Métodos de Instância \n",
    "\n",
    "> Sao Métodos correspondentes a Instância, portanto, necessita do parâmetro 'self' para se referir a própria Instância.\n"
   ]
  },
  {
   "cell_type": "code",
   "execution_count": 11,
   "metadata": {},
   "outputs": [],
   "source": [
    "from datetime import datetime "
   ]
  },
  {
   "cell_type": "code",
   "execution_count": 16,
   "metadata": {},
   "outputs": [],
   "source": [
    "class Pessoa:\n",
    "\n",
    "    ano_atual = int(datetime.strftime(datetime.now(), '%Y'))\n",
    "\n",
    "    def __init__(self, nome, idade, comendo = False, falando = False):\n",
    "        self.nome = nome \n",
    "        self.idade = idade\n",
    "        self.comendo = comendo \n",
    "        self.falando = falando\n",
    "\n",
    "    def falar(self, assunto): # Método de Instância, portanto, necessita do parâmetro 'self' para se referir a própria Instância\n",
    "        if self.comendo == True:\n",
    "            print(f'{self.nome} nao pode falar comendo.')\n",
    "            return \n",
    "\n",
    "        if self.falando == True: # Método de Instância, portanto, necessita do parâmetro 'self' para se referir a própria Instância\n",
    "            print(f'{self.nome} já está falando')\n",
    "            return \n",
    "\n",
    "        print(f'{self.nome} está falando sobre {assunto}')\n",
    "        self.falando = True\n",
    "\n",
    "    def parar_falar(self): # Método de Instância, portanto, necessita do parâmetro 'self' para se referir a própria Instância\n",
    "        if self.falando == False: \n",
    "            print(f'{self.nome} nao está falando.')\n",
    "            return \n",
    "\n",
    "        print(f'{self.nome} parou de falar')\n",
    "        self.falando == False\n",
    "\n",
    "    def comer(self, alimento): # Método de Instância, portanto, necessita do parâmetro 'self' para se referir a própria Instância\n",
    "        if self.comendo == True:\n",
    "            print(f'{self.nome} já está comendo')\n",
    "            return \n",
    "        print(f'{self.nome} está comendo {alimento}.')\n",
    "        self.comendo = True\n",
    "\n",
    "        if self.falando == True:\n",
    "            print(f'{self.nome} nao pode comer falando.')\n",
    "        \n",
    "    def parar_comer(self): # Método de Instância, portanto, necessita do parâmetro 'self' para se referir a própria Instância\n",
    "        if self.comendo == False:\n",
    "            print(f'{self.nome} nao está comendo')\n",
    "            return \n",
    "        print(f'{self.nome} parou de comer.')\n",
    "        self.comendo = False\n",
    "\n",
    "    def ano_nascimento(self):\n",
    "        return self.ano_atual - self.idade \n",
    "\n",
    "p1 = Pessoa('Luiz', 29)\n",
    "p2 = Pessoa('Joao', 30)"
   ]
  },
  {
   "cell_type": "code",
   "execution_count": 10,
   "metadata": {},
   "outputs": [
    {
     "name": "stdout",
     "output_type": "stream",
     "text": [
      "Luiz já está comendo\n"
     ]
    }
   ],
   "source": [
    "p1.comer('maça')"
   ]
  },
  {
   "cell_type": "code",
   "execution_count": 8,
   "metadata": {},
   "outputs": [
    {
     "name": "stdout",
     "output_type": "stream",
     "text": [
      "Luiz nao está comendo\n"
     ]
    }
   ],
   "source": [
    "p1.parar_comer()"
   ]
  },
  {
   "cell_type": "code",
   "execution_count": 32,
   "metadata": {},
   "outputs": [
    {
     "name": "stdout",
     "output_type": "stream",
     "text": [
      "Luiz nao está comendo\n"
     ]
    }
   ],
   "source": [
    "p1.parar_comer()"
   ]
  },
  {
   "cell_type": "code",
   "execution_count": 7,
   "metadata": {},
   "outputs": [
    {
     "name": "stdout",
     "output_type": "stream",
     "text": [
      "Luiz já está falando\n"
     ]
    }
   ],
   "source": [
    "p1.falar('POO')"
   ]
  },
  {
   "cell_type": "code",
   "execution_count": 6,
   "metadata": {},
   "outputs": [
    {
     "name": "stdout",
     "output_type": "stream",
     "text": [
      "Luiz parou de falar\n"
     ]
    }
   ],
   "source": [
    "p1.parar_falar()"
   ]
  },
  {
   "cell_type": "code",
   "execution_count": 19,
   "metadata": {},
   "outputs": [
    {
     "name": "stdout",
     "output_type": "stream",
     "text": [
      "1993\n"
     ]
    }
   ],
   "source": [
    "print(p1.ano_nascimento())"
   ]
  },
  {
   "cell_type": "markdown",
   "metadata": {},
   "source": [
    "## Métodos de Classes \n",
    "\n",
    "> Sao Métodos correspondentes apenas a Classe, portanto,  nao necessita do parâmetro 'self', apenas do cls (convençao)."
   ]
  },
  {
   "cell_type": "code",
   "execution_count": 33,
   "metadata": {},
   "outputs": [
    {
     "name": "stdout",
     "output_type": "stream",
     "text": [
      "<__main__.Pessoa object at 0x00000215F9BBCB80>\n",
      "Fulano 35\n",
      "1987\n"
     ]
    }
   ],
   "source": [
    "class Pessoa:\n",
    "    ano_atual = int(datetime.strftime(datetime.now(), '%Y'))\n",
    "\n",
    "    def __init__(self, nome, idade):\n",
    "        self.nome = nome \n",
    "        self.idade = idade \n",
    "\n",
    "    def get_ano_nascimento(self): # Método de Instância, portanto, necessita do parâmetro 'self' para se referir a própria Instância\n",
    "        print(self.ano_atual - self.idade)\n",
    "\n",
    "    @classmethod # Método Global da Classe, portanto, nao necessita do parâmetro 'self'. Ele é utilizado para Métodos Globais da Classe.\n",
    "        idade = cls.ano_atual - ano_nascimento\n",
    "    def por_ano_nascimento(cls, nome, ano_nascimento): \n",
    "        return cls(nome, idade)\n",
    "\n",
    "p1 = Pessoa('Fulano', 35)\n",
    "print(p1)\n",
    "print(p1.nome, p1.idade)\n",
    "p1.get_ano_nascimento()"
   ]
  },
  {
   "cell_type": "code",
   "execution_count": 34,
   "metadata": {},
   "outputs": [
    {
     "name": "stdout",
     "output_type": "stream",
     "text": [
      "<__main__.Pessoa object at 0x00000215F9B3EFD0>\n",
      "Fulano 35\n",
      "1987\n"
     ]
    }
   ],
   "source": [
    "p1 = Pessoa.por_ano_nascimento('Fulano', 1987)\n",
    "print(p1)\n",
    "print(p1.nome, p1.idade)\n",
    "p1.get_ano_nascimento()"
   ]
  },
  {
   "cell_type": "markdown",
   "metadata": {},
   "source": [
    "## Métodos Estáticos \n",
    "\n",
    "> Sao Métodos que nao precisam nem da Instância nem da Classe, portanto, nao necessita do parâmetro 'self' nem 'cls'."
   ]
  },
  {
   "cell_type": "code",
   "execution_count": 41,
   "metadata": {},
   "outputs": [
    {
     "name": "stdout",
     "output_type": "stream",
     "text": [
      "<__main__.Pessoa object at 0x00000215F97910A0>\n",
      "Fulano 35\n",
      "1987\n",
      "18674\n"
     ]
    }
   ],
   "source": [
    "from random import randint\n",
    "class Pessoa:\n",
    "    ano_atual = int(datetime.strftime(datetime.now(), '%Y'))\n",
    "\n",
    "    def __init__(self, nome, idade):\n",
    "        self.nome = nome \n",
    "        self.idade = idade \n",
    "\n",
    "    def get_ano_nascimento(self): # Método de Instância, portanto, necessita do parâmetro 'self' para se referir a própria Instância\n",
    "        print(self.ano_atual - self.idade)\n",
    "\n",
    "    @classmethod # Método Global da Classe, portanto, nao necessita do parâmetro 'self'. Ele é utilizado para Métodos Globais da Classe.\n",
    "    def por_ano_nascimento(cls, nome, ano_nascimento):\n",
    "        idade = cls.ano_atual - ano_nascimento\n",
    "        return cls(nome, idade)\n",
    "\n",
    "    @staticmethod # Método Normal, ou seja, independente da Instância e da Classe, portanto, nao necessita do parâmetro 'self' nem 'cls'.   \n",
    "     def gera_id():\n",
    "        rand = randint(10000, 19999)\n",
    "        return rand\n",
    "\n",
    "\n",
    "p1 = Pessoa('Fulano', 35)\n",
    "print(p1)\n",
    "print(p1.nome, p1.idade)\n",
    "p1.get_ano_nascimento()\n",
    "print(Pessoa.gera_id())"
   ]
  },
  {
   "cell_type": "markdown",
   "metadata": {},
   "source": [
    "## Getters e Setters\n",
    "\n",
    "> Sao 'proteçoes' para nossos Atributos."
   ]
  },
  {
   "cell_type": "code",
   "execution_count": 43,
   "metadata": {},
   "outputs": [
    {
     "name": "stdout",
     "output_type": "stream",
     "text": [
      "45.0\n",
      "o Preço está configurado incorretamente\n"
     ]
    }
   ],
   "source": [
    "class Produto():\n",
    "    def __init__(self, nome, preco):\n",
    "        self.nome = nome \n",
    "        self.preco = preco \n",
    "\n",
    "    def desconto(self, percentual):\n",
    "        self.preco = self.preco - (self.preco*(percentual/100))\n",
    "\n",
    "p1 = Produto('Camiseta', 50)\n",
    "p1.desconto(10)\n",
    "print(p1.preco)\n",
    "\n",
    "try:\n",
    "    p2 = Produto('Caneca', 'R$ 15')\n",
    "    p2.desconto(10)\n",
    "    print(p2.preco)\n",
    "except:\n",
    "    print('o Preço está configurado incorretamente')\n"
   ]
  },
  {
   "cell_type": "markdown",
   "metadata": {},
   "source": [
    "> Para solucionar este problema, cria-se o Getter e o Setter "
   ]
  },
  {
   "cell_type": "code",
   "execution_count": 45,
   "metadata": {},
   "outputs": [
    {
     "name": "stdout",
     "output_type": "stream",
     "text": [
      "45.0\n",
      "13.5\n"
     ]
    }
   ],
   "source": [
    "class Produto():\n",
    "    def __init__(self, nome, preco):\n",
    "        self.nome = nome \n",
    "        self.preco = preco \n",
    "\n",
    "    def desconto(self, percentual):\n",
    "        self.preco = self.preco - (self.preco*(percentual/100))\n",
    "\n",
    "    # Getter\n",
    "\n",
    "    @property\n",
    "    def nome(self):\n",
    "        return self._nome\n",
    "\n",
    "    @nome.setter \n",
    "    def nome(self, valor):\n",
    "        self._nome = valor.upper()\n",
    "\n",
    "    @property \n",
    "    def preco(self):\n",
    "        return self._preco # Por convençao deve-se utilizar o mesmo nome da variável com um underline (_) na frente\n",
    "\n",
    "    # Setter\n",
    "    @preco.setter\n",
    "    def preco(self, valor):\n",
    "        if isinstance(valor, str): # Checando se o Valor é uma Instância da Classe String\n",
    "            valor = float(valor.replace('R$', ''))\n",
    "        self._preco = valor\n",
    "\n",
    "\n",
    "p1 = Produto('Camiseta', 50)\n",
    "p1.desconto(10)\n",
    "print(p1.preco)\n",
    "\n",
    "try:\n",
    "    p2 = Produto('Caneca', 'R$15')\n",
    "    p2.desconto(10)\n",
    "    print(p2.preco)\n",
    "except:\n",
    "    print('o Preço está configurado incorretamente')\n"
   ]
  },
  {
   "cell_type": "markdown",
   "metadata": {},
   "source": [
    "## Atributos de Classe "
   ]
  },
  {
   "cell_type": "code",
   "execution_count": 48,
   "metadata": {},
   "outputs": [
    {
     "name": "stdout",
     "output_type": "stream",
     "text": [
      "123\n",
      "123\n",
      "123\n",
      "\n",
      "\n",
      "321\n",
      "321\n",
      "321\n"
     ]
    }
   ],
   "source": [
    "class A:\n",
    "    vc = 123\n",
    "\n",
    "a1 = A()\n",
    "a2 = A()\n",
    "\n",
    "print(a1.vc)\n",
    "print(a2.vc)\n",
    "print(A.vc)\n",
    "\n",
    "print()\n",
    "A.vc = 321\n",
    "print()\n",
    "\n",
    "print(a1.vc)\n",
    "print(a2.vc)\n",
    "print(A.vc)"
   ]
  },
  {
   "cell_type": "markdown",
   "metadata": {},
   "source": [
    "# <font color='red' style='font-size: 40px;'> 6) Exercícios </font>\n",
    "<hr style='border: 2px solid red;'>"
   ]
  },
  {
   "cell_type": "markdown",
   "metadata": {},
   "source": [
    "### Exercício 1) Crie um objeto a partir da classe abaixo, chamado roc1, passando 2 parâmetros e depois faça uma chamada aos atributos e métodos"
   ]
  },
  {
   "cell_type": "code",
   "execution_count": 17,
   "metadata": {},
   "outputs": [
    {
     "name": "stdout",
     "output_type": "stream",
     "text": [
      "Atributos: (10, 34)\n",
      "Chamando os Métodos\n",
      "20 44\n"
     ]
    }
   ],
   "source": [
    "from math import sqrt\n",
    "\n",
    "class Rocket():\n",
    "     \n",
    "    def __init__(self, x=0, y=0):\n",
    "        self.x = x\n",
    "        self.y = y\n",
    "        \n",
    "    def move_rocket(self, x_increment=0, y_increment=1):\n",
    "        self.x += x_increment\n",
    "        self.y += y_increment\n",
    "        \n",
    "    def print_rocket(self):\n",
    "        print(self.x, self.y)\n",
    "\n",
    "roc1 = Rocket(10, 34)\n",
    "print(f'Atributos: {roc1.x, roc1.y}')\n",
    "print('Chamando os Métodos')\n",
    "roc1.move_rocket(10, 10)\n",
    "roc1.print_rocket()"
   ]
  },
  {
   "cell_type": "markdown",
   "metadata": {},
   "source": [
    "### Exercício 2) Crie uma classe chamada Pessoa() com os atributos: nome, cidade, telefone e e-mail. Use pelo menos 2 métodos especiais na sua classe. Crie um objeto da sua classe e faça uma chamada a pelo menos um dos seus métodos especiais."
   ]
  },
  {
   "cell_type": "code",
   "execution_count": 18,
   "metadata": {},
   "outputs": [
    {
     "name": "stdout",
     "output_type": "stream",
     "text": [
      "Pessoa Criada!\n"
     ]
    }
   ],
   "source": [
    "# Criando uma Classe Pessoa\n",
    "\n",
    "class Pessoa():\n",
    "    def __init__(self, nome, cidade, telefone, email):\n",
    "        print('Pessoa Criada!')\n",
    "        self.nome = nome \n",
    "        self.cidade = cidade \n",
    "        self.telefone = telefone \n",
    "        self.email = email \n",
    "    \n",
    "    def __str__(self):\n",
    "        return f'Nome: {self.nome}, Cidade: {self.cidade}, Telefone: {self.telefone}, email: {self.email}'\n",
    "\n",
    "    def __len__(self):\n",
    "        return self.telefone\n",
    "    \n",
    "\n",
    "fulano = Pessoa('Fulano', 'Nova York', 11123456789, 'fulano@gmail.com')"
   ]
  },
  {
   "cell_type": "code",
   "execution_count": 19,
   "metadata": {},
   "outputs": [
    {
     "data": {
      "text/plain": [
       "'Nome: Fulano, Cidade: Nova York, Telefone: 11123456789, email: fulano@gmail.com'"
      ]
     },
     "execution_count": 19,
     "metadata": {},
     "output_type": "execute_result"
    }
   ],
   "source": [
    "str(fulano)"
   ]
  },
  {
   "cell_type": "code",
   "execution_count": 20,
   "metadata": {},
   "outputs": [
    {
     "data": {
      "text/plain": [
       "11123456789"
      ]
     },
     "execution_count": 20,
     "metadata": {},
     "output_type": "execute_result"
    }
   ],
   "source": [
    "len(fulano)"
   ]
  },
  {
   "cell_type": "markdown",
   "metadata": {},
   "source": [
    "### Exercício 3) Crie a classe Smartphone com 2 atributos, tamanho e interface e crie a classe MP3Player com os atributos capacidade. A classe MP3player deve herdar os atributos da classe Smartphone.\n"
   ]
  }
 ],
 "metadata": {
  "kernelspec": {
   "display_name": "Python 3.9.12 ('base')",
   "language": "python",
   "name": "python3"
  },
  "language_info": {
   "codemirror_mode": {
    "name": "ipython",
    "version": 3
   },
   "file_extension": ".py",
   "mimetype": "text/x-python",
   "name": "python",
   "nbconvert_exporter": "python",
   "pygments_lexer": "ipython3",
   "version": "3.9.12"
  },
  "orig_nbformat": 4,
  "vscode": {
   "interpreter": {
    "hash": "5a9a036f549c34521959f2e35c11282d59c2fa6997060d671aa6f29f1c44b680"
   }
  }
 },
 "nbformat": 4,
 "nbformat_minor": 2
}
