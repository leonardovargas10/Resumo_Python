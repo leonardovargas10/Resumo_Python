{
 "cells": [
  {
   "cell_type": "markdown",
   "id": "a9f7c3f3",
   "metadata": {},
   "source": [
    "<h1 style='color: blue; font-size: 34px; font-weight: bold;'> Python Fundamentos\n",
    "</h1>\n",
    "\n",
    "<p style='font-size: 18px; line-height: 2; margin: 0px 0px; text-align: justify; text-indent: 0px;'>    \n",
    "<i> Este Notebook concentra os Fundamentos de Python.  </i> \n",
    "</p>  "
   ]
  },
  {
   "cell_type": "markdown",
   "id": "73b1b233",
   "metadata": {},
   "source": [
    "# <font color='red' style='font-size: 40px;'> Documentaçao do Python </font>\n",
    "<hr style='border: 2px solid red;'>\n",
    "\n",
    "> CONSULTAR: \n",
    "\n",
    "https://docs.python.org/pt-br/3/library/__main__.html#module-__main__"
   ]
  },
  {
   "cell_type": "markdown",
   "id": "7ece511f",
   "metadata": {},
   "source": [
    "# <font color='red' style='font-size: 40px;'> Library </font>\n",
    "<hr style='border: 2px solid red;'>"
   ]
  },
  {
   "cell_type": "code",
   "execution_count": 2,
   "id": "8b04fd4c",
   "metadata": {},
   "outputs": [],
   "source": [
    "## Bibliotecas De Manipulação de Dados e Visualização\n",
    "\n",
    "import pandas as pd \n",
    "from pandasql import sqldf\n",
    "import matplotlib.pyplot as plt\n",
    "import seaborn as sns \n",
    "import plotly.express as px \n",
    "import plotly.graph_objects as go\n",
    "\n",
    "## Bibliotecas de Modelagem Matemática e Estatística\n",
    "import numpy as np\n",
    "import scipy as sp \n",
    "import statsmodels.api as sm\n",
    "import statsmodels.formula.api as smf\n",
    "\n",
    "# Bibliotecas de Manipulação de Tempo\n",
    "import time\n",
    "import datetime\n",
    "\n",
    "\n",
    "# Bibliotecas de Suporte\n",
    "import warnings\n",
    "import pyodbc\n",
    "\n",
    "\n",
    "\n",
    "# Parâmetros de Otimização\n",
    "%matplotlib inline\n",
    "sns.set()\n",
    "plt.rcParams['font.family'] = 'Arial'\n",
    "plt.rcParams['font.size'] = '14'\n",
    "plt.rcParams['figure.figsize'] = [10, 5]\n",
    "pd.set_option('display.max_rows', 100)\n",
    "pd.set_option('display.max_columns', 100)\n",
    "pd.set_option('display.float_format', lambda x: '%.2f' % x) # Tira os números do formato de Notação Científica\n",
    "np.set_printoptions(suppress=True) # Tira os números do formato de Notação Científica em Numpy Arrays\n",
    "warnings.filterwarnings('ignore')\n",
    "warnings.simplefilter(action='ignore', category=FutureWarning) # Retira Future Warnings"
   ]
  },
  {
   "cell_type": "markdown",
   "id": "33204cfa",
   "metadata": {},
   "source": [
    "# <font color='red' style='font-size: 40px;'> 1) Tipos de Variáveis e Entrada e Saída </font>\n",
    "<hr style='border: 2px solid red;'>\n"
   ]
  },
  {
   "cell_type": "markdown",
   "id": "31e93f06",
   "metadata": {},
   "source": [
    "## Tipos de Variãveis "
   ]
  },
  {
   "cell_type": "code",
   "execution_count": 11,
   "id": "20a88211",
   "metadata": {},
   "outputs": [
    {
     "name": "stdout",
     "output_type": "stream",
     "text": [
      " Soma: 8\n",
      " Substraçao: 1\n",
      " Multiplicaçao: 9\n",
      " Divisao: 1.5\n",
      " Potência: 16\n",
      " Módulo / Resto: 1\n",
      "Inteiros: <class 'int'>\n",
      "Reais: <class 'float'>\n",
      "String: <class 'str'>\n"
     ]
    }
   ],
   "source": [
    "# Soma\n",
    "print(f' Soma: {4 + 4}')\n",
    "\n",
    "# Subtração\n",
    "print(f' Substraçao: {4 - 3}')\n",
    "\n",
    "# Multiplicação\n",
    "print(f' Multiplicaçao: {3 * 3}')\n",
    "\n",
    "# Divisão\n",
    "print(f' Divisao: {3 / 2}')\n",
    "\n",
    "# Potência\n",
    "\n",
    "print(f' Potência: {4 ** 2 }')\n",
    "\n",
    "# Módulo / Resto\n",
    "\n",
    "print(f' Módulo / Resto: {10 % 3 }')\n",
    "\n",
    "# Inteiros\n",
    "print(f'Inteiros: {type(5)}')\n",
    "\n",
    "# Reais\n",
    "print(f'Reais: {type(5.0)}')\n",
    "\n",
    "# Strings \n",
    "a = 'Eu sou uma String'\n",
    "print(f'String: {type(a)}')"
   ]
  },
  {
   "cell_type": "markdown",
   "id": "a0b73f9e",
   "metadata": {},
   "source": [
    "## Funções abs, round e pow"
   ]
  },
  {
   "cell_type": "code",
   "execution_count": 12,
   "id": "39c8fc6c",
   "metadata": {},
   "outputs": [
    {
     "name": "stdout",
     "output_type": "stream",
     "text": [
      "Valor Absoluto: 8\n",
      "Arredondando: 3.14\n",
      "Potência: 16\n"
     ]
    }
   ],
   "source": [
    "# Retorna o valor absoluto\n",
    "print(f'Valor Absoluto: {abs(-8)}')\n",
    "\n",
    "# Retorna o valor com arredondamento\n",
    "print(f'Arredondando: {round(3.14151922,2)}')\n",
    "\n",
    "# Potência\n",
    "print(f'Potência: {pow(4,2)}')"
   ]
  },
  {
   "cell_type": "markdown",
   "id": "a90c8a1d",
   "metadata": {},
   "source": [
    "## Operações com variáveis"
   ]
  },
  {
   "cell_type": "code",
   "execution_count": 13,
   "id": "a85de7ed",
   "metadata": {},
   "outputs": [
    {
     "name": "stdout",
     "output_type": "stream",
     "text": [
      "Soma: 60\n",
      "Subtraçao: 10\n",
      "Multiplicaçao: 875\n",
      "Divisao: 0.7142857142857143\n",
      "Resto: 25\n",
      "\n",
      "Nome Completo: Steve Jobs\n"
     ]
    }
   ],
   "source": [
    "idade1 = 25\n",
    "idade2 = 35\n",
    "print(f'Soma: {idade1+idade2}')\n",
    "print(f'Subtraçao: {idade2-idade1}')\n",
    "print(f'Multiplicaçao: {idade1*idade2}')\n",
    "print(f'Divisao: {idade1/idade2}')\n",
    "print(f'Resto: {idade1%idade2}')\n",
    "\n",
    "print()\n",
    "\n",
    "nome = \"Steve\"\n",
    "sobrenome = \"Jobs\"\n",
    "print(f'Nome Completo: {nome + \" \" + sobrenome}')"
   ]
  },
  {
   "cell_type": "markdown",
   "id": "9c0cd1ee",
   "metadata": {},
   "source": [
    "## Strings"
   ]
  },
  {
   "cell_type": "code",
   "execution_count": 14,
   "id": "b3d62ee0",
   "metadata": {},
   "outputs": [],
   "source": [
    "# Atribuindo uma string\n",
    "s = 'Data Science Academy'"
   ]
  },
  {
   "cell_type": "code",
   "execution_count": 15,
   "id": "e6110f81",
   "metadata": {},
   "outputs": [
    {
     "data": {
      "text/plain": [
       "'ata Science Academy'"
      ]
     },
     "execution_count": 15,
     "metadata": {},
     "output_type": "execute_result"
    }
   ],
   "source": [
    "# Retorna todos os elementos da string, começando pela posição (lembre-se que Python começa a indexação pela posição 0),\n",
    "# até o fim da string.\n",
    "s[1:]"
   ]
  },
  {
   "cell_type": "code",
   "execution_count": 16,
   "id": "bd7090f0",
   "metadata": {},
   "outputs": [
    {
     "data": {
      "text/plain": [
       "'Data Science Academ'"
      ]
     },
     "execution_count": 16,
     "metadata": {},
     "output_type": "execute_result"
    }
   ],
   "source": [
    "# Retornar tudo, exceto a última letra\n",
    "s[:-1]"
   ]
  },
  {
   "cell_type": "code",
   "execution_count": 17,
   "id": "1bcc575e",
   "metadata": {},
   "outputs": [
    {
     "data": {
      "text/plain": [
       "'Data Science Academy'"
      ]
     },
     "execution_count": 17,
     "metadata": {},
     "output_type": "execute_result"
    }
   ],
   "source": [
    "s[::1]"
   ]
  },
  {
   "cell_type": "code",
   "execution_count": 18,
   "id": "6d10025f",
   "metadata": {},
   "outputs": [
    {
     "data": {
      "text/plain": [
       "'Dt cec cdm'"
      ]
     },
     "execution_count": 18,
     "metadata": {},
     "output_type": "execute_result"
    }
   ],
   "source": [
    "s[::2]"
   ]
  },
  {
   "cell_type": "code",
   "execution_count": 19,
   "id": "c0ad4486",
   "metadata": {},
   "outputs": [
    {
     "data": {
      "text/plain": [
       "'ymedacA ecneicS ataD'"
      ]
     },
     "execution_count": 19,
     "metadata": {},
     "output_type": "execute_result"
    }
   ],
   "source": [
    "s[::-1]"
   ]
  },
  {
   "cell_type": "code",
   "execution_count": 20,
   "id": "29effcbd",
   "metadata": {},
   "outputs": [
    {
     "name": "stdout",
     "output_type": "stream",
     "text": [
      "DATA SCIENCE ACADEMY\n",
      "data science academy\n",
      "['Data', 'Science', 'Academy']\n",
      "['Data Science Academ', '']\n",
      "Data science academy\n",
      "3\n",
      "5\n"
     ]
    }
   ],
   "source": [
    "# Atribuindo uma string\n",
    "s = 'Data Science Academy'\n",
    "\n",
    "print(s.upper()) # Deixa em Maíusculo\n",
    "print(s.lower()) # Deixa em Minúsculo\n",
    "print(s.split()) # Dividir uma string por espaços em branco (padrão)\n",
    "print(s.split('y')) # Dividir uma string por um elemento específico\n",
    "print(s.capitalize()) # Transforma o primeiro caractere em maíusculo\n",
    "print(s.count('a')) # Conta a Quantidade de Caracteres que o caractere aparece\n",
    "print(s.find('S')) # Dá a posiçao do caractere\n"
   ]
  },
  {
   "cell_type": "markdown",
   "id": "0ef0657a",
   "metadata": {},
   "source": [
    "# <font color='red' style='font-size: 40px;'> 2) Estrutura Condicional </font>\n",
    "<hr style='border: 2px solid red;'>\n"
   ]
  },
  {
   "cell_type": "code",
   "execution_count": 32,
   "id": "ec868149",
   "metadata": {},
   "outputs": [
    {
     "name": "stdout",
     "output_type": "stream",
     "text": [
      "Menor de Idade\n"
     ]
    }
   ],
   "source": [
    "x = np.random.randint(1, 101, 1)\n",
    "\n",
    "if x < 18:\n",
    "    print('Menor de Idade')\n",
    "elif (x>= 18) and (x<21):\n",
    "    print('Jovem')\n",
    "elif (x >= 22) and (x<70):\n",
    "    print('Adulto Formado')\n",
    "else:\n",
    "    print('Idoso')"
   ]
  },
  {
   "cell_type": "markdown",
   "id": "3017041c",
   "metadata": {},
   "source": [
    "# <font color='red' style='font-size: 40px;'> 3) Estrutura de Repetição </font>\n",
    "<hr style='border: 2px solid red;'>\n"
   ]
  },
  {
   "cell_type": "markdown",
   "id": "39a143a6",
   "metadata": {},
   "source": [
    "### For"
   ]
  },
  {
   "cell_type": "code",
   "execution_count": null,
   "id": "e4d2cc77",
   "metadata": {},
   "outputs": [
    {
     "name": "stdout",
     "output_type": "stream",
     "text": [
      "0\n",
      "1\n",
      "2\n",
      "3\n",
      "4\n",
      "5\n",
      "6\n",
      "7\n",
      "8\n",
      "9\n",
      "10\n",
      "11\n",
      "12\n",
      "13\n",
      "14\n"
     ]
    }
   ],
   "source": [
    "for i in range(15):\n",
    "    print(i)"
   ]
  },
  {
   "cell_type": "markdown",
   "id": "7e946a09",
   "metadata": {},
   "source": [
    "### While"
   ]
  },
  {
   "cell_type": "code",
   "execution_count": null,
   "id": "5989b94c",
   "metadata": {},
   "outputs": [
    {
     "name": "stdout",
     "output_type": "stream",
     "text": [
      "0\n",
      "1\n",
      "2\n",
      "3\n",
      "4\n"
     ]
    }
   ],
   "source": [
    "contador = 0\n",
    "while(contador < 5):\n",
    "    print(contador)\n",
    "    contador = contador + 1"
   ]
  },
  {
   "cell_type": "markdown",
   "id": "0f08d42f",
   "metadata": {},
   "source": [
    "### Vetores"
   ]
  },
  {
   "cell_type": "code",
   "execution_count": null,
   "id": "04c10051",
   "metadata": {},
   "outputs": [
    {
     "data": {
      "text/plain": [
       "[0, 1, 2, 3, 4]"
      ]
     },
     "execution_count": 115,
     "metadata": {},
     "output_type": "execute_result"
    }
   ],
   "source": [
    "vetor = []\n",
    "for i in range(5):\n",
    "    vetor.append(i)\n",
    "vetor"
   ]
  },
  {
   "cell_type": "markdown",
   "id": "91d57808",
   "metadata": {},
   "source": [
    "### Matrizes"
   ]
  },
  {
   "cell_type": "code",
   "execution_count": null,
   "id": "32fb2929",
   "metadata": {},
   "outputs": [
    {
     "data": {
      "text/plain": [
       "[[0, 1, 2], [0, 1, 2], [0, 1, 2]]"
      ]
     },
     "execution_count": 112,
     "metadata": {},
     "output_type": "execute_result"
    }
   ],
   "source": [
    "matriz = [] \n",
    "\n",
    "for i in range(3):\n",
    "    linhas = []\n",
    "    for j in range(3):\n",
    "        linhas.append(j)\n",
    "    matriz.append(linhas)\n",
    "matriz"
   ]
  },
  {
   "cell_type": "markdown",
   "id": "eac1147f",
   "metadata": {},
   "source": [
    "### List Comprehension"
   ]
  },
  {
   "cell_type": "code",
   "execution_count": null,
   "id": "bfa98173",
   "metadata": {},
   "outputs": [
    {
     "data": {
      "text/plain": [
       "[0, 5, 10, 15, 20, 25, 30, 35, 40, 45]"
      ]
     },
     "execution_count": 1,
     "metadata": {},
     "output_type": "execute_result"
    }
   ],
   "source": [
    "x = 5\n",
    "[x*i for i in range(10)]\n"
   ]
  },
  {
   "cell_type": "code",
   "execution_count": null,
   "id": "c061f024",
   "metadata": {},
   "outputs": [
    {
     "data": {
      "text/plain": [
       "[0, 10, 20, 30, 40]"
      ]
     },
     "execution_count": 2,
     "metadata": {},
     "output_type": "execute_result"
    }
   ],
   "source": [
    "x = 5\n",
    "[x*i for i in range(10) if i%2 == 0]"
   ]
  },
  {
   "cell_type": "markdown",
   "id": "ec3491f2",
   "metadata": {},
   "source": [
    "# <font color='red' style='font-size: 40px;'> 4) Estruturas de Dados (Listas, Tuplas e Dicionários) </font>\n",
    "<hr style='border: 2px solid red;'>\n"
   ]
  },
  {
   "cell_type": "markdown",
   "id": "df6bcc1a",
   "metadata": {},
   "source": [
    "### Listas"
   ]
  },
  {
   "cell_type": "code",
   "execution_count": null,
   "id": "dcd69473",
   "metadata": {},
   "outputs": [
    {
     "name": "stdout",
     "output_type": "stream",
     "text": [
      "['ovos, farinha, leite, maças']\n",
      "ovos, farinha, leite, maças\n",
      "ovos\n",
      "['ovos', 'farinha', 'chocolate', 'maças']\n"
     ]
    }
   ],
   "source": [
    "# Criando uma lista\n",
    "listadomercado = [\"ovos, farinha, leite, maças\"]\n",
    "# Criando outra lista\n",
    "listadomercado2 = [\"ovos\", \"farinha\", \"leite\", \"maças\"]\n",
    "\n",
    "# Imprimindo a lista\n",
    "print(listadomercado)\n",
    "print(listadomercado[0])\n",
    "print(listadomercado2[0])\n",
    "\n",
    "# Atualizando um item da lista\n",
    "listadomercado2[2] = \"chocolate\"\n",
    "print(listadomercado2)"
   ]
  },
  {
   "cell_type": "code",
   "execution_count": null,
   "id": "39203cb4",
   "metadata": {},
   "outputs": [],
   "source": [
    "# Criando uma lista de listas\n",
    "listas = [[1,2,3], [10,15,14], [10.1,8.7,2.3]]\n",
    "\n",
    "# Atribuindo um item da lista a uma variável\n",
    "a = listas[0]\n",
    "b = a[0]\n",
    "print(a)\n",
    "print(b)"
   ]
  },
  {
   "cell_type": "code",
   "execution_count": null,
   "id": "15fb835f",
   "metadata": {},
   "outputs": [],
   "source": [
    "# Criando uma lista aninhada (lista de listas)\n",
    "listas = [[1,2,3], [10,15,14], [10.1,8.7,2.3]]\n",
    "\n",
    "a = listas[0][0]\n",
    "b = listas[1][2]\n",
    "c = listas[0][2] + 10\n",
    "d = 10 * listas[2][0]\n"
   ]
  },
  {
   "cell_type": "code",
   "execution_count": null,
   "id": "a25a9fb4",
   "metadata": {},
   "outputs": [],
   "source": [
    "# Concatenando listas\n",
    "lista_s1 = [34, 32, 56]\n",
    "lista_s2 = [21, 90, 51]\n",
    "\n",
    "lista_total = lista_s1 + lista_s2"
   ]
  },
  {
   "cell_type": "code",
   "execution_count": null,
   "id": "4ec055df",
   "metadata": {},
   "outputs": [
    {
     "name": "stdout",
     "output_type": "stream",
     "text": [
      "True\n"
     ]
    }
   ],
   "source": [
    "# Criando uma lista\n",
    "lista_teste_op = [100, 2, -5, 3.4]\n",
    "\n",
    "# Verificando se o valor 100 pertence a lista\n",
    "print(100 in lista_teste_op)"
   ]
  },
  {
   "cell_type": "code",
   "execution_count": null,
   "id": "a675fa50",
   "metadata": {},
   "outputs": [],
   "source": [
    "# Criando uma lista\n",
    "lista_teste_op = [100, 2, -5, 3.4]\n",
    "\n",
    "print(len(lista_teste_op)) # Função len() retorna o comprimento da lista\n",
    "print(max(lista_teste_op)) # Função max() retorna o valor máximo da lista\n",
    "print(min(lista_teste_op)) # Função min() retorna o valor mínimo da lista\n",
    "lista_teste_op.append(10)\n",
    "print(lista_teste_op) # Adicionando um item à lista\n",
    "print(lista_teste_op.count(100)) # Conta a Quantidade de Caracteres que o caractere aparece\n",
    "lista_teste_op.sort()\n",
    "print(lista_teste_op) # Ordena a lista\n"
   ]
  },
  {
   "cell_type": "code",
   "execution_count": null,
   "id": "71921d43",
   "metadata": {},
   "outputs": [],
   "source": [
    "cidades = ['Recife', 'Manaus', 'Salvador']\n",
    "cidades.extend(['Fortaleza', 'Palmas'])\n",
    "print(cidades) # Adiciona Elementos na lista\n",
    "print(cidades.index('Salvador')) # Dá o index do Elemento\n",
    "cidades.insert(2, 110) #Insere, na posição escolhida, o elemento que você quer)\n",
    "print(cidades) \n",
    "cidades.remove(110) # Remove um item da lista\n",
    "print(cidades)\n",
    "cidades.reverse() # Reverte a lista\n",
    "print(cidades)"
   ]
  },
  {
   "cell_type": "markdown",
   "id": "2055ced1",
   "metadata": {},
   "source": [
    "### Dicionários"
   ]
  },
  {
   "cell_type": "code",
   "execution_count": null,
   "id": "e0c6095d",
   "metadata": {},
   "outputs": [
    {
     "name": "stdout",
     "output_type": "stream",
     "text": [
      "['Mateus', 24, 'Fernanda', 22, 'Tamires', 26, 'Cristiano', 25]\n",
      "{'Mateus': 24, 'Fernanda': 22, 'Tamires': 26, 'Cristiano': 25}\n"
     ]
    }
   ],
   "source": [
    "# Isso é uma lista\n",
    "estudantes_lst = [\"Mateus\", 24, \"Fernanda\", 22, \"Tamires\", 26, \"Cristiano\", 25]   \n",
    "print(estudantes_lst)\n",
    "# Isso é um dicionário\n",
    "estudantes_dict = {\"Mateus\":24, \"Fernanda\":22, \"Tamires\":26, \"Cristiano\":25}\n",
    "print(estudantes_dict)"
   ]
  },
  {
   "cell_type": "code",
   "execution_count": null,
   "id": "3f921c8f",
   "metadata": {},
   "outputs": [
    {
     "name": "stdout",
     "output_type": "stream",
     "text": [
      "{'Mateus': 24, 'Fernanda': 22, 'Tamires': 26, 'Cristiano': 25, 'Pedro': 23}\n"
     ]
    }
   ],
   "source": [
    "estudantes_dict[\"Pedro\"] = 23 #Incluindo um valor no dicionário\n",
    "print(estudantes_dict)\n",
    "print(estudantes_dict[\"Tamires\"]) # Selecionando um Elemento do Dicionário\n",
    "estudantes_dict.clear() #Limpando o dicionário\n",
    "print(estudantes_dict)"
   ]
  },
  {
   "cell_type": "code",
   "execution_count": null,
   "id": "9fcdcd10",
   "metadata": {},
   "outputs": [
    {
     "name": "stdout",
     "output_type": "stream",
     "text": [
      "4\n",
      "dict_keys(['Mateus', 'Fernanda', 'Tamires', 'Cristiano'])\n",
      "dict_values([24, 22, 26, 25])\n",
      "4\n",
      "{'Mateus': 24, 'Fernanda': 22, 'Tamires': 26, 'Cristiano': 25, 'Maria': 27, 'Erika': 28, 'Milton': 26}\n"
     ]
    }
   ],
   "source": [
    "estudantes_dict = {\"Mateus\":24, \"Fernanda\":22, \"Tamires\":26, \"Cristiano\":25}\n",
    "\n",
    "print(len(estudantes_dict)) #Verificando o tamanho do dicionário\n",
    "print(estudantes_dict.keys()) #Verificando as chaves do dicionário \n",
    "print(estudantes_dict.values()) #Verificando o valor dos dicionários\n",
    "print(len(estudantes_dict.items())) #Verificando os items do meu dicionários\n",
    "\n",
    "estudantes2 = {\"Maria\":27, \"Erika\":28, \"Milton\":26}\n",
    "estudantes_dict.update(estudantes2) #Juntando e Atualizando um dicionário com outro\n",
    "print(estudantes_dict) "
   ]
  },
  {
   "cell_type": "code",
   "execution_count": null,
   "id": "343674a0",
   "metadata": {},
   "outputs": [
    {
     "name": "stdout",
     "output_type": "stream",
     "text": [
      "LEITE\n",
      "20\n",
      "Dict aninhado em Python\n"
     ]
    }
   ],
   "source": [
    "# Dicionário de listas\n",
    "dict3 = {'key1':1230,'key2':[22,453,73.4],'key3':['leite','maça','batata']}\n",
    "\n",
    "print(dict3['key3'][0].upper()) # Acessando um item da lista, dentro do dicionário\n",
    "print(dict3['key2'][0] - 2) # Operações com itens da lista, dentro do dicionário\n",
    "\n",
    "# Criando dicionários aninhados\n",
    "dict_aninhado = {'key1':{'key2_aninhada':{'key3_aninhada':'Dict aninhado em Python'}}}\n",
    "print(dict_aninhado['key1']['key2_aninhada']['key3_aninhada'])"
   ]
  },
  {
   "cell_type": "markdown",
   "id": "02d650e2",
   "metadata": {},
   "source": [
    "### Tuplas"
   ]
  },
  {
   "cell_type": "code",
   "execution_count": null,
   "id": "961beb25",
   "metadata": {},
   "outputs": [
    {
     "name": "stdout",
     "output_type": "stream",
     "text": [
      "3\n",
      "(23, 'Elefantes')\n",
      "2\n"
     ]
    }
   ],
   "source": [
    "# Criando uma tupla\n",
    "tupla1 = (\"Geografia\", 23, \"Elefantes\")\n",
    "\n",
    "print(len(tupla1)) # Verificando o comprimento da tupla\n",
    "print(tupla1[1:]) # Slicing, da mesma forma que se faz com listas\n",
    "print(tupla1.index('Elefantes')) # Conferindo o Index"
   ]
  },
  {
   "cell_type": "markdown",
   "id": "d125b5f7",
   "metadata": {},
   "source": [
    "# <font color='red' style='font-size: 40px;'> 5) Funções Normais, Funções Lambda e Funções Built-In </font>\n",
    "<hr style='border: 2px solid red;'>\n"
   ]
  },
  {
   "cell_type": "markdown",
   "id": "ca066cfd",
   "metadata": {},
   "source": [
    "### Sem parâmetros"
   ]
  },
  {
   "cell_type": "code",
   "execution_count": null,
   "id": "438e2654",
   "metadata": {},
   "outputs": [
    {
     "name": "stdout",
     "output_type": "stream",
     "text": [
      "Essa é uma função\n"
     ]
    }
   ],
   "source": [
    "def imprime():\n",
    "    print('Essa é uma função')\n",
    "imprime()"
   ]
  },
  {
   "cell_type": "markdown",
   "id": "cf6d59ad",
   "metadata": {},
   "source": [
    "### Com parâmetros"
   ]
  },
  {
   "cell_type": "code",
   "execution_count": null,
   "id": "2029b123",
   "metadata": {},
   "outputs": [
    {
     "name": "stdout",
     "output_type": "stream",
     "text": [
      "Salve\n"
     ]
    }
   ],
   "source": [
    "def imprime(palavra):\n",
    "    print(palavra)\n",
    "imprime('Salve')"
   ]
  },
  {
   "cell_type": "markdown",
   "id": "3a134a9e",
   "metadata": {},
   "source": [
    "### Com Retorno"
   ]
  },
  {
   "cell_type": "code",
   "execution_count": null,
   "id": "01c3a460",
   "metadata": {},
   "outputs": [
    {
     "name": "stdout",
     "output_type": "stream",
     "text": [
      "196\n"
     ]
    }
   ],
   "source": [
    "def potencia(n):\n",
    "    return n*n\n",
    "x = potencia(14)\n",
    "print(x)"
   ]
  },
  {
   "cell_type": "markdown",
   "id": "6e0b4448",
   "metadata": {},
   "source": [
    "### Com valor Default"
   ]
  },
  {
   "cell_type": "code",
   "execution_count": null,
   "id": "fa77ba51",
   "metadata": {},
   "outputs": [
    {
     "name": "stdout",
     "output_type": "stream",
     "text": [
      "1\n",
      "2\n",
      "3\n",
      "4\n",
      "5\n",
      "6\n",
      "7\n",
      "8\n",
      "9\n",
      "10\n",
      "\n",
      "\n",
      "1\n",
      "2\n",
      "3\n",
      "4\n",
      "5\n",
      "6\n",
      "7\n",
      "8\n",
      "9\n",
      "10\n"
     ]
    }
   ],
   "source": [
    "def intervalo (inic = 1, fim = 10):\n",
    "    for e in range(1, fim+1):\n",
    "        print(e)\n",
    "x = intervalo(1, 10)\n",
    "print('\\n')\n",
    "y = intervalo()"
   ]
  },
  {
   "cell_type": "markdown",
   "id": "2fe7bb2d",
   "metadata": {},
   "source": [
    "### Funções Lambda"
   ]
  },
  {
   "cell_type": "code",
   "execution_count": null,
   "id": "252bfa4e",
   "metadata": {},
   "outputs": [
    {
     "data": {
      "text/plain": [
       "81"
      ]
     },
     "execution_count": 139,
     "metadata": {},
     "output_type": "execute_result"
    }
   ],
   "source": [
    "def multiplica(x):\n",
    "    return x*x\n",
    "multiplica(9)"
   ]
  },
  {
   "cell_type": "code",
   "execution_count": null,
   "id": "1126400a",
   "metadata": {},
   "outputs": [
    {
     "data": {
      "text/plain": [
       "81"
      ]
     },
     "execution_count": 142,
     "metadata": {},
     "output_type": "execute_result"
    }
   ],
   "source": [
    "mult = lambda x: x*x\n",
    "mult(9)"
   ]
  },
  {
   "cell_type": "code",
   "execution_count": null,
   "id": "782ee881",
   "metadata": {},
   "outputs": [
    {
     "data": {
      "text/plain": [
       "5"
      ]
     },
     "execution_count": 143,
     "metadata": {},
     "output_type": "execute_result"
    }
   ],
   "source": [
    "soma = lambda a,b: a+b\n",
    "soma(2, 3)"
   ]
  },
  {
   "cell_type": "code",
   "execution_count": null,
   "id": "6951c483",
   "metadata": {},
   "outputs": [
    {
     "name": "stdout",
     "output_type": "stream",
     "text": [
      "4 é par\n"
     ]
    }
   ],
   "source": [
    "impar_ou_par = lambda n: print(f'{n} é par' if n%2 == 0  else print(f'{n} é ímpar'))\n",
    "impar_ou_par(4)"
   ]
  },
  {
   "cell_type": "markdown",
   "id": "ad01bfba",
   "metadata": {},
   "source": [
    "### Funçoes Built-In "
   ]
  },
  {
   "cell_type": "markdown",
   "id": "5127bcc0",
   "metadata": {},
   "source": [
    "* Txt"
   ]
  },
  {
   "cell_type": "code",
   "execution_count": null,
   "id": "81d09051",
   "metadata": {},
   "outputs": [
    {
     "name": "stdout",
     "output_type": "stream",
     "text": [
      "Cientista de Dados é a profissão que mais tem crescido em todo mundo.\n",
      "Esses profissionais precisam se especializar em Programação, Estatística e Machine Learning.\n",
      "E claro, em Big Data.\n",
      "\n",
      "\n",
      "Cientista de Dados é a profissão que mais tem crescido em todo mundo. Esses profissionais precisam se especializar em Programação, Estatística e Machine Learning. E claro, em Big Data. \n"
     ]
    }
   ],
   "source": [
    "texto = \"Cientista de Dados é a profissão que mais tem crescido em todo mundo.\\n\"\n",
    "texto = texto + \"Esses profissionais precisam se especializar em Programação, Estatística e Machine Learning.\\n\"\n",
    "texto += \"E claro, em Big Data.\"\n",
    "\n",
    "print(texto)\n",
    "print()\n",
    "# Importando o módulo os\n",
    "import os\n",
    "\n",
    "# Criando um arquivo \n",
    "arquivo = open(os.path.join('arquivos/cientista.txt'),'w')\n",
    "\n",
    "# Gravando os dados no arquivo\n",
    "for palavra in texto.split():\n",
    "    arquivo.write(palavra+' ')\n",
    " \n",
    "# Fechando o arquivo\n",
    "arquivo.close()\n",
    "\n",
    "# Lendo o arquivo\n",
    "arquivo = open('arquivos/cientista.txt','r')\n",
    "conteudo = arquivo.read()\n",
    "arquivo.close()\n",
    "\n",
    "print()\n",
    "print(conteudo)"
   ]
  },
  {
   "cell_type": "markdown",
   "id": "fa4f5b14",
   "metadata": {},
   "source": [
    "* CSV "
   ]
  },
  {
   "cell_type": "code",
   "execution_count": null,
   "id": "1f4c79b3",
   "metadata": {},
   "outputs": [
    {
     "name": "stdout",
     "output_type": "stream",
     "text": [
      "Número de colunas: 3\n",
      "['primeira', 'segunda', 'terceira']\n",
      "Número de colunas: 0\n",
      "[]\n",
      "Número de colunas: 3\n",
      "['55', '93', '76']\n",
      "Número de colunas: 0\n",
      "[]\n",
      "Número de colunas: 3\n",
      "['62', '14', '86']\n",
      "Número de colunas: 0\n",
      "[]\n",
      "Número de colunas: 3\n",
      "['primeira', 'segunda', 'terceira']\n",
      "Número de colunas: 3\n",
      "['55', '93', '76']\n",
      "Número de colunas: 3\n",
      "['62', '14', '86']\n",
      "[['primeira', 'segunda', 'terceira'], [], ['55', '93', '76'], [], ['62', '14', '86'], []]\n",
      "[]\n",
      "['55', '93', '76']\n",
      "[]\n",
      "['62', '14', '86']\n",
      "[]\n"
     ]
    }
   ],
   "source": [
    "# Importando o módulo csv\n",
    "import csv\n",
    "\n",
    "with open('arquivos/numeros.csv','w') as arquivo:\n",
    "    writer = csv.writer(arquivo)\n",
    "    writer.writerow(('primeira','segunda','terceira'))\n",
    "    writer.writerow((55,93,76)) \n",
    "    writer.writerow((62,14,86))\n",
    "\n",
    "# Leitura de arquivos csv\n",
    "with open('arquivos/numeros.csv','r') as arquivo:\n",
    "    leitor = csv.reader(arquivo)\n",
    "    for x in leitor:\n",
    "        print ('Número de colunas:', len(x))\n",
    "        print(x)\n",
    "\n",
    "# Código alternativo para eventuais problemas com linhas em branco no arquivo\n",
    "with open('arquivos/numeros.csv','r', encoding='utf8', newline = '\\r\\n') as arquivo:\n",
    "    leitor = csv.reader(arquivo)\n",
    "    for x in leitor:\n",
    "        print ('Número de colunas:', len(x))\n",
    "        print(x)\n",
    "\n",
    "# Gerando uma lista com dados do arquivo csv\n",
    "with open('arquivos/numeros.csv','r') as arquivo:\n",
    "    leitor = csv.reader(arquivo)\n",
    "    dados = list(leitor)\n",
    "    \n",
    "    \n",
    "print (dados)\n",
    "\n",
    "# Impriminfo a partir da segunda linha\n",
    "for linha in dados[1:]:\n",
    "    print(linha)"
   ]
  },
  {
   "cell_type": "markdown",
   "id": "3370d058",
   "metadata": {},
   "source": [
    "* JSON "
   ]
  },
  {
   "cell_type": "code",
   "execution_count": null,
   "id": "e7372d33",
   "metadata": {},
   "outputs": [],
   "source": [
    "# Importando o módulo Json\n",
    "import json\n",
    "\n",
    "# Criando um dicionário\n",
    "dict = {'nome': 'Guido van Rossum',\n",
    "        'linguagem': 'Python',\n",
    "        'similar': ['c','Modula-3','lisp'],\n",
    "        'users': 1000000}\n",
    "\n",
    "for k,v in dict.items():\n",
    "    print (k,v)\n",
    "\n",
    "# Convertendo o dicionário para um objeto json\n",
    "json.dumps(dict)\n",
    "\n",
    "# Criando um arquivo Json\n",
    "with open('arquivos/dados.json','w') as arquivo:\n",
    "    arquivo.write(json.dumps(dict))\n",
    "\n",
    "\n",
    "# Leitura de arquivos Json\n",
    "with open('arquivos/dados.json','r') as arquivo:\n",
    "    texto = arquivo.read()\n",
    "    data = json.loads(texto)\n",
    "\n",
    "print (data['nome'])"
   ]
  },
  {
   "cell_type": "code",
   "execution_count": null,
   "id": "5c266389",
   "metadata": {},
   "outputs": [
    {
     "name": "stdout",
     "output_type": "stream",
     "text": [
      "Título:  The Good Man trailer\n",
      "URL:  https://vimeo.com/57733101\n",
      "Duração:  143\n",
      "Número de Visualizações:  6523\n"
     ]
    }
   ],
   "source": [
    "# Imprimindo um arquivo Json copiado da internet\n",
    "import json\n",
    "from urllib.request import urlopen\n",
    "\n",
    "response = urlopen(\"http://vimeo.com/api/v2/video/57733101.json\").read().decode('utf8')\n",
    "data = json.loads(response)[0]\n",
    "\n",
    "print ('Título: ', data['title'])\n",
    "print ('URL: ', data['url'])\n",
    "print ('Duração: ', data['duration'])\n",
    "print ('Número de Visualizações: ', data['stats_number_of_plays'])"
   ]
  },
  {
   "cell_type": "code",
   "execution_count": null,
   "id": "45776218",
   "metadata": {},
   "outputs": [
    {
     "name": "stdout",
     "output_type": "stream",
     "text": [
      "{'nome': 'Guido van Rossum', 'linguagem': 'Python', 'similar': ['c', 'Modula-3', 'lisp'], 'users': 1000000}\n"
     ]
    }
   ],
   "source": [
    "# Copiando o conteúdo de um arquivo para outro\n",
    "import os\n",
    "\n",
    "arquivo_fonte = 'arquivos/dados.json'\n",
    "arquivo_destino = 'arquivos/json_data.txt'\n",
    "\n",
    "# Método 1\n",
    "with open(arquivo_fonte,'r') as infile:\n",
    "    text = infile.read()\n",
    "    with open(arquivo_destino,'w') as outfile:\n",
    "        outfile.write(text)  \n",
    "\n",
    "# Método 2\n",
    "open(arquivo_destino,'w').write(open(arquivo_fonte,'r').read()) \n",
    "\n",
    "# Leitura de arquivos Json\n",
    "with open('arquivos/json_data.txt','r') as arquivo:\n",
    "    texto = arquivo.read()\n",
    "    data = json.loads(texto)\n",
    "\n",
    "print(data)"
   ]
  },
  {
   "cell_type": "markdown",
   "id": "e6f013db",
   "metadata": {},
   "source": [
    "* String "
   ]
  },
  {
   "cell_type": "code",
   "execution_count": null,
   "id": "098f7571",
   "metadata": {},
   "outputs": [
    {
     "name": "stdout",
     "output_type": "stream",
     "text": [
      "DATA SCIENCE ACADEMY\n",
      "data science academy\n",
      "['Data', 'Science', 'Academy']\n",
      "['Data Science Academ', '']\n",
      "Data science academy\n",
      "3\n",
      "5\n"
     ]
    }
   ],
   "source": [
    "# Atribuindo uma string\n",
    "s = 'Data Science Academy'\n",
    "\n",
    "print(s.upper()) # Deixa em Maíusculo\n",
    "print(s.lower()) # Deixa em Minúsculo\n",
    "print(s.split()) # Dividir uma string por espaços em branco (padrão)\n",
    "print(s.split('y')) # Dividir uma string por um elemento específico\n",
    "print(s.capitalize()) # Transforma o primeiro caractere em maíusculo\n",
    "print(s.count('a')) # Conta a Quantidade de Caracteres que o caractere aparece\n",
    "print(s.find('S')) # Dá a posiçao do caractere\n"
   ]
  },
  {
   "cell_type": "code",
   "execution_count": null,
   "id": "78a732b5",
   "metadata": {},
   "outputs": [
    {
     "name": "stdout",
     "output_type": "stream",
     "text": [
      "Testando gravaÃ§Ã£o de arquivos em Python  Acrescentando conteÃºdo\n",
      "66\n",
      "0\n",
      "Testando g\n"
     ]
    }
   ],
   "source": [
    "# Abrindo o arquivo para leitura\n",
    "arq1 = open(\"arquivos/arquivo1.txt\", \"r\")\n",
    "\n",
    "# Lendo o arquivo\n",
    "print(arq1.read())\n",
    "\n",
    "# Contar o número de caracteres\n",
    "print(arq1.tell())\n",
    "\n",
    "# Retornar para o iníco do arquivo\n",
    "print(arq1.seek(0,0))\n",
    "\n",
    "# Ler os primeiros 10 caracteres\n",
    "print(arq1.read(10))"
   ]
  },
  {
   "cell_type": "code",
   "execution_count": null,
   "id": "6d02027a",
   "metadata": {},
   "outputs": [
    {
     "name": "stdout",
     "output_type": "stream",
     "text": [
      "Testando gravação de arquivos em Python \n",
      "Testando gravação de arquivos em Python  Acrescentando conteúdo\n"
     ]
    }
   ],
   "source": [
    "# Abrindo arquivo para gravação\n",
    "arq2 = open(\"arquivos/arquivo1.txt\", \"w\")\n",
    "\n",
    "# Gravando arquivo\n",
    "arq2.write(\"Testando gravação de arquivos em Python \")\n",
    "\n",
    "# Fechando o Arquivo\n",
    "arq2.close()\n",
    "\n",
    "# Lendo arquivo gravado\n",
    "arq2 = open(\"arquivos/arquivo1.txt\", \"r\")\n",
    "print(arq2.read())\n",
    "\n",
    "# Acrescentando conteúdo\n",
    "arq2 = open(\"arquivos/arquivo1.txt\", \"a\")\n",
    "arq2.write(\" Acrescentando conteúdo\")\n",
    "arq2.close()\n",
    "arq2 = open(\"arquivos/arquivo1.txt\", \"r\")\n",
    "print(arq2.read())"
   ]
  },
  {
   "cell_type": "code",
   "execution_count": null,
   "id": "a3531137",
   "metadata": {},
   "outputs": [
    {
     "name": "stdout",
     "output_type": "stream",
     "text": [
      "Número de Linhas: 32184\n",
      "Número de Colunas: 4\n"
     ]
    }
   ],
   "source": [
    "f = open('arquivos/salarios.csv', 'r')\n",
    "data = f.read()\n",
    "rows = data.split('\\n')\n",
    "full_data = []\n",
    "\n",
    "for row in rows:\n",
    "    split_row = row.split(\",\")\n",
    "    full_data.append(split_row)\n",
    "\n",
    "count = 0\n",
    "for row in full_data:\n",
    "    count = count + 1  \n",
    "\n",
    "print(f'Número de Linhas: {count}')\n",
    "\n",
    "\n",
    "for row in rows:\n",
    "    split_row = row.split(\",\")\n",
    "    full_data.append(split_row)\n",
    "    first_row = full_data[0]\n",
    "count = 0\n",
    "\n",
    "for column in first_row:\n",
    "    count = count + 1\n",
    "\n",
    "print(f'Número de Colunas: {count}')"
   ]
  },
  {
   "cell_type": "markdown",
   "id": "cb375ce7",
   "metadata": {},
   "source": [
    "* Listas "
   ]
  },
  {
   "cell_type": "code",
   "execution_count": null,
   "id": "a2b61105",
   "metadata": {},
   "outputs": [
    {
     "name": "stdout",
     "output_type": "stream",
     "text": [
      "4\n",
      "100\n",
      "-5\n",
      "[100, 2, -5, 3.4, 10]\n",
      "1\n",
      "[-5, 2, 3.4, 10, 100]\n",
      "\n",
      "\n",
      "\n",
      "['Recife', 'Manaus', 'Salvador', 'Fortaleza', 'Palmas']\n",
      "2\n",
      "['Recife', 'Manaus', 110, 'Salvador', 'Fortaleza', 'Palmas']\n",
      "['Recife', 'Manaus', 'Salvador', 'Fortaleza', 'Palmas']\n",
      "['Palmas', 'Fortaleza', 'Salvador', 'Manaus', 'Recife']\n"
     ]
    }
   ],
   "source": [
    "# Criando uma lista\n",
    "lista_teste_op = [100, 2, -5, 3.4]\n",
    "\n",
    "print(len(lista_teste_op)) # Função len() retorna o comprimento da lista\n",
    "print(max(lista_teste_op)) # Função max() retorna o valor máximo da lista\n",
    "print(min(lista_teste_op)) # Função min() retorna o valor mínimo da lista\n",
    "lista_teste_op.append(10)\n",
    "print(lista_teste_op) # Adicionando um item à lista\n",
    "print(lista_teste_op.count(100)) # Conta a Quantidade de Caracteres que o caractere aparece\n",
    "lista_teste_op.sort()\n",
    "print(lista_teste_op) # Ordena a lista\n",
    "\n",
    "print()\n",
    "print()\n",
    "print()\n",
    "\n",
    "cidades = ['Recife', 'Manaus', 'Salvador']\n",
    "cidades.extend(['Fortaleza', 'Palmas'])\n",
    "print(cidades) # Adiciona Elementos na lista\n",
    "print(cidades.index('Salvador')) # Dá o index do Elemento\n",
    "cidades.insert(2, 110) #Insere, na posição escolhida, o elemento que você quer)\n",
    "print(cidades) \n",
    "cidades.remove(110) # Remove um item da lista\n",
    "print(cidades)\n",
    "cidades.reverse() # Reverte a lista\n",
    "print(cidades)\n",
    "\n"
   ]
  },
  {
   "cell_type": "markdown",
   "id": "99d99b4d",
   "metadata": {},
   "source": [
    "* Map "
   ]
  },
  {
   "cell_type": "code",
   "execution_count": null,
   "id": "ca526d52",
   "metadata": {},
   "outputs": [
    {
     "name": "stdout",
     "output_type": "stream",
     "text": [
      "Celsius -> Fahrenheit\n",
      "32.0\n",
      "72.5\n",
      "104.0\n",
      "212.0\n",
      "\n",
      "Fahrenheit -> Celsius\n",
      "\n",
      "-17.77777777777778\n",
      "-5.277777777777778\n",
      "4.444444444444445\n",
      "37.77777777777778\n",
      "\n",
      "Fahrenheit -> Celsius Usando Lambda\n",
      "\n",
      "-17.77777777777778\n",
      "-5.277777777777778\n",
      "4.444444444444445\n",
      "37.77777777777778\n"
     ]
    }
   ],
   "source": [
    "# Criando duas funções\n",
    "\n",
    "# Função 1 - Recebe uma temperatura como parâmetro e retorna a temperatura em Fahrenheit\n",
    "def fahrenheit(T):\n",
    "    return ((float(9)/5)*T + 32)\n",
    "\n",
    "# Função 2 - Recebe uma temperatura como parâmetro e retorna a temperatura em Celsius\n",
    "def celsius(T):\n",
    "    return (float(5)/9)*(T-32)\n",
    "\n",
    "# Criando uma lista\n",
    "temperaturas = [0, 22.5, 40, 100]\n",
    "\n",
    "# Aplicando a função a cada elemento da lista de temperaturas. \n",
    "# Em Python 3, a funçãp map() retornar um iterator\n",
    "\n",
    "print('Celsius -> Fahrenheit')\n",
    "# Função map() reotrnando a lista de temperaturas convertidas em Fahrenheit\n",
    "list(map(fahrenheit, temperaturas))\n",
    "# Usando um loop for para imprimir o resultado da função map()\n",
    "for temp in map(fahrenheit, temperaturas):\n",
    "    print(temp)\n",
    "print()\n",
    "print('Fahrenheit -> Celsius')\n",
    "print()\n",
    "# Convertendo para Celsius\n",
    "map(celsius, temperaturas)\n",
    "\n",
    "for temp in map(celsius, temperaturas):\n",
    "    print(temp)\n",
    "\n",
    "# Usando lambda\n",
    "print()\n",
    "print('Fahrenheit -> Celsius Usando Lambda')\n",
    "print()\n",
    "map(lambda x: (5.0/9)*(x - 32), temperaturas)\n",
    "for temp in map(lambda x: (5.0/9)*(x - 32), temperaturas):\n",
    "    print(temp)"
   ]
  },
  {
   "cell_type": "code",
   "execution_count": null,
   "id": "528fb727",
   "metadata": {},
   "outputs": [
    {
     "name": "stdout",
     "output_type": "stream",
     "text": [
      "[6, 8, 10, 12]\n",
      "[15, 18, 21, 24]\n"
     ]
    }
   ],
   "source": [
    "# Somando os elementos de 2 listas\n",
    "a = [1,2,3,4]\n",
    "b = [5,6,7,8]\n",
    "\n",
    "print(list(map(lambda x,y:x+y, a, b)))\n",
    "\n",
    "# Somando os elementos de 3 listas\n",
    "a = [1,2,3,4]\n",
    "b = [5,6,7,8]\n",
    "c = [9,10,11,12]\n",
    "\n",
    "print(list(map(lambda x,y,z:x+y+z, a, b, c)))"
   ]
  },
  {
   "cell_type": "markdown",
   "id": "5674a99f",
   "metadata": {},
   "source": [
    "* Filter "
   ]
  },
  {
   "cell_type": "code",
   "execution_count": null,
   "id": "2f6476eb",
   "metadata": {},
   "outputs": [
    {
     "name": "stdout",
     "output_type": "stream",
     "text": [
      "[0, 2, 4, 6, 8, 10, 12, 14, 16, 18]\n",
      "[0, 2, 4, 6, 8, 10, 12, 14, 16, 18]\n",
      "[9, 10, 11, 12, 13, 14, 15, 16, 17, 18]\n"
     ]
    }
   ],
   "source": [
    "# Criando uma função\n",
    "def verificaPar(num):\n",
    "    if num % 2 == 0:\n",
    "        return True\n",
    "    else:\n",
    "        return False\n",
    "\n",
    "lista = [0, 1, 2, 3, 4, 5, 6, 7, 8, 9, 10, 11, 12, 13, 14, 15, 16, 17, 18]\n",
    "\n",
    "print(list(filter(verificaPar, lista)))\n",
    "print(list(filter(lambda x: x%2==0, lista)))\n",
    "print(list(filter(lambda num: num > 8, lista)))"
   ]
  },
  {
   "cell_type": "markdown",
   "id": "7a637abb",
   "metadata": {},
   "source": [
    "* Zip "
   ]
  },
  {
   "cell_type": "code",
   "execution_count": null,
   "id": "0a89cdb5",
   "metadata": {},
   "outputs": [
    {
     "data": {
      "text/plain": [
       "[(1, 4), (2, 5), (3, 6)]"
      ]
     },
     "execution_count": 65,
     "metadata": {},
     "output_type": "execute_result"
    }
   ],
   "source": [
    "# Criando duas listas\n",
    "x = [1,2,3]\n",
    "y = [4,5,6]\n",
    "\n",
    "# Unindo as listas. Em Python3 retorna um iterator\n",
    "zip(x, y)\n",
    "\n",
    "# Perceba que zip retorna tuplas. Neste caso, uma lista de tuplas\n",
    "list(zip(x,y))"
   ]
  },
  {
   "cell_type": "code",
   "execution_count": null,
   "id": "cb882e04",
   "metadata": {},
   "outputs": [
    {
     "data": {
      "text/plain": [
       "[('A', 'x'), ('B', 'y')]"
      ]
     },
     "execution_count": 66,
     "metadata": {},
     "output_type": "execute_result"
    }
   ],
   "source": [
    "# Atenção quando as sequências tiverem número diferente de elementos\n",
    "list(zip('ABCD', 'xy'))"
   ]
  },
  {
   "cell_type": "code",
   "execution_count": null,
   "id": "6762d349",
   "metadata": {},
   "outputs": [
    {
     "name": "stdout",
     "output_type": "stream",
     "text": [
      "[(1, 4), (2, 5), (3, 6)]\n",
      "[('a', 'c'), ('b', 'd')]\n",
      "[('a', 4), ('b', 5)]\n"
     ]
    }
   ],
   "source": [
    "# Criando duas listas\n",
    "a = [1,2,3]\n",
    "b = [4,5,6,7,8]\n",
    "\n",
    "print(list(zip(a,b)))\n",
    "\n",
    "# Criando 2 dicionários\n",
    "d1 = {'a':1,'b':2}\n",
    "d2 = {'c':4,'d':5}\n",
    "\n",
    "# Zip vai unir as chaves\n",
    "print(list(zip(d1,d2)))\n",
    "\n",
    "# Zip pode unir os valores (itens)\n",
    "print(list(zip(d1, d2.values())))"
   ]
  },
  {
   "cell_type": "code",
   "execution_count": null,
   "id": "996c48f2",
   "metadata": {},
   "outputs": [
    {
     "data": {
      "text/plain": [
       "{'a': 4, 'b': 5}"
      ]
     },
     "execution_count": 68,
     "metadata": {},
     "output_type": "execute_result"
    }
   ],
   "source": [
    "# Criando uma função para trocar valores entre 2 dicionários\n",
    "def trocaValores(d1, d2):\n",
    "    dicTemp = {}\n",
    "    \n",
    "    for d1key, d2val in zip(d1,d2.values()):\n",
    "        dicTemp[d1key] = d2val\n",
    "    \n",
    "    return dicTemp\n",
    "\n",
    "trocaValores(d1, d2)"
   ]
  },
  {
   "cell_type": "markdown",
   "id": "65b8acda",
   "metadata": {},
   "source": [
    "* Enumerate "
   ]
  },
  {
   "cell_type": "code",
   "execution_count": null,
   "id": "b56c74f7",
   "metadata": {},
   "outputs": [
    {
     "data": {
      "text/plain": [
       "[(0, 'a'), (1, 'b'), (2, 'c')]"
      ]
     },
     "execution_count": 69,
     "metadata": {},
     "output_type": "execute_result"
    }
   ],
   "source": [
    "# Criando uma lista\n",
    "seq = ['a','b','c']\n",
    "\n",
    "list(enumerate(seq))"
   ]
  },
  {
   "cell_type": "code",
   "execution_count": null,
   "id": "7316442d",
   "metadata": {},
   "outputs": [
    {
     "name": "stdout",
     "output_type": "stream",
     "text": [
      "0 a\n",
      "1 b\n",
      "2 c\n"
     ]
    }
   ],
   "source": [
    "# Imprimindo os valores de uma lista com a função enumerate() e seus respectivos índices\n",
    "for indice, valor in enumerate(seq):\n",
    "    print (indice, valor)"
   ]
  },
  {
   "cell_type": "code",
   "execution_count": null,
   "id": "9cd9f75b",
   "metadata": {},
   "outputs": [
    {
     "name": "stdout",
     "output_type": "stream",
     "text": [
      "0 Marketing\n",
      "1 Tecnologia\n",
      "2 Business\n"
     ]
    }
   ],
   "source": [
    "lista = ['Marketing', 'Tecnologia', 'Business']\n",
    "\n",
    "for i, item in enumerate(lista):\n",
    "    print(i, item)"
   ]
  },
  {
   "cell_type": "markdown",
   "id": "3c9e1edb",
   "metadata": {},
   "source": [
    "* Erros e Exceçoes "
   ]
  },
  {
   "cell_type": "code",
   "execution_count": null,
   "id": "bf269a30",
   "metadata": {},
   "outputs": [
    {
     "name": "stdout",
     "output_type": "stream",
     "text": [
      "Operação não permitida\n"
     ]
    }
   ],
   "source": [
    "# Utilizando try e except\n",
    "try:\n",
    "    8 + 's'\n",
    "except TypeError:\n",
    "    print(\"Operação não permitida\")"
   ]
  },
  {
   "cell_type": "code",
   "execution_count": null,
   "id": "e8b529ba",
   "metadata": {},
   "outputs": [
    {
     "name": "stdout",
     "output_type": "stream",
     "text": [
      "Conteúdo gravado com sucesso!\n"
     ]
    }
   ],
   "source": [
    "# Utilizando try, except e else\n",
    "try:\n",
    "    f = open('arquivos/testandoerros.txt','w')\n",
    "    f.write('Gravando no arquivo')\n",
    "except IOError:\n",
    "    print (\"Erro: arquivo não encontrado ou não pode ser salvo.\")\n",
    "else:\n",
    "    print (\"Conteúdo gravado com sucesso!\")\n",
    "    f.close()"
   ]
  },
  {
   "cell_type": "code",
   "execution_count": null,
   "id": "f5f60464",
   "metadata": {},
   "outputs": [
    {
     "name": "stdout",
     "output_type": "stream",
     "text": [
      "Conteúdo gravado com sucesso!\n",
      "Comandos no bloco finally são sempre executados!\n"
     ]
    }
   ],
   "source": [
    "try:\n",
    "    f = open('arquivos/testandoerros.txt','w')\n",
    "    f.write('Gravando no arquivo')\n",
    "except IOError:\n",
    "    print (\"Erro: arquivo não encontrado ou não pode ser salvo.\")\n",
    "else:\n",
    "    print (\"Conteúdo gravado com sucesso!\")\n",
    "    f.close()\n",
    "finally:\n",
    "    print (\"Comandos no bloco finally são sempre executados!\")"
   ]
  },
  {
   "cell_type": "markdown",
   "id": "71ff8813",
   "metadata": {},
   "source": [
    "# <font color='red' style='font-size: 40px;'> 6) Numpy </font>\n",
    "<hr style='border: 2px solid red;'>\n"
   ]
  },
  {
   "cell_type": "markdown",
   "id": "7dbad11f",
   "metadata": {},
   "source": [
    "## 6.1) Criação de Arrays"
   ]
  },
  {
   "cell_type": "code",
   "execution_count": null,
   "id": "c4e3eac0",
   "metadata": {},
   "outputs": [],
   "source": [
    "import numpy as np"
   ]
  },
  {
   "cell_type": "code",
   "execution_count": null,
   "id": "77f6c477",
   "metadata": {},
   "outputs": [
    {
     "name": "stdout",
     "output_type": "stream",
     "text": [
      "[12 34 26 18 10]\n",
      "<class 'numpy.ndarray'>\n"
     ]
    }
   ],
   "source": [
    "#Criando um array unidimensional\n",
    "mt = np.array([12, 34, 26, 18, 10])\n",
    "print(mt)\n",
    "print(type(mt))"
   ]
  },
  {
   "cell_type": "code",
   "execution_count": null,
   "id": "337db165",
   "metadata": {},
   "outputs": [
    {
     "name": "stdout",
     "output_type": "stream",
     "text": [
      "[1 2 3]\n",
      "[1.3 2.1 3.9]\n"
     ]
    }
   ],
   "source": [
    "# Criando um array com um tipo específico\n",
    "mtfloat = np.array([1, 2, 3], dtype = np.int32)\n",
    "print(mtfloat)\n",
    "mtfloat = np.array([1.3, 2.1, 3.9], dtype = np.float64)\n",
    "print(mtfloat)"
   ]
  },
  {
   "cell_type": "code",
   "execution_count": null,
   "id": "70dcfecb",
   "metadata": {},
   "outputs": [
    {
     "name": "stdout",
     "output_type": "stream",
     "text": [
      "[ 1.4     3.6    -5.1     9.24    4.9999]\n",
      "[ 1  3 -5  9  4]\n",
      "[1 2 3 4]\n",
      "[1. 2. 3. 4.]\n"
     ]
    }
   ],
   "source": [
    "#Conversão de tipo\n",
    "mtnew = np.array([1.4, 3.6, -5.1, 9.24, 4.9999])\n",
    "print(mtnew)\n",
    "mtnewint = mtnew.astype(np.int32)\n",
    "print(mtnewint)\n",
    "mtnew = np.array([1, 2, 3, 4])\n",
    "print(mtnew)\n",
    "mtnewfloat = mtnew.astype(np.float64)\n",
    "print(mtnewfloat)"
   ]
  },
  {
   "cell_type": "code",
   "execution_count": null,
   "id": "0489999e",
   "metadata": {},
   "outputs": [
    {
     "name": "stdout",
     "output_type": "stream",
     "text": [
      "[[1 2 3]\n",
      " [4 5 6]\n",
      " [7 8 9]]\n",
      "<class 'numpy.ndarray'>\n",
      "\n",
      "\n",
      "[[1 2 3]\n",
      " [4 5 6]\n",
      " [7 8 9]]\n",
      "<class 'numpy.matrix'>\n"
     ]
    }
   ],
   "source": [
    "#Cria matriz Bidimensional\n",
    "mt = np.array([[1,2,3], [4, 5, 6], [7, 8, 9]])\n",
    "print(mt)\n",
    "print(type(mt))\n",
    "print('\\n')\n",
    "teste_matrix = np.matrix('1 2 3; 4 5 6; 7 8 9')\n",
    "print(teste_matrix)\n",
    "print(type(teste_matrix))"
   ]
  },
  {
   "cell_type": "code",
   "execution_count": null,
   "id": "3c30389c",
   "metadata": {},
   "outputs": [
    {
     "name": "stdout",
     "output_type": "stream",
     "text": [
      "[[-858993459 1073007820]\n",
      " [-858993459 1073794252]\n",
      " [ 858993459 1074737971]]\n"
     ]
    }
   ],
   "source": [
    "# Cria arrays vazios tipificados\n",
    "# Empty significa que não são inicializados, não que são vazios\n",
    "vazio = np.empty([3, 2], dtype = int)\n",
    "print(vazio)"
   ]
  },
  {
   "cell_type": "code",
   "execution_count": null,
   "id": "89c0852b",
   "metadata": {},
   "outputs": [
    {
     "data": {
      "text/plain": [
       "array([[0., 0., 0.],\n",
       "       [0., 0., 0.],\n",
       "       [0., 0., 0.],\n",
       "       [0., 0., 0.]])"
      ]
     },
     "execution_count": 14,
     "metadata": {},
     "output_type": "execute_result"
    }
   ],
   "source": [
    "# Cria uma matriz 4 x 3 com valores zero\n",
    "zeros = np.zeros([4, 3])\n",
    "zeros"
   ]
  },
  {
   "cell_type": "code",
   "execution_count": null,
   "id": "5fb3dde1",
   "metadata": {},
   "outputs": [
    {
     "data": {
      "text/plain": [
       "array([[1., 1., 1., 1., 1., 1., 1.],\n",
       "       [1., 1., 1., 1., 1., 1., 1.],\n",
       "       [1., 1., 1., 1., 1., 1., 1.],\n",
       "       [1., 1., 1., 1., 1., 1., 1.],\n",
       "       [1., 1., 1., 1., 1., 1., 1.]])"
      ]
     },
     "execution_count": 16,
     "metadata": {},
     "output_type": "execute_result"
    }
   ],
   "source": [
    "# Cria uma matriz com valores de 1\n",
    "one = np.ones([5, 7])\n",
    "one"
   ]
  },
  {
   "cell_type": "code",
   "execution_count": null,
   "id": "865b6e18",
   "metadata": {},
   "outputs": [
    {
     "data": {
      "text/plain": [
       "array([[1., 0., 0., 0., 0.],\n",
       "       [0., 1., 0., 0., 0.],\n",
       "       [0., 0., 1., 0., 0.],\n",
       "       [0., 0., 0., 1., 0.],\n",
       "       [0., 0., 0., 0., 1.]])"
      ]
     },
     "execution_count": 15,
     "metadata": {},
     "output_type": "execute_result"
    }
   ],
   "source": [
    "# Cria uma matriz Identidade\n",
    "diagonal = np.eye(5)\n",
    "diagonal"
   ]
  },
  {
   "cell_type": "markdown",
   "id": "4ec7ce9b",
   "metadata": {},
   "source": [
    "## 6.2) Números Randomicos"
   ]
  },
  {
   "cell_type": "code",
   "execution_count": null,
   "id": "f335a2a9",
   "metadata": {},
   "outputs": [
    {
     "name": "stdout",
     "output_type": "stream",
     "text": [
      "[0.89629309 0.12558531 0.20724288 0.0514672  0.44080984]\n"
     ]
    }
   ],
   "source": [
    "# Cria valores aleatórios entre zero e 1\n",
    "x = np.random.random((5))\n",
    "print(x)"
   ]
  },
  {
   "cell_type": "code",
   "execution_count": null,
   "id": "f681e1b1",
   "metadata": {},
   "outputs": [
    {
     "data": {
      "text/plain": [
       "array([-0.01376259,  0.10005128, -0.99610474, -1.0168359 ,  0.63979892])"
      ]
     },
     "execution_count": 18,
     "metadata": {},
     "output_type": "execute_result"
    }
   ],
   "source": [
    "# Cria uma distribuição normal de valores aleatórios contendo negativos\n",
    "x = np.random.randn((5))\n",
    "x"
   ]
  },
  {
   "cell_type": "code",
   "execution_count": null,
   "id": "04736971",
   "metadata": {},
   "outputs": [
    {
     "data": {
      "text/plain": [
       "array([[0.62650241, 0.90666235, 0.10371254, 0.07739086],\n",
       "       [0.8886504 , 0.27497117, 0.15009086, 0.1707391 ],\n",
       "       [0.51050632, 0.50222716, 0.85996682, 0.30839873]])"
      ]
     },
     "execution_count": 20,
     "metadata": {},
     "output_type": "execute_result"
    }
   ],
   "source": [
    "# Cria uma matriz de números aleatórios\n",
    "x = np.random.random((3, 4))\n",
    "x"
   ]
  },
  {
   "cell_type": "code",
   "execution_count": null,
   "id": "3fab3758",
   "metadata": {},
   "outputs": [
    {
     "data": {
      "text/plain": [
       "array([0.4359949 , 0.02592623, 0.54966248])"
      ]
     },
     "execution_count": 33,
     "metadata": {},
     "output_type": "execute_result"
    }
   ],
   "source": [
    "# Uso de Semente\n",
    "semente = np.random.seed(2)\n",
    "x = np.random.random((3))\n",
    "x"
   ]
  },
  {
   "cell_type": "code",
   "execution_count": null,
   "id": "46a80593",
   "metadata": {},
   "outputs": [
    {
     "data": {
      "text/plain": [
       "array([69, 92, 13, 90, 24, 53, 34,  2, 68, 69, 58, 52, 19, 45, 44, 16, 38,\n",
       "        5, 23, 82])"
      ]
     },
     "execution_count": 6,
     "metadata": {},
     "output_type": "execute_result"
    }
   ],
   "source": [
    "# Cria um Array com 20 números inteiros aleatórios entre 1 e 101\n",
    "array = np.random.randint(1, 101, 20)\n",
    "array"
   ]
  },
  {
   "cell_type": "code",
   "execution_count": null,
   "id": "3d641e6a",
   "metadata": {},
   "outputs": [
    {
     "name": "stdout",
     "output_type": "stream",
     "text": [
      "[ 7.83196741 12.21039439  8.97034075 ... 10.01904266 10.35023951\n",
      "  9.16686297]\n"
     ]
    }
   ],
   "source": [
    "#Valores normalmente distribuidos\n",
    "array = np.random.normal(10, 2, 2000) #media = 10, desvio padrao = 2, amostra de 20 numeros\n",
    "print(array)"
   ]
  },
  {
   "cell_type": "markdown",
   "id": "b340b233",
   "metadata": {},
   "source": [
    "## 6.3) Extrações e Iterações"
   ]
  },
  {
   "cell_type": "code",
   "execution_count": null,
   "id": "3610d90c",
   "metadata": {},
   "outputs": [
    {
     "name": "stdout",
     "output_type": "stream",
     "text": [
      "[ 1  2  3  4  5  6  7  8  9 10]\n",
      "[3 4 5 6]\n",
      "[3 5 7]\n",
      "10\n",
      "[10  9  8  7  6  5  4  3  2  1]\n",
      "[1 3 5 7 9]\n"
     ]
    }
   ],
   "source": [
    "array = np.arange(1, 11)\n",
    "print(array)\n",
    "print(array[2:6])\n",
    "print(array[2:8:2])\n",
    "print(array[-1])\n",
    "print(array[::-1])\n",
    "print(array[::2])"
   ]
  },
  {
   "cell_type": "code",
   "execution_count": null,
   "id": "f5f6a86a",
   "metadata": {},
   "outputs": [
    {
     "data": {
      "text/plain": [
       "array([11, 12, 13, 14, 15, 16, 17, 18, 19, 20])"
      ]
     },
     "execution_count": 38,
     "metadata": {},
     "output_type": "execute_result"
    }
   ],
   "source": [
    "# Remove Repetições\n",
    "x = np.array([11, 12, 13, 14, 15, 16, 17, 12, 13, 11, 18, 19, 20])\n",
    "j = np.unique(x)\n",
    "j"
   ]
  },
  {
   "cell_type": "code",
   "execution_count": null,
   "id": "125d6d42",
   "metadata": {},
   "outputs": [
    {
     "name": "stdout",
     "output_type": "stream",
     "text": [
      "[[17 22 43]\n",
      " [27 25 14]\n",
      " [15 24 32]]\n",
      "(3, 3)\n"
     ]
    }
   ],
   "source": [
    "# Cria a Matriz Bidimensional K\n",
    "k = np.array([[17, 22, 43], [27, 25, 14], [15, 24, 32]])\n",
    "print(k)\n",
    "print(k.shape)"
   ]
  },
  {
   "cell_type": "code",
   "execution_count": null,
   "id": "050953fd",
   "metadata": {},
   "outputs": [
    {
     "name": "stdout",
     "output_type": "stream",
     "text": [
      "43\n",
      "14\n",
      "219\n",
      "24.333333333333332\n",
      "8.615231988880057\n"
     ]
    }
   ],
   "source": [
    "# Maior valor de K\n",
    "print(k.max())\n",
    "# Menor valor de K\n",
    "print(k.min())\n",
    "# Mostra a soma dos valores da matriz K\n",
    "print(k.sum())\n",
    "# Mostra o valor da média dos valores de K\n",
    "print(k.mean())\n",
    "# Mostra o desvio padrão dos valores da matriz K\n",
    "print(k.std())"
   ]
  },
  {
   "cell_type": "code",
   "execution_count": null,
   "id": "fef16214",
   "metadata": {},
   "outputs": [
    {
     "name": "stdout",
     "output_type": "stream",
     "text": [
      "[1. 2. 3. 4. 5. 6.]\n",
      "[2.71828183e+00 5.45981500e+01 8.10308393e+03 8.88611052e+06\n",
      " 7.20048993e+10 4.31123155e+15]\n"
     ]
    }
   ],
   "source": [
    "k1 = np.array([1, 4, 9, 16, 25, 36])\n",
    "# Mostra a raiz quadrada de todos os elementos de K\n",
    "print(np.sqrt(k1))\n",
    "# Mostra a exponencial de todos os elementos de K\n",
    "print(np.exp(k1))"
   ]
  },
  {
   "cell_type": "code",
   "execution_count": null,
   "id": "964cab6f",
   "metadata": {},
   "outputs": [
    {
     "name": "stdout",
     "output_type": "stream",
     "text": [
      "[[1 2 3]\n",
      " [4 5 6]\n",
      " [7 8 9]]\n",
      "\n",
      "\n",
      "1\n",
      "\n",
      "\n",
      "[7 8 9]\n",
      "\n",
      "\n",
      "[3 6 9]\n"
     ]
    }
   ],
   "source": [
    "m = np.array([[1, 2, 3], [4, 5, 6], [7, 8, 9]])\n",
    "print(m)\n",
    "print('\\n')\n",
    "print(m[0][0])\n",
    "print('\\n')\n",
    "print(m[2, :])\n",
    "print('\\n')\n",
    "print(m[:, 2])"
   ]
  },
  {
   "cell_type": "code",
   "execution_count": null,
   "id": "245543ee",
   "metadata": {},
   "outputs": [
    {
     "name": "stdout",
     "output_type": "stream",
     "text": [
      "[[1 2 3]\n",
      " [4 5 6]\n",
      " [7 8 9]]\n",
      "\n",
      "\n",
      "[[3 9 2]\n",
      " [7 2 4]\n",
      " [8 8 5]]\n",
      "\n",
      "\n",
      "SOMA\n",
      "[[ 4 11  5]\n",
      " [11  7 10]\n",
      " [15 16 14]]\n",
      "\n",
      "\n",
      "MULTIPLICAÇÃO\n",
      "[[ 3 18  6]\n",
      " [28 10 24]\n",
      " [56 64 45]]\n",
      "\n",
      "\n",
      "[[3 3]\n",
      " [5 5]\n",
      " [7 7]]\n"
     ]
    }
   ],
   "source": [
    "# Adição e multiplicação de matrizes (lembre-se das propriedades de multiplicação de adição e matrizes )\n",
    "n = np.array([[1, 2, 3], [4, 5, 6], [7, 8, 9]])\n",
    "o = np.array([[3, 9, 2], [7, 2, 4], [8, 8, 5]])\n",
    "print(n)\n",
    "print('\\n')\n",
    "print(o)\n",
    "print('\\n')\n",
    "soma = n+o\n",
    "print('SOMA')\n",
    "print(soma)\n",
    "print('\\n')\n",
    "multiplicacao = n*o\n",
    "print('MULTIPLICAÇÃO')\n",
    "print(multiplicacao)\n",
    "print('\\n')\n",
    "\n",
    "# Somando uma linha em cada linha da outra matriz\n",
    "n = np.array([[1, 2], [3, 4], [5, 6]])\n",
    "o = np.array([[2, 1]])\n",
    "print(n + o)"
   ]
  },
  {
   "cell_type": "code",
   "execution_count": null,
   "id": "c9aa2a34",
   "metadata": {},
   "outputs": [
    {
     "name": "stdout",
     "output_type": "stream",
     "text": [
      "[ 0  1  2  3  4  5  6  7  8  9 10 11 12 13 14]\n"
     ]
    },
    {
     "data": {
      "text/plain": [
       "array([[ 0,  1,  2,  3,  4],\n",
       "       [ 5,  6,  7,  8,  9],\n",
       "       [10, 11, 12, 13, 14]])"
      ]
     },
     "execution_count": 80,
     "metadata": {},
     "output_type": "execute_result"
    }
   ],
   "source": [
    "# Rearranjo\n",
    "# em 3 linhas e 5 colunas\n",
    "f = np.arange(15)\n",
    "print(f)\n",
    "f.reshape((3, 5))"
   ]
  },
  {
   "cell_type": "code",
   "execution_count": null,
   "id": "d952d15f",
   "metadata": {},
   "outputs": [
    {
     "name": "stdout",
     "output_type": "stream",
     "text": [
      "[[ 0  5 10]\n",
      " [ 1  6 11]\n",
      " [ 2  7 12]\n",
      " [ 3  8 13]\n",
      " [ 4  9 14]]\n"
     ]
    }
   ],
   "source": [
    "# Transposição\n",
    "f = np.arange(15).reshape((3, 5))\n",
    "s = f.T\n",
    "print(s)"
   ]
  },
  {
   "cell_type": "markdown",
   "id": "171bcd87",
   "metadata": {},
   "source": [
    "## 6.4) Expressões Lógicas"
   ]
  },
  {
   "cell_type": "code",
   "execution_count": null,
   "id": "53007772",
   "metadata": {},
   "outputs": [
    {
     "name": "stdout",
     "output_type": "stream",
     "text": [
      "[[ 1.40473201  0.53980165 -0.52828235 -0.84426073]\n",
      " [-2.19216319  0.36797387  0.19915186 -2.91949847]\n",
      " [-1.15925113 -0.85142751  1.12721446 -0.38401466]\n",
      " [-0.72255835  1.41621298  0.57014127 -1.59014501]]\n",
      "\n",
      "\n",
      "[[ True  True False False]\n",
      " [False  True  True False]\n",
      " [False False  True False]\n",
      " [False  True  True False]]\n",
      "\n",
      "\n",
      "[[ 1  1 -1 -1]\n",
      " [-1  1  1 -1]\n",
      " [-1 -1  1 -1]\n",
      " [-1  1  1 -1]]\n"
     ]
    }
   ],
   "source": [
    "# Matriz com valores aleatórios positivos e negativos\n",
    "v = np.random.randn(4, 4)\n",
    "print(v)\n",
    "print('\\n')\n",
    "# Criando valores booleanos\n",
    "x = (v>0)\n",
    "print(x)\n",
    "print('\\n')\n",
    "# Criando matriz com valores -1 e 1 baseado nos valores de array x\n",
    "z = np.where(x > 0, 1, -1)\n",
    "print(z)"
   ]
  },
  {
   "cell_type": "markdown",
   "id": "772a96d5",
   "metadata": {},
   "source": [
    "## 6.5) Operaçoes Inteligentes"
   ]
  },
  {
   "cell_type": "code",
   "execution_count": null,
   "id": "6a4ae81f",
   "metadata": {},
   "outputs": [
    {
     "name": "stdout",
     "output_type": "stream",
     "text": [
      "[1, 2, 3, 4, 5, 1, 2, 3, 4, 5]\n",
      "[ 2  4  6  8 10]\n"
     ]
    }
   ],
   "source": [
    "lista = [1, 2, 3, 4, 5]\n",
    "print(lista*2)\n",
    "n_parray = np.array(lista)\n",
    "print(n_parray*2)"
   ]
  },
  {
   "cell_type": "markdown",
   "id": "51c6af72",
   "metadata": {},
   "source": [
    "# <font color='red' style='font-size: 40px;'> 7) Pandas </font>\n",
    "<hr style='border: 2px solid red;'>\n"
   ]
  },
  {
   "cell_type": "markdown",
   "id": "9873ce35",
   "metadata": {},
   "source": [
    "## 7.1) Leitura de Arquivos"
   ]
  },
  {
   "cell_type": "code",
   "execution_count": null,
   "id": "f7dec034",
   "metadata": {},
   "outputs": [
    {
     "name": "stdout",
     "output_type": "stream",
     "text": [
      "(891, 12)\n"
     ]
    },
    {
     "data": {
      "text/html": [
       "<div>\n",
       "<style scoped>\n",
       "    .dataframe tbody tr th:only-of-type {\n",
       "        vertical-align: middle;\n",
       "    }\n",
       "\n",
       "    .dataframe tbody tr th {\n",
       "        vertical-align: top;\n",
       "    }\n",
       "\n",
       "    .dataframe thead th {\n",
       "        text-align: right;\n",
       "    }\n",
       "</style>\n",
       "<table border=\"1\" class=\"dataframe\">\n",
       "  <thead>\n",
       "    <tr style=\"text-align: right;\">\n",
       "      <th></th>\n",
       "      <th>PassengerId</th>\n",
       "      <th>Survived</th>\n",
       "      <th>Pclass</th>\n",
       "      <th>Name</th>\n",
       "      <th>Sex</th>\n",
       "      <th>Age</th>\n",
       "      <th>SibSp</th>\n",
       "      <th>Parch</th>\n",
       "      <th>Ticket</th>\n",
       "      <th>Fare</th>\n",
       "      <th>Cabin</th>\n",
       "      <th>Embarked</th>\n",
       "    </tr>\n",
       "  </thead>\n",
       "  <tbody>\n",
       "    <tr>\n",
       "      <th>0</th>\n",
       "      <td>1</td>\n",
       "      <td>0</td>\n",
       "      <td>3</td>\n",
       "      <td>Braund, Mr. Owen Harris</td>\n",
       "      <td>male</td>\n",
       "      <td>22.00</td>\n",
       "      <td>1</td>\n",
       "      <td>0</td>\n",
       "      <td>A/5 21171</td>\n",
       "      <td>7.25</td>\n",
       "      <td>NaN</td>\n",
       "      <td>S</td>\n",
       "    </tr>\n",
       "    <tr>\n",
       "      <th>1</th>\n",
       "      <td>2</td>\n",
       "      <td>1</td>\n",
       "      <td>1</td>\n",
       "      <td>Cumings, Mrs. John Bradley (Florence Briggs Th...</td>\n",
       "      <td>female</td>\n",
       "      <td>38.00</td>\n",
       "      <td>1</td>\n",
       "      <td>0</td>\n",
       "      <td>PC 17599</td>\n",
       "      <td>71.28</td>\n",
       "      <td>C85</td>\n",
       "      <td>C</td>\n",
       "    </tr>\n",
       "    <tr>\n",
       "      <th>2</th>\n",
       "      <td>3</td>\n",
       "      <td>1</td>\n",
       "      <td>3</td>\n",
       "      <td>Heikkinen, Miss. Laina</td>\n",
       "      <td>female</td>\n",
       "      <td>26.00</td>\n",
       "      <td>0</td>\n",
       "      <td>0</td>\n",
       "      <td>STON/O2. 3101282</td>\n",
       "      <td>7.92</td>\n",
       "      <td>NaN</td>\n",
       "      <td>S</td>\n",
       "    </tr>\n",
       "    <tr>\n",
       "      <th>3</th>\n",
       "      <td>4</td>\n",
       "      <td>1</td>\n",
       "      <td>1</td>\n",
       "      <td>Futrelle, Mrs. Jacques Heath (Lily May Peel)</td>\n",
       "      <td>female</td>\n",
       "      <td>35.00</td>\n",
       "      <td>1</td>\n",
       "      <td>0</td>\n",
       "      <td>113803</td>\n",
       "      <td>53.10</td>\n",
       "      <td>C123</td>\n",
       "      <td>S</td>\n",
       "    </tr>\n",
       "    <tr>\n",
       "      <th>4</th>\n",
       "      <td>5</td>\n",
       "      <td>0</td>\n",
       "      <td>3</td>\n",
       "      <td>Allen, Mr. William Henry</td>\n",
       "      <td>male</td>\n",
       "      <td>35.00</td>\n",
       "      <td>0</td>\n",
       "      <td>0</td>\n",
       "      <td>373450</td>\n",
       "      <td>8.05</td>\n",
       "      <td>NaN</td>\n",
       "      <td>S</td>\n",
       "    </tr>\n",
       "  </tbody>\n",
       "</table>\n",
       "</div>"
      ],
      "text/plain": [
       "   PassengerId  Survived  Pclass  \\\n",
       "0            1         0       3   \n",
       "1            2         1       1   \n",
       "2            3         1       3   \n",
       "3            4         1       1   \n",
       "4            5         0       3   \n",
       "\n",
       "                                                Name     Sex   Age  SibSp  \\\n",
       "0                            Braund, Mr. Owen Harris    male 22.00      1   \n",
       "1  Cumings, Mrs. John Bradley (Florence Briggs Th...  female 38.00      1   \n",
       "2                             Heikkinen, Miss. Laina  female 26.00      0   \n",
       "3       Futrelle, Mrs. Jacques Heath (Lily May Peel)  female 35.00      1   \n",
       "4                           Allen, Mr. William Henry    male 35.00      0   \n",
       "\n",
       "   Parch            Ticket  Fare Cabin Embarked  \n",
       "0      0         A/5 21171  7.25   NaN        S  \n",
       "1      0          PC 17599 71.28   C85        C  \n",
       "2      0  STON/O2. 3101282  7.92   NaN        S  \n",
       "3      0            113803 53.10  C123        S  \n",
       "4      0            373450  8.05   NaN        S  "
      ]
     },
     "execution_count": 8,
     "metadata": {},
     "output_type": "execute_result"
    }
   ],
   "source": [
    "data = pd.read_csv('train.csv')\n",
    "print(data.shape)\n",
    "data.head()"
   ]
  },
  {
   "cell_type": "markdown",
   "id": "bfeb515c",
   "metadata": {},
   "source": [
    "## 7.2) Informações do DataFrame"
   ]
  },
  {
   "cell_type": "code",
   "execution_count": null,
   "id": "dd48c7cb",
   "metadata": {},
   "outputs": [
    {
     "name": "stdout",
     "output_type": "stream",
     "text": [
      "<class 'pandas.core.frame.DataFrame'>\n",
      "RangeIndex: 891 entries, 0 to 890\n",
      "Data columns (total 12 columns):\n",
      " #   Column       Non-Null Count  Dtype  \n",
      "---  ------       --------------  -----  \n",
      " 0   PassengerId  891 non-null    int64  \n",
      " 1   Survived     891 non-null    int64  \n",
      " 2   Pclass       891 non-null    int64  \n",
      " 3   Name         891 non-null    object \n",
      " 4   Sex          891 non-null    object \n",
      " 5   Age          714 non-null    float64\n",
      " 6   SibSp        891 non-null    int64  \n",
      " 7   Parch        891 non-null    int64  \n",
      " 8   Ticket       891 non-null    object \n",
      " 9   Fare         891 non-null    float64\n",
      " 10  Cabin        204 non-null    object \n",
      " 11  Embarked     889 non-null    object \n",
      "dtypes: float64(2), int64(5), object(5)\n",
      "memory usage: 83.7+ KB\n"
     ]
    }
   ],
   "source": [
    "data.info()"
   ]
  },
  {
   "cell_type": "markdown",
   "id": "7346c7a3",
   "metadata": {},
   "source": [
    "## 7.3) Resumo Estatístico Descritivo"
   ]
  },
  {
   "cell_type": "code",
   "execution_count": null,
   "id": "7fb0741c",
   "metadata": {},
   "outputs": [],
   "source": [
    "# Campos Numéricos\n",
    "data.describe()"
   ]
  },
  {
   "cell_type": "code",
   "execution_count": null,
   "id": "e1d80a45",
   "metadata": {},
   "outputs": [],
   "source": [
    "# Campos Categóricos\n",
    "data.describe(include = 'O') #"
   ]
  },
  {
   "cell_type": "markdown",
   "id": "1d61d399",
   "metadata": {},
   "source": [
    "## 7.4) Renomear Colunas"
   ]
  },
  {
   "cell_type": "code",
   "execution_count": null,
   "id": "e62c0182",
   "metadata": {},
   "outputs": [],
   "source": [
    "# Renomeando\n",
    "data.rename({'Name' : 'Nome', 'Sex':'Sexo'}, axis = 1, inplace = True)\n",
    "data.columns"
   ]
  },
  {
   "cell_type": "markdown",
   "id": "220c9dc1",
   "metadata": {},
   "source": [
    "## 7.5) Seleção de Colunas específicas"
   ]
  },
  {
   "cell_type": "code",
   "execution_count": null,
   "id": "7eaab125",
   "metadata": {},
   "outputs": [],
   "source": [
    "# Seleçao de Colunas Específicas\n",
    "data[['PassengerId', 'Survived', 'Pclass', 'Nome', 'Sexo']]"
   ]
  },
  {
   "cell_type": "code",
   "execution_count": null,
   "id": "c4bd2d2c",
   "metadata": {},
   "outputs": [],
   "source": [
    "data.iloc[:, 2:4]"
   ]
  },
  {
   "cell_type": "markdown",
   "id": "f910dfb4",
   "metadata": {},
   "source": [
    "## 7.6) Funções matemática embutidas"
   ]
  },
  {
   "cell_type": "code",
   "execution_count": null,
   "id": "e986457a",
   "metadata": {},
   "outputs": [],
   "source": [
    "print(data['Age'].mean())\n",
    "print()\n",
    "print(data['Age'].sum())  \n",
    "print()\n",
    "print(data['Age'].max())\n",
    "print()\n",
    "print(data['Age'].min())\n",
    "print()\n",
    "print(data['Age'].count())      \n",
    "print()\n",
    "print(data['Age'].median())\n",
    "print()\n",
    "print(data['Age'].mode())"
   ]
  },
  {
   "cell_type": "code",
   "execution_count": null,
   "id": "d2a0083a",
   "metadata": {},
   "outputs": [],
   "source": [
    "#Index do registro com Idade Máxima\n",
    "data['Age'].idxmax()"
   ]
  },
  {
   "cell_type": "markdown",
   "id": "f5cfebd6",
   "metadata": {},
   "source": [
    "## 7.7) Seleções com Iloc e Loc"
   ]
  },
  {
   "cell_type": "code",
   "execution_count": null,
   "id": "ece586de",
   "metadata": {},
   "outputs": [],
   "source": [
    "data.iloc[:20, 2:6]"
   ]
  },
  {
   "cell_type": "code",
   "execution_count": null,
   "id": "3fb9f452",
   "metadata": {},
   "outputs": [],
   "source": [
    "data[['Age', 'Sexo', 'Pclass', 'Survived']].loc[data['Sexo'] == 'male'].head()"
   ]
  },
  {
   "cell_type": "code",
   "execution_count": null,
   "id": "232272a9",
   "metadata": {},
   "outputs": [],
   "source": [
    "# ~ é a mesma coisa que Not, ou seja, ele nega a condição\n",
    "data[['Age', 'Sexo', 'Pclass', 'Survived']].loc[(data['Sexo'] == 'male') & (data['Age'] >= 10) \n",
    "                                                & ~(data['Survived'] == 1)].head()\n"
   ]
  },
  {
   "cell_type": "markdown",
   "id": "40df2588",
   "metadata": {},
   "source": [
    "## 7.8) Map e Replace"
   ]
  },
  {
   "cell_type": "code",
   "execution_count": null,
   "id": "bbe5636a",
   "metadata": {},
   "outputs": [],
   "source": [
    "data['Sexo'].map({'male':'homem', 'female':'mulher'}).head()"
   ]
  },
  {
   "cell_type": "code",
   "execution_count": null,
   "id": "57b32abb",
   "metadata": {},
   "outputs": [],
   "source": [
    "data['Sexo'].replace({'male':'homem', 'female':'mulher'}).head()"
   ]
  },
  {
   "cell_type": "markdown",
   "id": "6a9d4da7",
   "metadata": {},
   "source": [
    "## 7.9)Group by e Aggregate"
   ]
  },
  {
   "cell_type": "code",
   "execution_count": null,
   "id": "ebeb8748",
   "metadata": {},
   "outputs": [],
   "source": [
    "data.groupby('Sexo').mean()"
   ]
  },
  {
   "cell_type": "code",
   "execution_count": null,
   "id": "69a0753e",
   "metadata": {},
   "outputs": [],
   "source": [
    "data.groupby('Sexo').agg({'mean', 'sum', 'min', 'max'})"
   ]
  },
  {
   "cell_type": "markdown",
   "id": "9aedd5f5",
   "metadata": {},
   "source": [
    "## 7.10) Crosstab"
   ]
  },
  {
   "cell_type": "code",
   "execution_count": null,
   "id": "f0e4c3c6",
   "metadata": {},
   "outputs": [],
   "source": [
    "pd.crosstab(data['Survived'], data['Pclass'])"
   ]
  },
  {
   "cell_type": "code",
   "execution_count": null,
   "id": "675ad00c",
   "metadata": {},
   "outputs": [],
   "source": [
    "pd.crosstab(data['Survived'], data['Pclass'], margins = True)"
   ]
  },
  {
   "cell_type": "code",
   "execution_count": null,
   "id": "fc715706",
   "metadata": {},
   "outputs": [],
   "source": [
    "pd.crosstab(data['Survived'], data['Pclass'], margins = True).style.background_gradient(cmap='Blues')"
   ]
  },
  {
   "cell_type": "markdown",
   "id": "d2d182ef",
   "metadata": {},
   "source": [
    "## 7.11) Sort Values e Sort Index"
   ]
  },
  {
   "cell_type": "code",
   "execution_count": null,
   "id": "445c6976",
   "metadata": {},
   "outputs": [],
   "source": [
    "data[['Age', 'Sexo', 'Pclass', 'Survived']].sort_values(by = 'Pclass', ascending = False)"
   ]
  },
  {
   "cell_type": "code",
   "execution_count": null,
   "id": "cf795468",
   "metadata": {},
   "outputs": [],
   "source": [
    "data[['Age', 'Sexo', 'Pclass', 'Survived']].sort_index(ascending = False)"
   ]
  },
  {
   "cell_type": "markdown",
   "id": "dd15e860",
   "metadata": {},
   "source": [
    "## 7.12) Valores NaN"
   ]
  },
  {
   "cell_type": "code",
   "execution_count": null,
   "id": "adcc86aa",
   "metadata": {},
   "outputs": [],
   "source": [
    "data.isnull().sum()"
   ]
  },
  {
   "cell_type": "code",
   "execution_count": null,
   "id": "b8a90bc6",
   "metadata": {},
   "outputs": [],
   "source": [
    "data.isnull().sum().sum()"
   ]
  },
  {
   "cell_type": "code",
   "execution_count": null,
   "id": "4eaa7f48",
   "metadata": {},
   "outputs": [],
   "source": [
    "data['Embarked'].fillna('S', inplace = True)\n",
    "data[data['Embarked'].isnull()]"
   ]
  },
  {
   "cell_type": "markdown",
   "id": "e0f81b98",
   "metadata": {},
   "source": [
    "## 7.13) Deletando Coluna "
   ]
  },
  {
   "cell_type": "code",
   "execution_count": null,
   "id": "02302ddf",
   "metadata": {},
   "outputs": [],
   "source": [
    "data.isnull().sum()"
   ]
  },
  {
   "cell_type": "code",
   "execution_count": null,
   "id": "131aecc7",
   "metadata": {},
   "outputs": [],
   "source": [
    "data.drop('Cabin', axis = 1, inplace = True)"
   ]
  },
  {
   "cell_type": "markdown",
   "id": "00771cb1",
   "metadata": {},
   "source": [
    "## 7.14) Apply e Lambda"
   ]
  },
  {
   "cell_type": "code",
   "execution_count": null,
   "id": "d6e50286",
   "metadata": {},
   "outputs": [],
   "source": [
    "data['Ticket'].sort_values()"
   ]
  },
  {
   "cell_type": "code",
   "execution_count": null,
   "id": "8cf2b0b5",
   "metadata": {},
   "outputs": [],
   "source": [
    "data['Ticket'].apply(lambda x:x[:-1]).sort_values()"
   ]
  },
  {
   "cell_type": "markdown",
   "id": "29ebd0b2",
   "metadata": {},
   "source": [
    "## 7.15) Variáveis Dummy (One Hot Encoding) e Concatenação de Dados"
   ]
  },
  {
   "cell_type": "code",
   "execution_count": null,
   "id": "64152238",
   "metadata": {},
   "outputs": [],
   "source": [
    "pd.get_dummies(data, columns = ['Sexo'])"
   ]
  },
  {
   "cell_type": "code",
   "execution_count": null,
   "id": "7892f6db",
   "metadata": {},
   "outputs": [],
   "source": [
    "### Como o Sexo Male e o Sexo Fem tem uma correlação de 100%, isso pode piorar nosso modelo. Para isso, temos de utilizar:\n",
    "data = pd.get_dummies(data, columns = ['Sexo'], drop_first = True)\n",
    "data"
   ]
  },
  {
   "cell_type": "markdown",
   "id": "d5713bf0",
   "metadata": {},
   "source": [
    "## 7.16) Regex\n",
    "\n",
    ">. - Qualquer caractere\n",
    "\n",
    ">\\d - dígitos(0-9)\n",
    "\n",
    ">\\D - exceto dígitos (0-9)\n",
    "\n",
    ">w - palavra (a-z, A-Z, 0-9)\n",
    "\n",
    ">s - espaço em branco (tab, espaço, nova linha)\n",
    "\n",
    ">S - qualquer coisa exceto espaço em branco (tab, espaço, nova linha)\n",
    "\n",
    ">b - início de uma palavra\n",
    "\n",
    ">B - exceto início de uma palavra\n",
    "\n",
    ">^ - início de uma String\n",
    "\n",
    ">$ - final de uma estring\n",
    "\n",
    ">[] - caracteres em colchetes\n",
    "\n",
    ">[^] - caracteres não em colchetes\n",
    "\n",
    "> | - ou\n",
    "\n",
    "> () - grupo\n",
    "\n",
    "> * - nenhum ou mais\n",
    "\n",
    "> + - um ou mais\n",
    "\n",
    "> ? - nenhum ou um\n",
    "\n",
    "> {3} - número exato\n",
    "\n",
    ">{3, 4} - range de números (mínimo, máximo)\n"
   ]
  },
  {
   "cell_type": "code",
   "execution_count": null,
   "id": "fedfd796",
   "metadata": {},
   "outputs": [],
   "source": [
    "data['Nome']"
   ]
  },
  {
   "cell_type": "code",
   "execution_count": null,
   "id": "1b4b7fbf",
   "metadata": {},
   "outputs": [],
   "source": [
    "# Extraindo o título (Mr, Miss...)\n",
    "data['Nome'].str.extract('(\\.)')"
   ]
  },
  {
   "cell_type": "code",
   "execution_count": null,
   "id": "bf425b4f",
   "metadata": {},
   "outputs": [],
   "source": [
    "# Extraindo o título (Mr, Miss...)\n",
    "data['Nome'].str.extract('([a-zA-Z]\\.)')"
   ]
  },
  {
   "cell_type": "code",
   "execution_count": null,
   "id": "2bc41f28",
   "metadata": {},
   "outputs": [],
   "source": [
    "# Extraindo o título (Mr, Miss...)\n",
    "data['Nome'].str.extract('([a-zA-Z]+\\.)')"
   ]
  },
  {
   "cell_type": "code",
   "execution_count": null,
   "id": "af46f393",
   "metadata": {},
   "outputs": [],
   "source": [
    "# Extraindo o título (Mr, Miss...)\n",
    "data['Titulo'] = data['Nome'].str.extract('([a-zA-Z]+)\\.')\n",
    "data['Titulo']"
   ]
  },
  {
   "cell_type": "markdown",
   "id": "6fb65a41",
   "metadata": {},
   "source": [
    "## 7.17) Feature Engineering"
   ]
  },
  {
   "cell_type": "code",
   "execution_count": null,
   "id": "dd0983bf",
   "metadata": {},
   "outputs": [],
   "source": [
    "pd.crosstab(data['Titulo'], data['Sexo_male'])"
   ]
  },
  {
   "cell_type": "code",
   "execution_count": null,
   "id": "dc722c73",
   "metadata": {},
   "outputs": [],
   "source": [
    "data['Titulo'].apply(lambda x: 'Outros' if x not in ['Master', 'Miss', 'Mr', 'Mrs'] else x)"
   ]
  },
  {
   "cell_type": "code",
   "execution_count": null,
   "id": "c4ca5e17",
   "metadata": {},
   "outputs": [],
   "source": [
    "data['Titulo'] = data['Titulo'].apply(lambda x: 'Outros' if x not in ['Master', 'Miss', 'Mr', 'Mrs'] else x)\n",
    "pd.crosstab(data['Titulo'], data['Sexo_male'])"
   ]
  },
  {
   "cell_type": "markdown",
   "id": "18c428a9",
   "metadata": {},
   "source": [
    "# <font color='red' style='font-size: 40px;'> 8) Times Series </font>\n",
    "<hr style='border: 2px solid red;'>\n"
   ]
  },
  {
   "cell_type": "markdown",
   "id": "aa07b1cb",
   "metadata": {},
   "source": [
    "## 8.1) Locale"
   ]
  },
  {
   "cell_type": "code",
   "execution_count": null,
   "id": "d8f340cf",
   "metadata": {},
   "outputs": [],
   "source": [
    "## Para atualizar todas as configurações para nosso local, executar o seguinte comando:\n",
    "\n",
    "\n",
    "# import locale\n",
    "# locale.setlocale(locale.LC_ALL, 'pt-BR') # Windows"
   ]
  },
  {
   "cell_type": "markdown",
   "id": "c32d5d07",
   "metadata": {},
   "source": [
    "## 8.2) Data e Hora Atual"
   ]
  },
  {
   "cell_type": "code",
   "execution_count": null,
   "id": "bc44fcad",
   "metadata": {},
   "outputs": [],
   "source": [
    "dt.datetime.now()"
   ]
  },
  {
   "cell_type": "code",
   "execution_count": null,
   "id": "3b24bc12",
   "metadata": {},
   "outputs": [],
   "source": [
    "print(dt.datetime.now())"
   ]
  },
  {
   "cell_type": "markdown",
   "id": "2d4c3219",
   "metadata": {},
   "source": [
    "## 8.3) Diferença de tempo (Timedelta)"
   ]
  },
  {
   "cell_type": "code",
   "execution_count": null,
   "id": "0278b19c",
   "metadata": {},
   "outputs": [],
   "source": [
    "antes = dt.datetime.now()\n"
   ]
  },
  {
   "cell_type": "code",
   "execution_count": null,
   "id": "fa34e200",
   "metadata": {},
   "outputs": [],
   "source": [
    "depois = dt.datetime.now()"
   ]
  },
  {
   "cell_type": "code",
   "execution_count": null,
   "id": "92e9089b",
   "metadata": {},
   "outputs": [],
   "source": [
    "diferenca = depois - antes\n",
    "diferenca"
   ]
  },
  {
   "cell_type": "markdown",
   "id": "78e7fee9",
   "metadata": {},
   "source": [
    "## 8.4) String para Datetime  (Strptime)"
   ]
  },
  {
   "cell_type": "code",
   "execution_count": null,
   "id": "1a49694c",
   "metadata": {},
   "outputs": [],
   "source": [
    "str_data_hora = '09/17/20 13:26:35'\n",
    "str_data_hora"
   ]
  },
  {
   "cell_type": "code",
   "execution_count": null,
   "id": "ca8a3c88",
   "metadata": {},
   "outputs": [],
   "source": [
    "convertida_para_datetime = dt.datetime.strptime(str_data_hora, '%m/%d/%y %H:%M:%S')\n",
    "print(type(convertida_para_datetime))\n",
    "print(convertida_para_datetime)"
   ]
  },
  {
   "cell_type": "markdown",
   "id": "d8a31213",
   "metadata": {},
   "source": [
    "## 8.5) String para Data (Strptime)"
   ]
  },
  {
   "cell_type": "code",
   "execution_count": null,
   "id": "8c84e4a9",
   "metadata": {},
   "outputs": [],
   "source": [
    "data_teste = '17-09-2020'\n",
    "type(data_teste)"
   ]
  },
  {
   "cell_type": "code",
   "execution_count": null,
   "id": "94f7d8da",
   "metadata": {},
   "outputs": [],
   "source": [
    "#data_teste = dt.datetime.strptime(data_teste, '%d-%m/-%Y')"
   ]
  },
  {
   "cell_type": "markdown",
   "id": "5afd0a76",
   "metadata": {},
   "source": [
    "## 8.6) Conversão de String para Tempo (Strptime)"
   ]
  },
  {
   "cell_type": "code",
   "execution_count": null,
   "id": "f3eba799",
   "metadata": {},
   "outputs": [],
   "source": [
    "str_tempo = '14:45:38'\n",
    "\n",
    "tempo = dt.datetime.strptime(str_tempo, '%H:%M:%S').time()\n",
    "tempo"
   ]
  },
  {
   "cell_type": "code",
   "execution_count": null,
   "id": "d4dbb59c",
   "metadata": {},
   "outputs": [],
   "source": [
    "print(tempo)"
   ]
  },
  {
   "cell_type": "markdown",
   "id": "7307723e",
   "metadata": {},
   "source": [
    "## 8.7) Períodos de Tempo e Frequência (Strftime)"
   ]
  },
  {
   "cell_type": "code",
   "execution_count": null,
   "id": "18083868",
   "metadata": {},
   "outputs": [],
   "source": [
    "start = '01/01/2020'\n",
    "end = '31/12/2020'\n",
    "\n",
    "x = pd.date_range(start, end, freq = 'M')\n",
    "x"
   ]
  },
  {
   "cell_type": "code",
   "execution_count": null,
   "id": "0f272437",
   "metadata": {},
   "outputs": [],
   "source": [
    "inicio_dos_meses = pd.date_range(start, end, freq = 'MS')\n",
    "inicio_dos_meses"
   ]
  },
  {
   "cell_type": "code",
   "execution_count": null,
   "id": "2d704eb1",
   "metadata": {},
   "outputs": [],
   "source": [
    "inicio_dos_meses = pd.date_range(start, end, freq = 'MS').strftime('%b')\n",
    "inicio_dos_meses"
   ]
  },
  {
   "cell_type": "code",
   "execution_count": null,
   "id": "348cc5b3",
   "metadata": {},
   "outputs": [],
   "source": [
    "inicio_dos_meses = pd.date_range(start, end, freq = 'MS').strftime('%b/%y')\n",
    "inicio_dos_meses"
   ]
  },
  {
   "cell_type": "code",
   "execution_count": null,
   "id": "b75004df",
   "metadata": {},
   "outputs": [],
   "source": [
    "inicio_dos_meses = pd.date_range(start, end, freq = 'MS').strftime('%a/%d')\n",
    "inicio_dos_meses"
   ]
  },
  {
   "cell_type": "code",
   "execution_count": null,
   "id": "4fdb631a",
   "metadata": {},
   "outputs": [],
   "source": [
    "inicio_dos_meses = pd.date_range(start, end, freq = 'MS').strftime('%d/%b/%y is %A')\n",
    "inicio_dos_meses"
   ]
  },
  {
   "cell_type": "markdown",
   "id": "cbef6f56",
   "metadata": {},
   "source": [
    "## 8.8) Plot"
   ]
  },
  {
   "cell_type": "code",
   "execution_count": null,
   "id": "5b6fc108",
   "metadata": {},
   "outputs": [],
   "source": [
    "x = pd.date_range(start, end, freq = 'MS').strftime('%b')\n",
    "\n",
    "y = np.random.normal(10, 1, 12) # 12 elementos, com mnédia 10 e desvio padrão 1\n",
    "print(y)"
   ]
  },
  {
   "cell_type": "code",
   "execution_count": null,
   "id": "0a860d92",
   "metadata": {},
   "outputs": [],
   "source": [
    "plt.plot(x, y)"
   ]
  },
  {
   "cell_type": "code",
   "execution_count": null,
   "id": "1baa7451",
   "metadata": {},
   "outputs": [],
   "source": [
    "f, ax = plt.subplots(dpi = 100)\n",
    "plt.plot(x, y)\n",
    "f.autofmt_xdate()\n",
    "plt.show()"
   ]
  },
  {
   "cell_type": "markdown",
   "id": "5868e6d7",
   "metadata": {},
   "source": [
    "## 8.9) DataFrame"
   ]
  },
  {
   "cell_type": "code",
   "execution_count": null,
   "id": "64c39d7f",
   "metadata": {},
   "outputs": [],
   "source": [
    "x = pd.date_range(start, end, freq = 'MS')\n",
    "print(x)\n",
    "y = np.random.normal(10, 1, 12) # 12 elementos, com mnédia 10 e desvio padrão 1\n",
    "print(y)"
   ]
  },
  {
   "cell_type": "code",
   "execution_count": null,
   "id": "f875496a",
   "metadata": {},
   "outputs": [],
   "source": [
    "data = pd.DataFrame({'Datas': x, 'Valores': y})\n",
    "data"
   ]
  },
  {
   "cell_type": "code",
   "execution_count": null,
   "id": "b48a1acf",
   "metadata": {},
   "outputs": [],
   "source": [
    "data['Datas'] = pd.DatetimeIndex(data['Datas'])\n",
    "data.set_index('Datas', inplace = True)\n",
    "data"
   ]
  },
  {
   "cell_type": "code",
   "execution_count": null,
   "id": "b431c72a",
   "metadata": {},
   "outputs": [],
   "source": [
    "data.index.strftime('%d/%b/%y')"
   ]
  },
  {
   "cell_type": "code",
   "execution_count": null,
   "id": "d7492481",
   "metadata": {},
   "outputs": [],
   "source": [
    "data['Data_Strig'] = data.index.strftime('%d/%b/%y')\n",
    "data['Data_Strig'] = pd.to_datetime(data['Data_Strig'], format = '%d/%b/%y')"
   ]
  },
  {
   "cell_type": "code",
   "execution_count": null,
   "id": "296f319e",
   "metadata": {},
   "outputs": [],
   "source": [
    "data"
   ]
  },
  {
   "cell_type": "markdown",
   "id": "3afdd1ca",
   "metadata": {},
   "source": [
    "<center><h1> <a href=\"http://strftime.org/\">String Para Tempo (Strftime)</a></h1>\n",
    "<br>Nota: Exemplos baseados em datetime.datetime(2013, 9, 30, 7, 6, 5)</center>\n",
    "\n",
    "<div>\n",
    "<table cellpadding = \"0\" cellpacing = \"0\" border = \"0\">\n",
    "        <colgroup>\n",
    "          <col id = \"diretiva\">\n",
    "          <col id = \"meaning\">\n",
    "          <col id = \"example\">\n",
    "        </colgroup>\n",
    "        <thead>\n",
    "          <tr>\n",
    "            <th> Código </th>\n",
    "            <th> Significado </th>\n",
    "            <th> Exemplo </th>\n",
    "          </tr>\n",
    "        </thead>\n",
    "        <tbody>\n",
    "            <tr>\n",
    "              <td><code>%a</code> </td>\n",
    "              <td> Dia da semana como nome abreviado da localidade. </td>\n",
    "              <td><code> Seg</code> </td>\n",
    "            </tr>\n",
    "            <tr>\n",
    "              <td><code>%A</code> </td>\n",
    "              <td> Dia da semana como o nome completo da localidade. </td>\n",
    "              <td><code> Segunda-feira</code> </td>\n",
    "            </tr>\n",
    "            <tr>\n",
    "              <td><code>%w</code> </td>\n",
    "              <td> Dia da semana como um número decimal, onde 0 é domingo e 6 é sábado. </td>\n",
    "              <td><code>1</code> </td>\n",
    "            </tr>\n",
    "            <tr>\n",
    "              <td><code>%d</code> </td>\n",
    "              <td> Dia do mês como um número decimal preenchido com zero. </td>\n",
    "              <td><code>30</code> </td>\n",
    "            </tr>\n",
    "            <tr>\n",
    "              <td><code>%-d</code> </td>\n",
    "              <td> Dia do mês como um número decimal. (Específico da plataforma) </td>\n",
    "              <td><code>30</code> </td>\n",
    "            </tr>\n",
    "            <tr>\n",
    "              <td><code>%b</code> </td>\n",
    "              <td> Mês como nome abreviado da localidade. </td>\n",
    "              <td><code> Set </code></td>\n",
    "            </tr>\n",
    "            <tr>\n",
    "              <td><code>%B</code> </td>\n",
    "              <td> Mês como nome completo do código do idioma. </td>\n",
    "              <td><code> Setembro</code> </td>\n",
    "            </tr>\n",
    "            <tr>\n",
    "              <td><code>%m</code> </td>\n",
    "              <td> Mês como um número decimal preenchido com zero. </td>\n",
    "              <td><code>09</code> </td>\n",
    "            </tr>\n",
    "            <tr>\n",
    "              <td><code>%-m</code> </td>\n",
    "              <td> Mês como um número decimal. (Específico da plataforma) </td>\n",
    "              <td><code>9</code> </td>\n",
    "            </tr>\n",
    "            <tr>\n",
    "              <td><code>%y</code> </td>\n",
    "              <td> Ano sem século como um número decimal preenchido com zero. </td>\n",
    "              <td><code>13</code> </td>\n",
    "            </tr>\n",
    "            <tr>\n",
    "              <td><code>%Y</code> </td>\n",
    "              <td> Ano com o século como um número decimal. </td>\n",
    "              <td><code>2013</code> </td>\n",
    "            </tr>\n",
    "            <tr>\n",
    "              <td><code>%H</code> </td>\n",
    "              <td> Hora (relógio de 24 horas) como um número decimal preenchido com zero. </td>\n",
    "              <td><code>07</code> </td>\n",
    "            </tr>\n",
    "            <tr>\n",
    "              <td><code>%-H</code> </td>\n",
    "              <td> Hora (relógio de 24 horas) como um número decimal. (Específico da plataforma) </td>\n",
    "              <td><code>7</code> </td>\n",
    "            </tr>\n",
    "            <tr>\n",
    "              <td><code>%I</code> </td>\n",
    "              <td> Hora (relógio de 12 horas) como um número decimal preenchido com zero. </td>\n",
    "              <td><code>07</code> </td>\n",
    "            </tr>\n",
    "            <tr>\n",
    "              <td><code>%-I</code> </td>\n",
    "              <td> Hora (relógio de 12 horas) como um número decimal. (Específico da plataforma) </td>\n",
    "              <td><code>7</code> </td>\n",
    "            </tr>\n",
    "            <tr>\n",
    "              <td><code>%p</code> </td>\n",
    "              <td> O equivalente da localidade de AM ou PM. </td>\n",
    "              <td><code>AM</code> </td>\n",
    "            </tr>\n",
    "            <tr>\n",
    "              <td><code>%M</code> </td>\n",
    "              <td> Minuto como um número decimal preenchido com zero. </td>\n",
    "              <td><code>06</code> </td>\n",
    "            </tr>\n",
    "            <tr>\n",
    "              <td><code>%-M</code> </td>\n",
    "              <td> Minuto como um número decimal. (Específico da plataforma) </td>\n",
    "              <td><code>6</code> </td>\n",
    "            </tr>\n",
    "            <tr>\n",
    "              <td><code>%S</code> </td>\n",
    "              <td> Segundo como um número decimal preenchido com zero. </td>\n",
    "              <td><code>05</code> </td>\n",
    "            </tr>\n",
    "            <tr>\n",
    "              <td><code>%-S</code> </td>\n",
    "              <td> Segundo como um número decimal. (Específico da plataforma) </td>\n",
    "              <td><code>5</code> </td>\n",
    "            </tr>\n",
    "            <tr>\n",
    "              <td><code>%f</code> </td>\n",
    "              <td> Microssegundo como um número decimal, preenchido com zero à esquerda. </td>\n",
    "              <td><code>000000</code> </td>\n",
    "            </tr>\n",
    "            <tr>\n",
    "              <td><code>%z</code> </td>\n",
    "              <td> Deslocamento UTC no formato + HHMM ou -HHMM (string vazia se o objeto for ingênuo). </td>\n",
    "              <td><code></code> </td>\n",
    "            </tr>\n",
    "            <tr>\n",
    "              <td><code>%Z</code> </td>\n",
    "              <td> Nome do fuso horário (string vazia se o objeto for ingênuo). </td>\n",
    "              <td><code></code> </td>\n",
    "            </tr>\n",
    "            <tr>\n",
    "              <td><code>%j</code> </td>\n",
    "              <td> Dia do ano como um número decimal preenchido com zero. </td>\n",
    "              <td><code>273</code> </td>\n",
    "            </tr>\n",
    "            <tr>\n",
    "              <td><code>%-j</code> </td>\n",
    "              <td> Dia do ano como um número decimal. (Específico da plataforma) </td>\n",
    "              <td><code>273</code> </td>\n",
    "            </ tr>\n",
    "            <tr>\n",
    "              <td><code>%U</code> </td>\n",
    "              <td> Número da semana do ano (domingo como o primeiro dia da semana) como um número decimal preenchido com zero. Todos os dias em um novo ano anterior ao primeiro domingo são considerados na semana 0. </td>\n",
    "              <td><code>39</code> </td>\n",
    "            </tr>\n",
    "            <tr>\n",
    "              <td><code>%W</code> </td>\n",
    "              <td> Número da semana do ano (segunda-feira como o primeiro dia da semana) como um número decimal. Todos os dias do ano novo anterior à primeira segunda-feira são considerados na semana 0. </td>\n",
    "              <td><code>39</code> </td>\n",
    "            </tr>\n",
    "            <tr>\n",
    "              <td><code>%c</code> </td>\n",
    "              <td> Representação apropriada de data e hora da localidade. </td>\n",
    "              <td> <code> Seg 30 set 07:06:05 2013 </code> </td>\n",
    "            </tr>\n",
    "            <tr>\n",
    "              <td><code>%x</code> </td>\n",
    "              <td> Representação de data apropriada da localidade. </td>\n",
    "              <td><code>09/30/13</code> </td>\n",
    "            </tr>\n",
    "            <tr>\n",
    "              <td><code>%X</code> </td>\n",
    "              <td> Representação de tempo apropriada da localidade. </td>\n",
    "              <td><code>07:06:05</code> </td>\n",
    "            </tr>\n",
    "            <tr>\n",
    "              <td><code>%%</code> </td>\n",
    "              <td> Um caractere literal '%'. </td>\n",
    "              <td><code>%</code> </td>\n",
    "            </tr>\n",
    "        </tbody>\n",
    "      </table>\n",
    "</div>"
   ]
  },
  {
   "cell_type": "markdown",
   "id": "29073279",
   "metadata": {},
   "source": [
    "<center><h1> <a href=\"https://pandas.pydata.org/pandas-docs/stable/user_guide/timeseries.html#timeseries-offset-aliases\">String Para Períodos (Freq)</a></h1></center>\n",
    "\n",
    "<table border = \"1\" class = \"documentos fornecidos pelas larguras\">\n",
    "<colgroup>\n",
    "<largura da coluna = \"13%\" />\n",
    "<largura da coluna = \"87%\" />\n",
    "</colgroup>\n",
    "<thead valign = \"bottom\">\n",
    "<tr class = \"row-odd\"> <th class = \"head\"> Alias ​​</th>\n",
    "<th class = \"head\"> Descrição </th>\n",
    "</tr>\n",
    "</thead>\n",
    "<tbody valign = \"top\">\n",
    "<tr class = \"row-even\"> <td> B </td>\n",
    "<td> frequência de dias úteis </td>\n",
    "</tr>\n",
    "<tr class = \"row-odd\"> <td> C </td>\n",
    "<td> frequência de dias úteis personalizados </td>\n",
    "</tr>\n",
    "<tr class = \"row-even\"> <td> D </td>\n",
    "<td> frequência do dia do calendário </td>\n",
    "</tr>\n",
    "<tr class = \"row-odd\"> <td> W </td>\n",
    "<td> frequência semanal </td>\n",
    "</tr>\n",
    "<tr class = \"row-even\"> <td> M </td>\n",
    "<td> frequência de final do mês </td>\n",
    "</tr>\n",
    "<tr class = \"row-odd\"> <td> SM </td>\n",
    "<td> frequência final semestral (15 e final do mês) </td>\n",
    "</tr>\n",
    "<tr class = \"row-even\"> <td> BM </td>\n",
    "<td> frequência final do mês útil </td>\n",
    "</tr>\n",
    "<tr class = \"row-odd\"> <td> CBM </td>\n",
    "<td> frequência de final de mês comercial personalizada </td>\n",
    "</tr>\n",
    "<tr class = \"row-even\"> <td> MS </td>\n",
    "<td> frequência de início do mês </td>\n",
    "</tr>\n",
    "<tr class = \"row-odd\"> <td> SMS </td>\n",
    "<td> frequência de início semestral (1º e 15º) </td>\n",
    "</tr>\n",
    "<tr class = \"row-even\"> <td> BMS </td>\n",
    "<td> frequência de início do mês útil </td>\n",
    "</tr>\n",
    "<tr class = \"row-odd\"> <td> CBMS </td>\n",
    "<td> frequência de início do mês útil personalizado </td>\n",
    "</tr>\n",
    "<tr class = \"row-even\"> <td> Q </td>\n",
    "<td> frequência de final de trimestre </td>\n",
    "</tr>\n",
    "<tr class = \"row-odd\"> <td> BQ </td>\n",
    "<td> frequência de final de trimestre de negócios </td>\n",
    "</tr>\n",
    "<tr class = \"row-even\"> <td> QS </td>\n",
    "<td> frequência de início do trimestre </td>\n",
    "</tr>\n",
    "<tr class = \"row-odd\"> <td> BQS </td>\n",
    "<td> frequência de início do trimestre de negócios </td>\n",
    "</tr>\n",
    "<tr class = \"row-even\"> <td> A, Y </td>\n",
    "<td> frequência de final de ano </td>\n",
    "</tr>\n",
    "<tr class = \"row-odd\"> <td> BA, POR </td>\n",
    "<td> frequência de fim de ano comercial </td>\n",
    "</tr>\n",
    "<tr class = \"row-even\"> <td> AS, YS </td>\n",
    "<td> frequência de início do ano </td>\n",
    "</tr>\n",
    "<tr class = \"row-odd\"> <td> BAS, BYS </td>\n",
    "<td> frequência de início do ano comercial </td>\n",
    "</tr>\n",
    "<tr class = \"row-even\"> <td> BH </td>\n",
    "<td> frequência do horário comercial </td>\n",
    "</tr>\n",
    "<tr class = \"row-odd\"> <td> H </td>\n",
    "<td> frequência horária </td>\n",
    "</tr>\n",
    "<tr class = \"row-even\"> <td> T, mín. </td>\n",
    "<td> frequência minuciosa </td>\n",
    "</tr>\n",
    "<tr class = \"row-odd\"> <td> S </td>\n",
    "<td> segunda frequência </td>\n",
    "</tr>\n",
    "<tr class = \"row-even\"> <td> L, ms </td>\n",
    "<td> milissegundos </td>\n",
    "</tr>\n",
    "<tr class = \"row-odd\"> <td> U, us </td>\n",
    "<td> microssegundos </td>\n",
    "</tr>\n",
    "<tr class = \"row-even\"> <td> N </td>\n",
    "<td> nanossegundos </td>\n",
    "</tr>\n",
    "</tbody>\n",
    "</table>"
   ]
  },
  {
   "cell_type": "markdown",
   "id": "4cd9bc8d",
   "metadata": {},
   "source": [
    "# <font color='red' style='font-size: 40px;'> 9) Matplotlib e Seaborn </font>\n",
    "<hr style='border: 2px solid red;'>\n"
   ]
  },
  {
   "cell_type": "code",
   "execution_count": 33,
   "id": "ad049a29",
   "metadata": {},
   "outputs": [
    {
     "data": {
      "text/plain": [
       "dtype('<M8[ns]')"
      ]
     },
     "metadata": {},
     "output_type": "display_data"
    },
    {
     "data": {
      "text/html": [
       "<div>\n",
       "<style scoped>\n",
       "    .dataframe tbody tr th:only-of-type {\n",
       "        vertical-align: middle;\n",
       "    }\n",
       "\n",
       "    .dataframe tbody tr th {\n",
       "        vertical-align: top;\n",
       "    }\n",
       "\n",
       "    .dataframe thead th {\n",
       "        text-align: right;\n",
       "    }\n",
       "</style>\n",
       "<table border=\"1\" class=\"dataframe\">\n",
       "  <thead>\n",
       "    <tr style=\"text-align: right;\">\n",
       "      <th></th>\n",
       "      <th>temperatura</th>\n",
       "      <th>pressão</th>\n",
       "      <th>humidade</th>\n",
       "      <th>direção do vento</th>\n",
       "      <th>velocidade do vento</th>\n",
       "      <th>dia_da_semana</th>\n",
       "      <th>data</th>\n",
       "    </tr>\n",
       "  </thead>\n",
       "  <tbody>\n",
       "    <tr>\n",
       "      <th>0</th>\n",
       "      <td>282.08</td>\n",
       "      <td>1024.00</td>\n",
       "      <td>81.00</td>\n",
       "      <td>0.00</td>\n",
       "      <td>0.00</td>\n",
       "      <td>Domingo</td>\n",
       "      <td>2012-10-01 12:00:00</td>\n",
       "    </tr>\n",
       "    <tr>\n",
       "      <th>1</th>\n",
       "      <td>282.08</td>\n",
       "      <td>1024.00</td>\n",
       "      <td>81.00</td>\n",
       "      <td>0.00</td>\n",
       "      <td>0.00</td>\n",
       "      <td>Domingo</td>\n",
       "      <td>2012-10-01 13:00:00</td>\n",
       "    </tr>\n",
       "    <tr>\n",
       "      <th>2</th>\n",
       "      <td>282.08</td>\n",
       "      <td>1024.00</td>\n",
       "      <td>80.00</td>\n",
       "      <td>4.00</td>\n",
       "      <td>0.00</td>\n",
       "      <td>Domingo</td>\n",
       "      <td>2012-10-01 14:00:00</td>\n",
       "    </tr>\n",
       "    <tr>\n",
       "      <th>3</th>\n",
       "      <td>282.09</td>\n",
       "      <td>1024.00</td>\n",
       "      <td>80.00</td>\n",
       "      <td>18.00</td>\n",
       "      <td>0.00</td>\n",
       "      <td>Domingo</td>\n",
       "      <td>2012-10-01 15:00:00</td>\n",
       "    </tr>\n",
       "    <tr>\n",
       "      <th>4</th>\n",
       "      <td>282.10</td>\n",
       "      <td>1024.00</td>\n",
       "      <td>80.00</td>\n",
       "      <td>31.00</td>\n",
       "      <td>0.00</td>\n",
       "      <td>Domingo</td>\n",
       "      <td>2012-10-01 16:00:00</td>\n",
       "    </tr>\n",
       "  </tbody>\n",
       "</table>\n",
       "</div>"
      ],
      "text/plain": [
       "   temperatura  pressão  humidade  direção do vento  velocidade do vento  \\\n",
       "0       282.08  1024.00     81.00              0.00                 0.00   \n",
       "1       282.08  1024.00     81.00              0.00                 0.00   \n",
       "2       282.08  1024.00     80.00              4.00                 0.00   \n",
       "3       282.09  1024.00     80.00             18.00                 0.00   \n",
       "4       282.10  1024.00     80.00             31.00                 0.00   \n",
       "\n",
       "  dia_da_semana                data  \n",
       "0       Domingo 2012-10-01 12:00:00  \n",
       "1       Domingo 2012-10-01 13:00:00  \n",
       "2       Domingo 2012-10-01 14:00:00  \n",
       "3       Domingo 2012-10-01 15:00:00  \n",
       "4       Domingo 2012-10-01 16:00:00  "
      ]
     },
     "execution_count": 33,
     "metadata": {},
     "output_type": "execute_result"
    }
   ],
   "source": [
    "df = pd.read_csv('monitoramento_tempo.csv')\n",
    "df['data'] = pd.to_datetime(df['data'])\n",
    "display(df.data.dtypes)\n",
    "df.head()"
   ]
  },
  {
   "cell_type": "markdown",
   "id": "91c7bc3b",
   "metadata": {},
   "source": [
    "### Primeira visualização"
   ]
  },
  {
   "cell_type": "code",
   "execution_count": null,
   "id": "f7553277",
   "metadata": {},
   "outputs": [],
   "source": [
    "plt.figure(figsize = (15,8))\n",
    "plt.plot(df['data'],df['temperatura'])\n",
    "plt.title('Temperatura x Tempo')"
   ]
  },
  {
   "cell_type": "markdown",
   "id": "4e5784e2",
   "metadata": {},
   "source": [
    "### Salvando em variáveis"
   ]
  },
  {
   "cell_type": "code",
   "execution_count": null,
   "id": "49e642c6",
   "metadata": {},
   "outputs": [],
   "source": [
    "fig = plt.figure(figsize = (15, 8))\n",
    "eixo = fig.add_axes([0,0, 1, 1])\n",
    "eixo.plot(df['data'], df['temperatura'])\n",
    "eixo.set_title('Temperatura x Tempo')"
   ]
  },
  {
   "cell_type": "markdown",
   "id": "b85d7416",
   "metadata": {},
   "source": [
    "### Colocando legenda nos eixos e alterando o tamanho da fonte"
   ]
  },
  {
   "cell_type": "code",
   "execution_count": null,
   "id": "edb417e2",
   "metadata": {},
   "outputs": [],
   "source": [
    "fig = plt.figure(figsize = (15, 8))\n",
    "eixo = fig.add_axes([0,0, 1, 1])\n",
    "eixo.plot(df['data'], df['temperatura'])\n",
    "eixo.set_title('Temperatura x Tempo', fontsize = 25)\n",
    "eixo.set_xlabel('Data', fontsize = 20)\n",
    "eixo.set_ylabel('Temperatura', fontsize = 20)"
   ]
  },
  {
   "cell_type": "markdown",
   "id": "3498f547",
   "metadata": {},
   "source": [
    "### Colocando legenda"
   ]
  },
  {
   "cell_type": "code",
   "execution_count": null,
   "id": "3bbac745",
   "metadata": {},
   "outputs": [],
   "source": [
    "fig = plt.figure(figsize = (15, 8))\n",
    "eixo = fig.add_axes([0,0, 1, 1])\n",
    "eixo.plot(df['data'], df['temperatura'])\n",
    "eixo.set_title('Temperatura x Tempo', fontsize = 25)\n",
    "eixo.set_xlabel('Data', fontsize = 20)\n",
    "eixo.set_ylabel('Temperatura', fontsize = 20)\n",
    "eixo.legend(['temperatura'], loc = 'lower right', fontsize = 15)\n",
    "#Poderia colocar lower right, upper right, upper left, lower left..."
   ]
  },
  {
   "cell_type": "markdown",
   "id": "91f0a67a",
   "metadata": {},
   "source": [
    "### Alterando cores  https://matplotlib.org/stable/gallery/color/named_colors.html"
   ]
  },
  {
   "cell_type": "code",
   "execution_count": null,
   "id": "70593bd0",
   "metadata": {},
   "outputs": [],
   "source": [
    "fig = plt.figure(figsize = (15, 8))\n",
    "eixo = fig.add_axes([0,0, 1, 1])\n",
    "eixo.plot(df['data'], df['temperatura'], color = 'green')\n",
    "eixo.set_title('Temperatura x Tempo', fontsize = 25)\n",
    "eixo.set_xlabel('Data', fontsize = 20)\n",
    "eixo.set_ylabel('Temperatura', fontsize = 20)\n",
    "eixo.legend(['temperatura'], loc = 'lower right', fontsize = 15)"
   ]
  },
  {
   "cell_type": "markdown",
   "id": "60f74750",
   "metadata": {},
   "source": [
    "### Alterando a espessura de linhas"
   ]
  },
  {
   "cell_type": "code",
   "execution_count": null,
   "id": "b1b58372",
   "metadata": {},
   "outputs": [],
   "source": [
    "fig = plt.figure(figsize = (15, 8))\n",
    "eixo = fig.add_axes([0,0, 1, 1])\n",
    "eixo.plot(df['data'], df['temperatura'], color = 'green', lw = 0.5)\n",
    "eixo.set_title('Temperatura x Tempo', fontsize = 25)\n",
    "eixo.set_xlabel('Data', fontsize = 20)\n",
    "eixo.set_ylabel('Temperatura', fontsize = 20)\n",
    "eixo.legend(['temperatura'], loc = 'lower right', fontsize = 15)"
   ]
  },
  {
   "cell_type": "markdown",
   "id": "2fe4e02e",
   "metadata": {},
   "source": [
    "### Trocando o estilo do gráfico"
   ]
  },
  {
   "cell_type": "code",
   "execution_count": null,
   "id": "9995ca00",
   "metadata": {},
   "outputs": [],
   "source": [
    "fig = plt.figure(figsize = (15, 8))\n",
    "eixo = fig.add_axes([0,0, 1, 1])\n",
    "eixo.plot(df['data'], df['temperatura'], color = 'green', ls = 'dotted')\n",
    "eixo.set_title('Temperatura x Tempo', fontsize = 25)\n",
    "eixo.set_xlabel('Data', fontsize = 20)\n",
    "eixo.set_ylabel('Temperatura', fontsize = 20)\n",
    "eixo.legend(['temperatura'], loc = 'lower right', fontsize = 15)"
   ]
  },
  {
   "cell_type": "markdown",
   "id": "9bae4497",
   "metadata": {},
   "source": [
    "### Alterando os limites do eixo X"
   ]
  },
  {
   "cell_type": "code",
   "execution_count": null,
   "id": "ff9478b7",
   "metadata": {},
   "outputs": [],
   "source": [
    "import datetime\n",
    "\n",
    "fig = plt.figure(figsize = (15, 8))\n",
    "eixo = fig.add_axes([0,0, 1, 1])\n",
    "eixo.plot(df['data'], df['temperatura'], color = 'green')\n",
    "\n",
    "eixo.set_xlim(datetime.datetime(2014,1,1), datetime.datetime(2015,1,1))\n",
    "eixo.set_title('Temperatura x Tempo', fontsize = 25)\n",
    "eixo.set_xlabel('Data', fontsize = 20)\n",
    "eixo.set_ylabel('Temperatura', fontsize = 20)\n",
    "eixo.legend(['temperatura'], loc = 'lower right', fontsize = 15)"
   ]
  },
  {
   "cell_type": "markdown",
   "id": "dd351d73",
   "metadata": {},
   "source": [
    "### Colocando bolinhas em cada pomto"
   ]
  },
  {
   "cell_type": "code",
   "execution_count": null,
   "id": "7940e9c3",
   "metadata": {},
   "outputs": [],
   "source": [
    "fig = plt.figure(figsize = (15, 8))\n",
    "eixo = fig.add_axes([0,0, 1, 1])\n",
    "eixo.plot(df['data'], df['temperatura'], color = 'green', marker = 'o')\n",
    "\n",
    "eixo.set_xlim(datetime.datetime(2014,1,1), datetime.datetime(2015,1,1))\n",
    "eixo.set_title('Temperatura x Tempo', fontsize = 25)\n",
    "eixo.set_xlabel('Data', fontsize = 20)\n",
    "eixo.set_ylabel('Temperatura', fontsize = 20)\n",
    "eixo.legend(['temperatura'], loc = 'lower right', fontsize = 15)"
   ]
  },
  {
   "cell_type": "markdown",
   "id": "83c16c09",
   "metadata": {},
   "source": [
    "### Fazendo uma grade"
   ]
  },
  {
   "cell_type": "code",
   "execution_count": null,
   "id": "acc886d0",
   "metadata": {},
   "outputs": [],
   "source": [
    "fig = plt.figure(figsize = (15, 8))\n",
    "eixo = fig.add_axes([0,0, 1, 1])\n",
    "eixo.plot(df['data'], df['temperatura'], color = 'green')\n",
    "\n",
    "eixo.set_xlim(datetime.datetime(2014,1,1), datetime.datetime(2015,1,1))\n",
    "eixo.set_title('Temperatura x Tempo', fontsize = 25)\n",
    "eixo.set_xlabel('Data', fontsize = 20)\n",
    "eixo.set_ylabel('Temperatura', fontsize = 20)\n",
    "eixo.legend(['temperatura'], loc = 'lower right', fontsize = 15)\n",
    "eixo.grid(True)"
   ]
  },
  {
   "cell_type": "markdown",
   "id": "a2f7960c",
   "metadata": {},
   "source": [
    "### Visualização dentro de uma visualização"
   ]
  },
  {
   "cell_type": "code",
   "execution_count": null,
   "id": "fc004e76",
   "metadata": {},
   "outputs": [],
   "source": [
    "fig = plt.figure(figsize = (15, 8))\n",
    "eixo = fig.add_axes([0,0, 1, 1])\n",
    "eixo2 = fig.add_axes([0.1, 0.5, 0.4, 0.4])"
   ]
  },
  {
   "cell_type": "markdown",
   "id": "249d4abe",
   "metadata": {},
   "source": [
    "### Visualização dentro de uma visualização, dando espaçada no título e deixando o matplotlib pensar qual é o melhor lugar para a legenda"
   ]
  },
  {
   "cell_type": "code",
   "execution_count": null,
   "id": "7e0f6261",
   "metadata": {},
   "outputs": [],
   "source": [
    "fig = plt.figure(figsize = (15, 8))\n",
    "eixo = fig.add_axes([0,0, 1, 1])\n",
    "eixo2 = fig.add_axes([0.1, 0.5, 0.4, 0.4])\n",
    "\n",
    "eixo.plot(df['data'], df['temperatura'], color = 'green')\n",
    "eixo.set_xlim(datetime.datetime(2014,1,1), datetime.datetime(2015,1,1))\n",
    "eixo.set_title('Temperatura x Tempo', fontsize = 25, pad = 20)\n",
    "eixo.set_xlabel('Tempo', fontsize = 20)\n",
    "eixo.set_ylabel('Temperatura', fontsize = 20)\n",
    "eixo.legend(['temperatura'], loc = 'best', fontsize = 15) \n",
    "eixo.grid(True)"
   ]
  },
  {
   "cell_type": "markdown",
   "id": "9c6d0317",
   "metadata": {},
   "source": [
    "### Acrescentando dados no eixo menor "
   ]
  },
  {
   "cell_type": "code",
   "execution_count": null,
   "id": "042387d6",
   "metadata": {},
   "outputs": [],
   "source": [
    "fig = plt.figure(figsize = (15, 8))\n",
    "eixo = fig.add_axes([0,0, 1, 1])\n",
    "eixo2 = fig.add_axes([0.1, 0.5, 0.4, 0.4])\n",
    "\n",
    "eixo.plot(df['data'], df['temperatura'], color = 'green')\n",
    "eixo.set_xlim(datetime.datetime(2014,1,1), datetime.datetime(2015,1,1))\n",
    "eixo.set_title('Temperatura x Tempo', fontsize = 25, pad = 20)\n",
    "eixo.set_xlabel('Tempo', fontsize = 20)\n",
    "eixo.set_ylabel('Temperatura', fontsize = 20)\n",
    "eixo.legend(['temperatura'], loc = 'best', fontsize = 15) \n",
    "eixo.grid(True)\n",
    "\n",
    "eixo2.plot(df['data'], df['temperatura'], color = 'blue')\n",
    "eixo2.set_title('Temperatura x Tempo', fontsize = 15)\n",
    "eixo2.set_xlabel('Tempo', fontsize = 10)\n",
    "eixo2.set_ylabel('Temperatura', fontsize = 10)\n",
    "eixo2.legend(['temperatura'], loc = 'best', fontsize = 8) \n",
    "eixo2.grid(True)"
   ]
  },
  {
   "cell_type": "markdown",
   "id": "174f2297",
   "metadata": {},
   "source": [
    "### Alterando a posição do menor gráfico"
   ]
  },
  {
   "cell_type": "code",
   "execution_count": null,
   "id": "eebc3596",
   "metadata": {},
   "outputs": [],
   "source": [
    "fig = plt.figure(figsize = (15, 8))\n",
    "eixo = fig.add_axes([0,0, 1, 1])\n",
    "eixo2 = fig.add_axes([0.7, 0.65, 0.3, 0.3])\n",
    "\n",
    "eixo.plot(df['data'], df['temperatura'], color = 'green')\n",
    "eixo.set_xlim(datetime.datetime(2014,1,1), datetime.datetime(2015,1,1))\n",
    "eixo.set_title('Temperatura x Tempo', fontsize = 25, pad = 20)\n",
    "eixo.set_xlabel('Tempo', fontsize = 20)\n",
    "eixo.set_ylabel('Temperatura', fontsize = 20)\n",
    "eixo.legend(['temperatura'], loc = 'best', fontsize = 15) \n",
    "eixo.grid(True)\n",
    "\n",
    "eixo2.plot(df['data'], df['temperatura'], color = 'blue')\n",
    "eixo2.set_title('Temperatura x Tempo', fontsize = 15)\n",
    "eixo2.set_xlabel('Tempo', fontsize = 10)\n",
    "eixo2.set_ylabel('Temperatura', fontsize = 10)\n",
    "eixo2.legend(['temperatura'], loc = 'best', fontsize = 8) \n",
    "eixo2.grid(True)"
   ]
  },
  {
   "cell_type": "markdown",
   "id": "20e99e59",
   "metadata": {},
   "source": [
    "### Mudando a legenda do gráfico grande"
   ]
  },
  {
   "cell_type": "code",
   "execution_count": null,
   "id": "9614a142",
   "metadata": {},
   "outputs": [],
   "source": [
    "fig = plt.figure(figsize = (15, 8))\n",
    "eixo = fig.add_axes([0,0, 1, 1])\n",
    "eixo2 = fig.add_axes([0.7, 0.65, 0.3, 0.3])\n",
    "\n",
    "eixo.plot(df['data'], df['temperatura'], color = 'green')\n",
    "eixo.set_xlim(datetime.datetime(2014,1,1), datetime.datetime(2015,1,1))\n",
    "eixo.set_title('Temperatura x Tempo', fontsize = 25, pad = 20)\n",
    "eixo.set_xlabel('Tempo', fontsize = 20)\n",
    "eixo.set_ylabel('Temperatura', fontsize = 20)\n",
    "eixo.legend(['temperatura'], loc = 'lower right', fontsize = 15) \n",
    "eixo.grid(True)\n",
    "\n",
    "eixo2.plot(df['data'], df['temperatura'], color = 'blue')\n",
    "eixo2.set_title('Temperatura x Tempo', fontsize = 15)\n",
    "eixo2.set_xlabel('Tempo', fontsize = 10)\n",
    "eixo2.set_ylabel('Temperatura', fontsize = 10)\n",
    "eixo2.legend(['temperatura'], loc = 'best', fontsize = 8) \n",
    "eixo2.grid(True)"
   ]
  },
  {
   "cell_type": "markdown",
   "id": "5858466c",
   "metadata": {},
   "source": [
    "### Gráfico grande representando um mês de 2014, e o gráfico pequeno o ano de 2014"
   ]
  },
  {
   "cell_type": "code",
   "execution_count": null,
   "id": "088e7fea",
   "metadata": {},
   "outputs": [],
   "source": [
    "fig = plt.figure(figsize = (15, 8))\n",
    "eixo = fig.add_axes([0,0, 1, 1])\n",
    "eixo2 = fig.add_axes([0.7, 0.65, 0.3, 0.3])\n",
    "\n",
    "eixo.plot(df['data'], df['temperatura'], color = 'green')\n",
    "eixo.set_xlim(datetime.datetime(2014,5,1), datetime.datetime(2014,6,1))\n",
    "eixo.set_title('Temperatura x Tempo', fontsize = 25, pad = 20)\n",
    "eixo.set_xlabel('Tempo', fontsize = 20)\n",
    "eixo.set_ylabel('Temperatura', fontsize = 20)\n",
    "eixo.legend(['temperatura'], loc = 'lower right', fontsize = 15) \n",
    "eixo.grid(True)\n",
    "\n",
    "eixo2.plot(df['data'], df['temperatura'], color = 'blue')\n",
    "eixo2.set_xlim(datetime.datetime(2014,1,1), datetime.datetime(2015,1,1))\n",
    "eixo2.set_title('Temperatura x Tempo', fontsize = 15)\n",
    "eixo2.set_xlabel('Tempo', fontsize = 10)\n",
    "eixo2.set_ylabel('Temperatura', fontsize = 10)\n",
    "eixo2.legend(['temperatura'], loc = 'best', fontsize = 8) \n",
    "eixo2.grid(True)"
   ]
  },
  {
   "cell_type": "markdown",
   "id": "72eeb4e0",
   "metadata": {},
   "source": [
    "### Descendo o gráfico grande no eixo Y"
   ]
  },
  {
   "cell_type": "code",
   "execution_count": null,
   "id": "300dea82",
   "metadata": {},
   "outputs": [],
   "source": [
    "fig = plt.figure(figsize = (15, 8))\n",
    "eixo = fig.add_axes([0,0, 1, 1])\n",
    "eixo2 = fig.add_axes([0.7, 0.65, 0.3, 0.3])\n",
    "\n",
    "eixo.plot(df['data'], df['temperatura'], color = 'green')\n",
    "eixo.set_xlim(datetime.datetime(2014,5,1), datetime.datetime(2014,6,1))\n",
    "eixo.set_ylim(270, 320)\n",
    "eixo.set_title('Temperatura x Tempo', fontsize = 25, pad = 20)\n",
    "eixo.set_xlabel('Tempo', fontsize = 20)\n",
    "eixo.set_ylabel('Temperatura', fontsize = 20)\n",
    "eixo.legend(['temperatura'], loc = 'lower right', fontsize = 15) \n",
    "eixo.grid(True)\n",
    "\n",
    "eixo2.plot(df['data'], df['temperatura'], color = 'blue')\n",
    "eixo2.set_xlim(datetime.datetime(2014,1,1), datetime.datetime(2015,1,1))\n",
    "eixo2.set_title('Temperatura x Tempo', fontsize = 15)\n",
    "eixo2.set_xlabel('Tempo', fontsize = 10)\n",
    "eixo2.set_ylabel('Temperatura', fontsize = 10)\n",
    "eixo2.legend(['temperatura'], loc = 'best', fontsize = 8) \n",
    "eixo2.grid(True)"
   ]
  },
  {
   "cell_type": "markdown",
   "id": "a73072b8",
   "metadata": {},
   "source": [
    "### Criando um Filtro e fazendo relação de cores"
   ]
  },
  {
   "cell_type": "code",
   "execution_count": null,
   "id": "2ed56174",
   "metadata": {},
   "outputs": [],
   "source": [
    "fig = plt.figure(figsize = (15, 8))\n",
    "eixo = fig.add_axes([0,0, 1, 1])\n",
    "eixo2 = fig.add_axes([0.7, 0.65, 0.3, 0.3])\n",
    "\n",
    "eixo.plot(df['data'], df['temperatura'], color = 'green')\n",
    "eixo.set_xlim(datetime.datetime(2014,5,1), datetime.datetime(2014,6,1))\n",
    "eixo.set_ylim(270, 320)\n",
    "eixo.set_title('Temperatura x Data', fontsize = 25, pad = 20)\n",
    "eixo.set_xlabel('Data', fontsize = 20)\n",
    "eixo.set_ylabel('Temperatura', fontsize = 20)\n",
    "eixo.legend(['temperatura'], loc = 'lower right', fontsize = 15) \n",
    "eixo.grid(True)\n",
    "\n",
    "azul_esquerda = df['data'] < datetime.datetime(2014, 5, 1)\n",
    "azul_direita = df['data'] > datetime.datetime(2014, 6, 1)\n",
    "\n",
    "eixo2.plot(df['data'], df['temperatura'], color = 'green')\n",
    "eixo2.plot(df[azul_esquerda]['data'], df[azul_esquerda]['temperatura'], color = 'blue')\n",
    "eixo2.plot(df[azul_direita]['data'], df[azul_direita]['temperatura'], color = 'blue')\n",
    "eixo2.set_xlim(datetime.datetime(2014,1,1), datetime.datetime(2015,1,1))\n",
    "eixo2.set_title('Temperatura x Data', fontsize = 15)\n",
    "eixo2.set_xlabel('Data', fontsize = 10)\n",
    "eixo2.set_ylabel('Temperatura', fontsize = 10)\n",
    "eixo2.legend(['temperatura'], loc = 'best', fontsize = 8) \n",
    "eixo2.grid(True)"
   ]
  },
  {
   "cell_type": "markdown",
   "id": "55d2885e",
   "metadata": {},
   "source": [
    "### Identificando os pontos de máximo e mínimo"
   ]
  },
  {
   "cell_type": "code",
   "execution_count": null,
   "id": "a5168170",
   "metadata": {},
   "outputs": [],
   "source": [
    "fig = plt.figure(figsize = (15, 8))\n",
    "eixo = fig.add_axes([0,0, 1, 1])\n",
    "\n",
    "eixo.plot(df['data'], df['temperatura'], color = 'green')\n",
    "eixo.set_xlim(datetime.datetime(2013, 1, 1), datetime.datetime(2018, 1, 1))\n",
    "eixo.set_title('Temperatura x Data', fontsize = 25, pad = 20)\n",
    "eixo.set_xlabel('Data', fontsize = 20)\n",
    "eixo.set_ylabel('Temperatura', fontsize = 20)\n",
    "eixo.legend(['temperatura'], loc = 'lower right', fontsize = 15) \n",
    "eixo.grid(True)\n",
    "\n",
    "eixo.axhline(max(df['temperatura']), color = 'k', linestyle = '--')\n",
    "eixo.axhline(min(df['temperatura']), color = 'k', linestyle = '--')"
   ]
  },
  {
   "cell_type": "markdown",
   "id": "464bc85a",
   "metadata": {},
   "source": [
    "### Títulos para os pontos de máximo e mínimo"
   ]
  },
  {
   "cell_type": "code",
   "execution_count": null,
   "id": "27c1fb52",
   "metadata": {},
   "outputs": [],
   "source": [
    "fig = plt.figure(figsize = (15, 8))\n",
    "eixo = fig.add_axes([0,0, 1, 1])\n",
    "\n",
    "eixo.plot(df['data'], df['temperatura'], color = 'green')\n",
    "eixo.set_xlim(datetime.datetime(2013, 1, 1), datetime.datetime(2018, 1, 1))\n",
    "eixo.set_title('Temperatura x Data', fontsize = 25, pad = 20)\n",
    "eixo.set_xlabel('Data', fontsize = 20)\n",
    "eixo.set_ylabel('Temperatura', fontsize = 20)\n",
    "eixo.grid(True)\n",
    "\n",
    "x1 = df['data'][df['temperatura'].idxmax()]\n",
    "y1 = max(df['temperatura'])\n",
    "\n",
    "x2 = df['data'][df['temperatura'].idxmax() - 7000]\n",
    "y2 = max(df['temperatura']) - 5\n",
    "\n",
    "eixo.annotate('Máximo', xy = (x1, y1), fontsize = 20, xytext = (x2, y2), arrowprops = dict(facecolor = 'black'))\n",
    "\n",
    "x1 = df['data'][df['temperatura'].idxmin()]\n",
    "y1 = min(df['temperatura'])\n",
    "\n",
    "x2 = df['data'][df['temperatura'].idxmin() - 7000]\n",
    "y2 = min(df['temperatura']) + 5 \n",
    "\n",
    "eixo.annotate('Mínimo', xy = (x1, y1), fontsize = 20, xytext = (x2, y2), arrowprops = dict(facecolor = 'black'))\n",
    "\n",
    "eixo.axhline(max(df['temperatura']), color = 'k', linestyle = '--')\n",
    "eixo.axhline(min(df['temperatura']), color = 'k', linestyle = '--')"
   ]
  },
  {
   "cell_type": "markdown",
   "id": "d8007a73",
   "metadata": {},
   "source": [
    "### Funçao para Histograma + Boxplot "
   ]
  },
  {
   "cell_type": "code",
   "execution_count": 3,
   "id": "9a43e3e9",
   "metadata": {},
   "outputs": [
    {
     "name": "stdout",
     "output_type": "stream",
     "text": [
      "(200, 5)\n",
      "CustomerID                 int64\n",
      "Genre                     object\n",
      "Age                        int64\n",
      "Annual Income (k$)         int64\n",
      "Spending Score (1-100)     int64\n",
      "dtype: object\n"
     ]
    },
    {
     "data": {
      "text/html": [
       "<div>\n",
       "<style scoped>\n",
       "    .dataframe tbody tr th:only-of-type {\n",
       "        vertical-align: middle;\n",
       "    }\n",
       "\n",
       "    .dataframe tbody tr th {\n",
       "        vertical-align: top;\n",
       "    }\n",
       "\n",
       "    .dataframe thead th {\n",
       "        text-align: right;\n",
       "    }\n",
       "</style>\n",
       "<table border=\"1\" class=\"dataframe\">\n",
       "  <thead>\n",
       "    <tr style=\"text-align: right;\">\n",
       "      <th></th>\n",
       "      <th>identificacao</th>\n",
       "      <th>genero</th>\n",
       "      <th>idade</th>\n",
       "      <th>rendimento</th>\n",
       "      <th>pontuacao</th>\n",
       "    </tr>\n",
       "  </thead>\n",
       "  <tbody>\n",
       "    <tr>\n",
       "      <th>0</th>\n",
       "      <td>1</td>\n",
       "      <td>Male</td>\n",
       "      <td>19</td>\n",
       "      <td>15</td>\n",
       "      <td>39</td>\n",
       "    </tr>\n",
       "    <tr>\n",
       "      <th>1</th>\n",
       "      <td>2</td>\n",
       "      <td>Male</td>\n",
       "      <td>21</td>\n",
       "      <td>15</td>\n",
       "      <td>81</td>\n",
       "    </tr>\n",
       "    <tr>\n",
       "      <th>2</th>\n",
       "      <td>3</td>\n",
       "      <td>Female</td>\n",
       "      <td>20</td>\n",
       "      <td>16</td>\n",
       "      <td>6</td>\n",
       "    </tr>\n",
       "    <tr>\n",
       "      <th>3</th>\n",
       "      <td>4</td>\n",
       "      <td>Female</td>\n",
       "      <td>23</td>\n",
       "      <td>16</td>\n",
       "      <td>77</td>\n",
       "    </tr>\n",
       "    <tr>\n",
       "      <th>4</th>\n",
       "      <td>5</td>\n",
       "      <td>Female</td>\n",
       "      <td>31</td>\n",
       "      <td>17</td>\n",
       "      <td>40</td>\n",
       "    </tr>\n",
       "  </tbody>\n",
       "</table>\n",
       "</div>"
      ],
      "text/plain": [
       "   identificacao  genero  idade  rendimento  pontuacao\n",
       "0              1    Male     19          15         39\n",
       "1              2    Male     21          15         81\n",
       "2              3  Female     20          16          6\n",
       "3              4  Female     23          16         77\n",
       "4              5  Female     31          17         40"
      ]
     },
     "execution_count": 3,
     "metadata": {},
     "output_type": "execute_result"
    }
   ],
   "source": [
    "df = pd.read_csv('Mall_Customers.csv')\n",
    "print(df.shape)\n",
    "print(df.dtypes)\n",
    "\n",
    "df.rename(\n",
    "    {\n",
    "        'CustomerID':'identificacao',\n",
    "        'Genre':'genero',\n",
    "        'Age':'idade',\n",
    "        'Annual Income (k$)':'rendimento', \n",
    "        'Spending Score (1-100)':'pontuacao'\n",
    "    }, \n",
    "    axis = 1, \n",
    "    inplace = True)\n",
    "\n",
    "df.head()"
   ]
  },
  {
   "cell_type": "markdown",
   "id": "6c9c93df",
   "metadata": {},
   "source": [
    "* Variáveis Quantitativas "
   ]
  },
  {
   "cell_type": "code",
   "execution_count": 35,
   "id": "b127ad58",
   "metadata": {},
   "outputs": [
    {
     "data": {
      "image/png": "[encoded data removed]",
      "text/plain": [
       "<Figure size 1000x500 with 1 Axes>"
      ]
     },
     "metadata": {},
     "output_type": "display_data"
    },
    {
     "name": "stderr",
     "output_type": "stream",
     "text": [
      "No artists with labels found to put in legend.  Note that artists whose label start with an underscore are ignored when legend() is called with no argument.\n"
     ]
    },
    {
     "data": {
      "image/png": "[encoded data removed]",
      "text/plain": [
       "<Figure size 1000x500 with 1 Axes>"
      ]
     },
     "metadata": {},
     "output_type": "display_data"
    },
    {
     "data": {
      "image/png": "[encoded data removed]",
      "text/plain": [
       "<Figure size 1000x500 with 1 Axes>"
      ]
     },
     "metadata": {},
     "output_type": "display_data"
    },
    {
     "name": "stderr",
     "output_type": "stream",
     "text": [
      "No artists with labels found to put in legend.  Note that artists whose label start with an underscore are ignored when legend() is called with no argument.\n"
     ]
    },
    {
     "data": {
      "image/png": "[encoded data removed]",
      "text/plain": [
       "<Figure size 1000x500 with 1 Axes>"
      ]
     },
     "metadata": {},
     "output_type": "display_data"
    },
    {
     "data": {
      "image/png": "[encoded data removed]",
      "text/plain": [
       "<Figure size 1000x500 with 1 Axes>"
      ]
     },
     "metadata": {},
     "output_type": "display_data"
    },
    {
     "name": "stderr",
     "output_type": "stream",
     "text": [
      "No artists with labels found to put in legend.  Note that artists whose label start with an underscore are ignored when legend() is called with no argument.\n"
     ]
    },
    {
     "data": {
      "image/png": "[encoded data removed]",
      "text/plain": [
       "<Figure size 1000x500 with 1 Axes>"
      ]
     },
     "metadata": {},
     "output_type": "display_data"
    }
   ],
   "source": [
    "def plota_histograma(data, feature):\n",
    "\n",
    "    mediana = data[feature].median()\n",
    "    media = round(data[feature].mean(), 2)\n",
    "\n",
    "    plt.figure(figsize = (10,5))\n",
    "    sns.histplot(data = data, x = feature, color = '#1FB3E5', bins = 60)\n",
    "    plt.title(f'Distribuição {feature}', fontsize = 16)\n",
    "    plt.xlabel('Intervalo de Valores', fontsize = 14)\n",
    "    plt.ylabel('Frequência', fontsize = 14)\n",
    "    plt.axvline(x = mediana, ymax = 0.75 ,color = '#231F20', linestyle = '-', label = f'mediana = {mediana}')\n",
    "    plt.axvline(x = media, ymax = 0.75,color = '#231F20', linestyle = '--', label = f'media = {media}')\n",
    "    plt.box(False)\n",
    "    plt.legend(loc = 'best')\n",
    "    plt.show()\n",
    "\n",
    "def plota_boxplot(data, feature):\n",
    "    plt.figure(figsize = (10,5))\n",
    "    sns.boxplot(data = data, x = feature, orient = 'h', color = '#1FB3E5')\n",
    "    plt.title(f'Boxplot {feature}', fontsize = 16)\n",
    "    plt.xlabel('Intervalo de Valores', fontsize = 14)\n",
    "    plt.box(False)\n",
    "    plt.legend(loc = 'best')\n",
    "    plt.show()\n",
    "\n",
    "\n",
    "features_quant = list(df.columns[2:])\n",
    "for feature in features_quant:\n",
    "    plota_histograma(df, feature)\n",
    "    plota_boxplot(df, feature)\n",
    "    "
   ]
  },
  {
   "attachments": {},
   "cell_type": "markdown",
   "id": "5cffdb4b",
   "metadata": {},
   "source": [
    "* Variáveis Qualitativas"
   ]
  },
  {
   "cell_type": "code",
   "execution_count": null,
   "id": "2e238f65",
   "metadata": {},
   "outputs": [],
   "source": [
    "def plota_barras(lista_variaveis, hue, dados, linhas, colunas):\n",
    "    if hue != False:\n",
    "        if linhas == 1:\n",
    "            fig, axis = plt.subplots(linhas, colunas, figsize=(14, 10), sharey=True)\n",
    "            k = 0\n",
    "            for i in np.arange(linhas):\n",
    "                for j in np.arange(colunas):\n",
    "                    ax = sns.countplot(x = lista_variaveis[k], data = dados, orient = 'h', ax = axis[j], hue = hue, palette={'Yes':'#1FB3E5', 'No':'#696969'})\n",
    "                    ax.set_xlabel(f'{lista_variaveis[k]}', fontsize = 14)\n",
    "                    ax.set_ylabel(f'Quantidade', fontsize = 14)\n",
    "                    total = []\n",
    "                    for bar in ax.patches:\n",
    "                        height = bar.get_height()\n",
    "                        total.append(height)\n",
    "                    total = sum(total)\n",
    "                    \n",
    "                    sizes = []\n",
    "                    for bar in ax.patches:\n",
    "                        height = bar.get_height()\n",
    "                        sizes.append(height)\n",
    "                        ax.text(bar.get_x() + bar.get_width()/1.6,\n",
    "                                height+200,\n",
    "                                f'{round((height/total)*100, 2)}%',\n",
    "                                ha = 'center',\n",
    "                                fontsize = 12\n",
    "                        )\n",
    "                    ax.set_ylim(0, max(sizes)*1.1)\n",
    "                    k = k + 1\n",
    "        elif colunas == 1:\n",
    "            fig, axis = plt.subplots(linhas, colunas, figsize=(14, 10), sharey=True)\n",
    "            k = 0\n",
    "            for i in np.arange(linhas):\n",
    "                for j in np.arange(colunas):\n",
    "                    ax = sns.countplot(x = lista_variaveis[k], data = dados, orient = 'h', ax = axis[i], hue = hue, palette={'Yes':'#1FB3E5', 'No':'#696969'})\n",
    "                    ax.set_xlabel(f'{lista_variaveis[k]}', fontsize = 14)\n",
    "                    ax.set_ylabel(f'Quantidade', fontsize = 14)\n",
    "                    total = []\n",
    "                    for bar in ax.patches:\n",
    "                        height = bar.get_height()\n",
    "                        total.append(height)\n",
    "                    total = sum(total)\n",
    "                    \n",
    "                    sizes = []\n",
    "                    for bar in ax.patches:\n",
    "                        height = bar.get_height()\n",
    "                        sizes.append(height)\n",
    "                        ax.text(bar.get_x() + bar.get_width()/1.6,\n",
    "                                height+200,\n",
    "                                f'{round((height/total)*100, 2)}%',\n",
    "                                ha = 'center',\n",
    "                                fontsize = 12\n",
    "                        )\n",
    "                    ax.set_ylim(0, max(sizes)*1.1)\n",
    "                    k = k + 1\n",
    "        else: \n",
    "            fig, axis = plt.subplots(linhas, colunas, figsize=(14, 10), sharey=True)\n",
    "            k = 0\n",
    "            for i in np.arange(linhas):\n",
    "                for j in np.arange(colunas):\n",
    "                    ax = sns.countplot(x = lista_variaveis[k], data = dados, orient = 'h', ax = axis[i, j], hue = hue, palette={'Yes':'#1FB3E5', 'No':'#696969'})\n",
    "                    ax.set_xlabel(f'{lista_variaveis[k]}', fontsize = 14)\n",
    "                    ax.set_ylabel(f'Quantidade', fontsize = 14)\n",
    "                    total = []\n",
    "                    for bar in ax.patches:\n",
    "                        height = bar.get_height()\n",
    "                        total.append(height)\n",
    "                    total = sum(total)\n",
    "                    \n",
    "                    sizes = []\n",
    "                    for bar in ax.patches:\n",
    "                        height = bar.get_height()\n",
    "                        sizes.append(height)\n",
    "                        ax.text(bar.get_x() + bar.get_width()/1.6,\n",
    "                                height+200,\n",
    "                                f'{round((height/total)*100, 2)}%',\n",
    "                                ha = 'center',\n",
    "                                fontsize = 12\n",
    "                        )\n",
    "                    ax.set_ylim(0, max(sizes)*1.1)\n",
    "                    k = k + 1\n",
    "    else:\n",
    "        if linhas == 1:\n",
    "            fig, axis = plt.subplots(linhas, colunas, figsize=(14, 10), sharey=True)\n",
    "            k = 0\n",
    "            for i in np.arange(linhas):\n",
    "                for j in np.arange(colunas):\n",
    "                    ax = sns.countplot(x = lista_variaveis[k], data = dados, orient = 'h', ax = axis[j], color='#1FB3E5')\n",
    "                    ax.set_xlabel(f'{lista_variaveis[k]}', fontsize = 14)\n",
    "                    ax.set_ylabel(f'Quantidade', fontsize = 14)\n",
    "                    total = []\n",
    "                    for bar in ax.patches:\n",
    "                        height = bar.get_height()\n",
    "                        total.append(height)\n",
    "                    total = sum(total)\n",
    "                    \n",
    "                    sizes = []\n",
    "                    for bar in ax.patches:\n",
    "                        height = bar.get_height()\n",
    "                        sizes.append(height)\n",
    "                        ax.text(bar.get_x() + bar.get_width()/1.6,\n",
    "                                height+200,\n",
    "                                f'{round((height/total)*100, 2)}%',\n",
    "                                ha = 'center',\n",
    "                                fontsize = 12\n",
    "                        )\n",
    "                    ax.set_ylim(0, max(sizes)*1.1)\n",
    "                    k = k + 1\n",
    "        elif colunas == 1:\n",
    "            fig, axis = plt.subplots(linhas, colunas, figsize=(14, 10), sharey=True)\n",
    "            k = 0\n",
    "            for i in np.arange(linhas):\n",
    "                for j in np.arange(colunas):\n",
    "                    ax = sns.countplot(x = lista_variaveis[k], data = dados, orient = 'h', ax = axis[i], color='#1FB3E5')\n",
    "                    ax.set_xlabel(f'{lista_variaveis[k]}', fontsize = 14)\n",
    "                    ax.set_ylabel(f'Quantidade', fontsize = 14)\n",
    "                    total = []\n",
    "                    for bar in ax.patches:\n",
    "                        height = bar.get_height()\n",
    "                        total.append(height)\n",
    "                    total = sum(total)\n",
    "                    \n",
    "                    sizes = []\n",
    "                    for bar in ax.patches:\n",
    "                        height = bar.get_height()\n",
    "                        sizes.append(height)\n",
    "                        ax.text(bar.get_x() + bar.get_width()/1.6,\n",
    "                                height+200,\n",
    "                                f'{round((height/total)*100, 2)}%',\n",
    "                                ha = 'center',\n",
    "                                fontsize = 12\n",
    "                        )\n",
    "                    ax.set_ylim(0, max(sizes)*1.1)\n",
    "                    k = k + 1\n",
    "        else:\n",
    "            fig, axis = plt.subplots(linhas, colunas, figsize=(14, 10), sharey=True)\n",
    "            k = 0\n",
    "            for i in np.arange(linhas):\n",
    "                for j in np.arange(colunas):\n",
    "                    ax = sns.countplot(x = lista_variaveis[k], data = dados, orient = 'h', ax = axis[i, j], color='#1FB3E5')\n",
    "                    ax.set_xlabel(f'{lista_variaveis[k]}', fontsize = 14)\n",
    "                    ax.set_ylabel(f'Quantidade', fontsize = 14)\n",
    "                    total = []\n",
    "                    for bar in ax.patches:\n",
    "                        height = bar.get_height()\n",
    "                        total.append(height)\n",
    "                    total = sum(total)\n",
    "                    \n",
    "                    sizes = []\n",
    "                    for bar in ax.patches:\n",
    "                        height = bar.get_height()\n",
    "                        sizes.append(height)\n",
    "                        ax.text(bar.get_x() + bar.get_width()/1.6,\n",
    "                                height+200,\n",
    "                                f'{round((height/total)*100, 2)}%',\n",
    "                                ha = 'center',\n",
    "                                fontsize = 12\n",
    "                        )\n",
    "                    ax.set_ylim(0, max(sizes)*1.1)\n",
    "                    k = k + 1\n"
   ]
  }
 ],
 "metadata": {
  "kernelspec": {
   "display_name": "Python 3.9.12 ('base')",
   "language": "python",
   "name": "python3"
  },
  "language_info": {
   "codemirror_mode": {
    "name": "ipython",
    "version": 3
   },
   "file_extension": ".py",
   "mimetype": "text/x-python",
   "name": "python",
   "nbconvert_exporter": "python",
   "pygments_lexer": "ipython3",
   "version": "3.9.12 (main, Apr  4 2022, 05:22:27) [MSC v.1916 64 bit (AMD64)]"
  },
  "vscode": {
   "interpreter": {
    "hash": "5a9a036f549c34521959f2e35c11282d59c2fa6997060d671aa6f29f1c44b680"
   }
  }
 },
 "nbformat": 4,
 "nbformat_minor": 5
}
